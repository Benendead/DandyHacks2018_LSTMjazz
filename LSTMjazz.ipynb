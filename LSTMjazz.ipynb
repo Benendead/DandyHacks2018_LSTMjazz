{
  "nbformat": 4,
  "nbformat_minor": 0,
  "metadata": {
    "colab": {
      "name": "LSTMjazz",
      "version": "0.3.2",
      "provenance": [],
      "collapsed_sections": [
        "qrAz73-p6WfC",
        "71NUkzDoUl1P"
      ],
      "include_colab_link": true
    },
    "kernelspec": {
      "name": "python3",
      "display_name": "Python 3"
    },
    "accelerator": "GPU"
  },
  "cells": [
    {
      "cell_type": "markdown",
      "metadata": {
        "id": "view-in-github",
        "colab_type": "text"
      },
      "source": [
        "<a href=\"https://colab.research.google.com/github/Benendead/LSTMjazz/blob/master/LSTMjazz.ipynb\" target=\"_parent\"><img src=\"https://colab.research.google.com/assets/colab-badge.svg\" alt=\"Open In Colab\"/></a>"
      ]
    },
    {
      "metadata": {
        "id": "qrAz73-p6WfC",
        "colab_type": "text"
      },
      "cell_type": "markdown",
      "source": [
        "# Setup for Music21"
      ]
    },
    {
      "metadata": {
        "id": "oRCPqKuWImeW",
        "colab_type": "code",
        "outputId": "9c494a77-1997-4e3d-9c2d-c6a68f51ee12",
        "colab": {
          "base_uri": "https://localhost:8080/",
          "height": 1428
        }
      },
      "cell_type": "code",
      "source": [
        "# Check which version of Linux we have, and our distribution.\n",
        "!uname\n",
        "!uname -r\n",
        "!lsb_release -a\n",
        "\n",
        "# Updates the Linux package installer thing we need to use.\n",
        "!apt upgrade\n",
        "\n",
        "# Allows us to install directly from source, as we're about to do for Lilypond.\n",
        "!sed -i '/deb-src/s/^# //' /etc/apt/sources.list && apt update\n",
        "\n",
        "# Build the dependencies for Lilypond.\n",
        "!apt build-dep lilypond\n",
        "\n",
        "# Lilypond also wants us to run this.\n",
        "!apt install autoconf fonts-texgyre texlive-lang-cyrillic\n",
        "\n",
        "# Now install Lilypond.\n",
        "!apt install lilypond"
      ],
      "execution_count": 0,
      "outputs": [
        {
          "output_type": "stream",
          "text": [
            "Linux\n",
            "4.14.65+\n",
            "No LSB modules are available.\n",
            "Distributor ID:\tUbuntu\n",
            "Description:\tUbuntu 18.04.1 LTS\n",
            "Release:\t18.04\n",
            "Codename:\tbionic\n",
            "Reading package lists... Done\n",
            "Building dependency tree       \n",
            "Reading state information... Done\n",
            "Calculating upgrade... Done\n",
            "The following packages have been kept back:\n",
            "  libcudnn7 libnccl2\n",
            "The following packages will be upgraded:\n",
            "  dpkg libldap-2.4-2 libldap-common libssl1.1 openssl ubuntu-keyring\n",
            "6 upgraded, 0 newly installed, 0 to remove and 2 not upgraded.\n",
            "Need to get 2,996 kB of archives.\n",
            "After this operation, 4,096 B of additional disk space will be used.\n",
            "Get:1 http://archive.ubuntu.com/ubuntu bionic-updates/main amd64 dpkg amd64 1.19.0.5ubuntu2.1 [1,140 kB]\n",
            "Get:2 http://archive.ubuntu.com/ubuntu bionic-updates/main amd64 ubuntu-keyring all 2018.09.18.1~18.04.0 [22.4 kB]\n",
            "Get:3 http://archive.ubuntu.com/ubuntu bionic-updates/main amd64 libssl1.1 amd64 1.1.0g-2ubuntu4.3 [1,130 kB]\n",
            "Get:4 http://archive.ubuntu.com/ubuntu bionic-updates/main amd64 openssl amd64 1.1.0g-2ubuntu4.3 [532 kB]\n",
            "Get:5 http://archive.ubuntu.com/ubuntu bionic-updates/main amd64 libldap-common all 2.4.45+dfsg-1ubuntu1.1 [16.6 kB]\n",
            "Get:6 http://archive.ubuntu.com/ubuntu bionic-updates/main amd64 libldap-2.4-2 amd64 2.4.45+dfsg-1ubuntu1.1 [155 kB]\n",
            "Fetched 2,996 kB in 0s (14.1 MB/s)\n",
            "Preconfiguring packages ...\n",
            "(Reading database ... 110842 files and directories currently installed.)\n",
            "Preparing to unpack .../dpkg_1.19.0.5ubuntu2.1_amd64.deb ...\n",
            "Unpacking dpkg (1.19.0.5ubuntu2.1) over (1.19.0.5ubuntu2) ...\n",
            "Setting up dpkg (1.19.0.5ubuntu2.1) ...\n",
            "(Reading database ... 110842 files and directories currently installed.)\n",
            "Preparing to unpack .../ubuntu-keyring_2018.09.18.1~18.04.0_all.deb ...\n",
            "Unpacking ubuntu-keyring (2018.09.18.1~18.04.0) over (2018.02.28) ...\n",
            "Setting up ubuntu-keyring (2018.09.18.1~18.04.0) ...\n",
            "(Reading database ... 110843 files and directories currently installed.)\n",
            "Preparing to unpack .../libssl1.1_1.1.0g-2ubuntu4.3_amd64.deb ...\n",
            "Unpacking libssl1.1:amd64 (1.1.0g-2ubuntu4.3) over (1.1.0g-2ubuntu4.1) ...\n",
            "Preparing to unpack .../openssl_1.1.0g-2ubuntu4.3_amd64.deb ...\n",
            "Unpacking openssl (1.1.0g-2ubuntu4.3) over (1.1.0g-2ubuntu4.1) ...\n",
            "Preparing to unpack .../libldap-common_2.4.45+dfsg-1ubuntu1.1_all.deb ...\n",
            "Unpacking libldap-common (2.4.45+dfsg-1ubuntu1.1) over (2.4.45+dfsg-1ubuntu1) ...\n",
            "Preparing to unpack .../libldap-2.4-2_2.4.45+dfsg-1ubuntu1.1_amd64.deb ...\n",
            "Unpacking libldap-2.4-2:amd64 (2.4.45+dfsg-1ubuntu1.1) over (2.4.45+dfsg-1ubuntu1) ...\n",
            "Setting up libldap-common (2.4.45+dfsg-1ubuntu1.1) ...\n",
            "Processing triggers for libc-bin (2.27-3ubuntu1) ...\n",
            "Setting up libldap-2.4-2:amd64 (2.4.45+dfsg-1ubuntu1.1) ...\n",
            "Setting up libssl1.1:amd64 (1.1.0g-2ubuntu4.3) ...\n",
            "Setting up openssl (1.1.0g-2ubuntu4.3) ...\n",
            "Processing triggers for man-db (2.8.3-2ubuntu0.1) ...\n",
            "Processing triggers for libc-bin (2.27-3ubuntu1) ...\n",
            "Get:1 http://ppa.launchpad.net/graphics-drivers/ppa/ubuntu bionic InRelease [21.3 kB]\n",
            "Hit:2 http://archive.ubuntu.com/ubuntu bionic InRelease\n",
            "Get:3 http://archive.ubuntu.com/ubuntu bionic-updates InRelease [88.7 kB]\n",
            "Get:4 http://security.ubuntu.com/ubuntu bionic-security InRelease [83.2 kB]\n",
            "Get:5 http://archive.ubuntu.com/ubuntu bionic-backports InRelease [74.6 kB]\n",
            "Get:6 http://archive.canonical.com/ubuntu bionic InRelease [10.2 kB]\n",
            "Ign:7 https://developer.download.nvidia.com/compute/cuda/repos/ubuntu1710/x86_64  InRelease\n",
            "Get:8 http://archive.ubuntu.com/ubuntu bionic/universe Sources [11.5 MB]\n",
            "Ign:9 https://developer.download.nvidia.com/compute/machine-learning/repos/ubuntu1604/x86_64  InRelease\n",
            "Hit:10 https://developer.download.nvidia.com/compute/cuda/repos/ubuntu1710/x86_64  Release\n",
            "Hit:11 https://developer.download.nvidia.com/compute/machine-learning/repos/ubuntu1604/x86_64  Release\n",
            "Get:12 http://ppa.launchpad.net/graphics-drivers/ppa/ubuntu bionic/main amd64 Packages [27.2 kB]\n",
            "Get:13 http://archive.ubuntu.com/ubuntu bionic/main Sources [1,063 kB]\n",
            "Get:14 http://archive.ubuntu.com/ubuntu bionic/multiverse Sources [216 kB]\n",
            "Get:15 http://archive.ubuntu.com/ubuntu bionic/restricted Sources [5,823 B]\n",
            "Get:16 http://security.ubuntu.com/ubuntu bionic-security/multiverse Sources [1,266 B]\n",
            "Get:17 http://security.ubuntu.com/ubuntu bionic-security/universe Sources [32.5 kB]\n",
            "Get:18 http://security.ubuntu.com/ubuntu bionic-security/main Sources [79.8 kB]\n",
            "Get:19 http://security.ubuntu.com/ubuntu bionic-security/universe amd64 Packages [135 kB]\n",
            "Get:20 http://security.ubuntu.com/ubuntu bionic-security/main amd64 Packages [300 kB]\n",
            "Get:21 http://archive.ubuntu.com/ubuntu bionic-updates/restricted Sources [2,092 B]\n",
            "Get:22 http://archive.ubuntu.com/ubuntu bionic-updates/multiverse Sources [3,978 B]\n",
            "Get:23 http://archive.ubuntu.com/ubuntu bionic-updates/universe Sources [168 kB]\n",
            "Get:24 http://archive.ubuntu.com/ubuntu bionic-updates/main Sources [287 kB]\n",
            "Get:25 http://archive.ubuntu.com/ubuntu bionic-updates/universe amd64 Packages [900 kB]\n",
            "Get:26 http://archive.ubuntu.com/ubuntu bionic-updates/main amd64 Packages [618 kB]\n",
            "Get:27 http://archive.ubuntu.com/ubuntu bionic-backports/universe Sources [2,069 B]\n",
            "Get:28 http://archive.canonical.com/ubuntu bionic/partner Sources [1,906 B]\n",
            "Fetched 15.6 MB in 2s (6,368 kB/s)\n",
            "Reading package lists... Done\n",
            "Building dependency tree       \n",
            "Reading state information... Done\n",
            "6 packages can be upgraded. Run 'apt list --upgradable' to see them.\n"
          ],
          "name": "stdout"
        }
      ]
    },
    {
      "metadata": {
        "id": "K1sGtLK3V9hE",
        "colab_type": "code",
        "colab": {}
      },
      "cell_type": "code",
      "source": [
        "# Also install Musescore.\n",
        "!apt install musescore"
      ],
      "execution_count": 0,
      "outputs": []
    },
    {
      "metadata": {
        "id": "vzW5ArR5O_sU",
        "colab_type": "code",
        "colab": {}
      },
      "cell_type": "code",
      "source": [
        "!whereis musescore\n",
        "!whereis lilypond"
      ],
      "execution_count": 0,
      "outputs": []
    },
    {
      "metadata": {
        "id": "U7TuyEQ-KSpR",
        "colab_type": "text"
      },
      "cell_type": "markdown",
      "source": [
        "# Import Libraries and Data"
      ]
    },
    {
      "metadata": {
        "id": "-bC7ni7g6dLH",
        "colab_type": "code",
        "outputId": "57dd14fe-4c61-4a79-a0e7-59b6a653f277",
        "colab": {
          "base_uri": "https://localhost:8080/",
          "height": 34
        }
      },
      "cell_type": "code",
      "source": [
        "!pip install music21\n",
        "\n",
        "# m21.environment.set('pdfPath', '/usr/bin/musescore')\n",
        "# m21.environment.set('graphicsPath', '/usr/bin/musescore')\n",
        "# m21.environment.set('musescoreDirectPNGPath', '/usr/bin/musescore')\n",
        "# m21.environment.UserSettings()['lilypondPath'] = '/usr/bin/lilypond'"
      ],
      "execution_count": 1,
      "outputs": [
        {
          "output_type": "stream",
          "text": [
            "Requirement already satisfied: music21 in /usr/local/lib/python3.6/dist-packages (5.5.0)\n"
          ],
          "name": "stdout"
        }
      ]
    },
    {
      "metadata": {
        "id": "P4ZotesOeLmi",
        "colab_type": "code",
        "colab": {}
      },
      "cell_type": "code",
      "source": [
        "import music21 as m21\n",
        "import glob"
      ],
      "execution_count": 0,
      "outputs": []
    },
    {
      "metadata": {
        "id": "8woQ0Mf54o4j",
        "colab_type": "code",
        "outputId": "487558ac-823e-4613-e3e9-d5c67689e689",
        "colab": {
          "base_uri": "https://localhost:8080/",
          "height": 136
        }
      },
      "cell_type": "code",
      "source": [
        "!git clone https://github.com/Benendead/LSTMjazz/"
      ],
      "execution_count": 3,
      "outputs": [
        {
          "output_type": "stream",
          "text": [
            "Cloning into 'LSTMjazz'...\n",
            "remote: Enumerating objects: 9, done.\u001b[K\n",
            "remote: Counting objects: 100% (9/9), done.\u001b[K\n",
            "remote: Compressing objects: 100% (9/9), done.\u001b[K\n",
            "remote: Total 148 (delta 3), reused 0 (delta 0), pack-reused 139\u001b[K\n",
            "Receiving objects: 100% (148/148), 409.83 KiB | 763.00 KiB/s, done.\n",
            "Resolving deltas: 100% (64/64), done.\n"
          ],
          "name": "stdout"
        }
      ]
    },
    {
      "metadata": {
        "id": "KqDtj5mhFajp",
        "colab_type": "code",
        "outputId": "e0c58515-5234-40d8-c527-7fc772a14438",
        "colab": {
          "base_uri": "https://localhost:8080/",
          "height": 34
        }
      },
      "cell_type": "code",
      "source": [
        "# Check out the directory.\n",
        "!ls LSTMjazz"
      ],
      "execution_count": 4,
      "outputs": [
        {
          "output_type": "stream",
          "text": [
            "Datasets  Keyboard.py  LSTMjazz.ipynb  README.md\n"
          ],
          "name": "stdout"
        }
      ]
    },
    {
      "metadata": {
        "id": "H5a8uaJ8Fiy7",
        "colab_type": "code",
        "outputId": "ee7f6d69-4fc2-45ca-aebc-44969a983fdc",
        "colab": {
          "base_uri": "https://localhost:8080/",
          "height": 442
        }
      },
      "cell_type": "code",
      "source": [
        "# Find the songs.\n",
        "!ls LSTMjazz/Datasets/\"Omnibook Mxml\""
      ],
      "execution_count": 5,
      "outputs": [
        {
          "output_type": "stream",
          "text": [
            " An_Oscar_For_Treadwell.xml   Kim_2.xml\n",
            " Another_Hairdo.xml\t      Ko_Ko.xml\n",
            " Anthropology.xml\t      Laird_Baird.xml\n",
            " Au_Private_1.xml\t      Marmaduke.xml\n",
            " Au_Private_2.xml\t      Mohawk_1.xml\n",
            " Back_Home_Blues.xml\t      Mohawk_2.xml\n",
            " Barbados.xml\t\t      Moose_The_Mooche.xml\n",
            "\"Billies's_Bounce.xml\"\t      My_Little_Suede_Shoes.xml\n",
            " Bird_Gets_The_Worm.xml      \"Now's_The_Time_1.xml\"\n",
            " Bloomdido.xml\t\t     \"Now's_The_Time_2.xml\"\n",
            " Blue_Bird.xml\t\t      Ornithology.xml\n",
            " Blues_For_Alice.xml\t      Passport.xml\n",
            " Buzzy.xml\t\t      Perhaps.xml\n",
            " Card_Board.xml\t\t      Red_Cross.xml\n",
            " Celerity.xml\t\t      Relaxing_With_Lee.xml\n",
            " Chasing_The_Bird.xml\t      Scrapple_From_The_Apple.xml\n",
            " Cheryl.xml\t\t      Segment.xml\n",
            " Chi_Chi.xml\t\t      Shawnuff.xml\n",
            " Confirmation.xml\t      Si_Si.xml\n",
            " Cosmic_Rays.xml\t      Steeplechase.xml\n",
            " Dewey_Square.xml\t      The_Bird.xml\n",
            " Diverse.xml\t\t      Thriving_From_A_Riff.xml\n",
            " Donna_Lee.xml\t\t      Visa.xml\n",
            " KC_Blues.xml\t\t      Warming_Up_A_Riff.xml\n",
            " Kim_1.xml\t\t      Yardbird_Suite.xml\n"
          ],
          "name": "stdout"
        }
      ]
    },
    {
      "metadata": {
        "id": "TYw_0R0wCQNI",
        "colab_type": "code",
        "outputId": "a8ddb2a2-80d5-424f-f237-575df4b013bd",
        "colab": {
          "base_uri": "https://localhost:8080/",
          "height": 204
        }
      },
      "cell_type": "code",
      "source": [
        "# Import the songs into a list.\n",
        "\n",
        "streams = []\n",
        "names = []\n",
        "i = 1\n",
        "for xml_file in glob.glob(\"LSTMjazz/Datasets/*/*.xml\"): # Selects all .xml files in the Datasets folder.\n",
        "    if (i == 1 or i % 5 == 0):\n",
        "      print('Processing song ', i, \":\", xml_file)\n",
        "    newSong = m21.converter.parse(xml_file)\n",
        "    streams.append(newSong)\n",
        "    \n",
        "    songName = xml_file[32:-4]                          # Formats xml_file to get the name of the song.\n",
        "    names.append(songName)\n",
        "    \n",
        "    i = i + 1"
      ],
      "execution_count": 6,
      "outputs": [
        {
          "output_type": "stream",
          "text": [
            "Processing song  1 : LSTMjazz/Datasets/Omnibook Mxml/Thriving_From_A_Riff.xml\n",
            "Processing song  5 : LSTMjazz/Datasets/Omnibook Mxml/Bird_Gets_The_Worm.xml\n",
            "Processing song  10 : LSTMjazz/Datasets/Omnibook Mxml/Warming_Up_A_Riff.xml\n",
            "Processing song  15 : LSTMjazz/Datasets/Omnibook Mxml/Buzzy.xml\n",
            "Processing song  20 : LSTMjazz/Datasets/Omnibook Mxml/Kim_1.xml\n",
            "Processing song  25 : LSTMjazz/Datasets/Omnibook Mxml/Moose_The_Mooche.xml\n",
            "Processing song  30 : LSTMjazz/Datasets/Omnibook Mxml/Dewey_Square.xml\n",
            "Processing song  35 : LSTMjazz/Datasets/Omnibook Mxml/Segment.xml\n",
            "Processing song  40 : LSTMjazz/Datasets/Omnibook Mxml/Blues_For_Alice.xml\n",
            "Processing song  45 : LSTMjazz/Datasets/Omnibook Mxml/Celerity.xml\n",
            "Processing song  50 : LSTMjazz/Datasets/Omnibook Mxml/Si_Si.xml\n"
          ],
          "name": "stdout"
        }
      ]
    },
    {
      "metadata": {
        "id": "TK4G3-eb4a-j",
        "colab_type": "text"
      },
      "cell_type": "markdown",
      "source": [
        "# Format Data: Chords"
      ]
    },
    {
      "metadata": {
        "id": "GPn-EvGJ2acE",
        "colab_type": "code",
        "colab": {}
      },
      "cell_type": "code",
      "source": [
        "def formatStream(stream):\n",
        "  m21.harmony.realizeChordSymbolDurations(stream)           # Fills out chords' proper durations.\n",
        "  key = stream.analyze(\"key\")                               # Finds how far off we are from C.\n",
        "  i = m21.interval.Interval(key.tonic, m21.pitch.Pitch(\"C\"))\n",
        "  transposedStream = stream.transpose(i)                    # Transposes us that far to C.\n",
        "  return transposedStream"
      ],
      "execution_count": 0,
      "outputs": []
    },
    {
      "metadata": {
        "id": "CFJp3D292soh",
        "colab_type": "code",
        "outputId": "c7a2d65e-6014-4045-cb29-46470cda4ed3",
        "colab": {
          "base_uri": "https://localhost:8080/",
          "height": 204
        }
      },
      "cell_type": "code",
      "source": [
        "# Realize chord durations and also transpose all songs to Cmaj or Amin (no flats/sharps).\n",
        "betterStreams = []\n",
        "\n",
        "i = 1\n",
        "for s in streams:\n",
        "  if (i == 1 or i % 5 == 0):\n",
        "    print('Processing song', i)\n",
        "  newStream = formatStream(s)\n",
        "  betterStreams.append(newStream)\n",
        "  i = i + 1"
      ],
      "execution_count": 8,
      "outputs": [
        {
          "output_type": "stream",
          "text": [
            "Processing song 1\n",
            "Processing song 5\n",
            "Processing song 10\n",
            "Processing song 15\n",
            "Processing song 20\n",
            "Processing song 25\n",
            "Processing song 30\n",
            "Processing song 35\n",
            "Processing song 40\n",
            "Processing song 45\n",
            "Processing song 50\n"
          ],
          "name": "stdout"
        }
      ]
    },
    {
      "metadata": {
        "id": "g5LxG0s_1fpc",
        "colab_type": "code",
        "colab": {}
      },
      "cell_type": "code",
      "source": [
        "def getDuration(stream, display = False):\n",
        "  \"\"\"\n",
        "  Takes a Music21 stream and returns the total length of the chords in the stream.\n",
        "  \"\"\"\n",
        "  part = stream.parts[0]\n",
        "  sumDuration = 0\n",
        "  \n",
        "  for m in part:                                            # For measures in the song...\n",
        "    if isinstance(m, m21.stream.Measure):\n",
        "      for c in m.notes:\n",
        "        if isinstance(c, m21.harmony.ChordSymbol):          # For the chords...\n",
        "          sumDuration = sumDuration + c.duration.quarterLength\n",
        "          \n",
        "  if (display):\n",
        "    print(\"Total length of song is\", sumDuration, \"beats.\")\n",
        "  \n",
        "  return sumDuration"
      ],
      "execution_count": 0,
      "outputs": []
    },
    {
      "metadata": {
        "id": "kJq9OKc05Mr5",
        "colab_type": "code",
        "outputId": "6e8704fa-0d2c-4bfa-cf1c-bce74f73c55a",
        "colab": {
          "base_uri": "https://localhost:8080/",
          "height": 34
        }
      },
      "cell_type": "code",
      "source": [
        "durations = []\n",
        "\n",
        "total = 0\n",
        "for s in betterStreams:\n",
        "  duration = getDuration(s)\n",
        "  durations.append(duration)\n",
        "  total = total + duration\n",
        "  \n",
        "print(\"We have\", total, \"total beats of data.\")"
      ],
      "execution_count": 10,
      "outputs": [
        {
          "output_type": "stream",
          "text": [
            "We have 14084.0 total beats of data.\n"
          ],
          "name": "stdout"
        }
      ]
    },
    {
      "metadata": {
        "id": "NU5oJcqk5exm",
        "colab_type": "code",
        "outputId": "8a9be198-ed84-447b-c5be-9eb021c3ce33",
        "colab": {
          "base_uri": "https://localhost:8080/",
          "height": 346
        }
      },
      "cell_type": "code",
      "source": [
        "# Some insight into the durations of the songs we have.\n",
        "\n",
        "import matplotlib.pyplot as plt\n",
        "import numpy as np\n",
        "\n",
        "n_bins = 27\n",
        "x = np.array(durations)\n",
        "\n",
        "fig, ax = plt.subplots()\n",
        "\n",
        "# We can set the number of bins with the `bins` kwarg\n",
        "hist = ax.hist(x, bins = n_bins)"
      ],
      "execution_count": 11,
      "outputs": [
        {
          "output_type": "display_data",
          "data": {
            "image/png": "[encoded data removed]",
            "text/plain": [
              "<matplotlib.figure.Figure at 0x7f887357c518>"
            ]
          },
          "metadata": {
            "tags": [],
            "image/png": {
              "width": 485,
              "height": 329
            }
          }
        }
      ]
    },
    {
      "metadata": {
        "id": "FOFzELs6NTV5",
        "colab_type": "code",
        "colab": {}
      },
      "cell_type": "code",
      "source": [
        "def printChords(stream):\n",
        "  part = stream.parts[0]\n",
        "  \n",
        "  # Collect the chords in the song.\n",
        "  for m in part:                                     # For measures in the song...\n",
        "    if isinstance(m, m21.stream.Measure):\n",
        "      for c in m.notes:\n",
        "        if isinstance(c, m21.harmony.ChordSymbol):   # If this object is a chord...\n",
        "          notesInChord = \"\"\n",
        "          for p in c.pitches:\n",
        "            p.octave = 4\n",
        "            num = (p.midi - 60) % 12                 # num will range from 0 to 11.\n",
        "            notesInChord = notesInChord + str(num) + \" \"\n",
        "          \n",
        "          measure = int((m.offset / 4.) + 1)\n",
        "          print(\"Measure\", measure, \":\", str(c.figure), \"for\", str(c.duration.quarterLength), \"beats. Notes:\", notesInChord)"
      ],
      "execution_count": 0,
      "outputs": []
    },
    {
      "metadata": {
        "id": "ot-kZgHkO6Z0",
        "colab_type": "code",
        "outputId": "9822816f-8a69-4102-fee8-310438d36aa7",
        "colab": {
          "base_uri": "https://localhost:8080/",
          "height": 2499
        }
      },
      "cell_type": "code",
      "source": [
        "printChords(betterStreams[9])\n",
        "\n",
        "# Note measure 115 here:\n",
        "# The chord G#7 has notes G#, B#, D#, and F#.\n",
        "# B#4 would have given us note 73, which minus 60 is 13, hence requiring the modulo 12 seen above."
      ],
      "execution_count": 13,
      "outputs": [
        {
          "output_type": "stream",
          "text": [
            "Measure 1 : G7 for 4.0 beats. Notes: 7 11 2 5 \n",
            "Measure 2 : C for 4.0 beats. Notes: 0 4 7 \n",
            "Measure 3 : C for 4.0 beats. Notes: 0 4 7 \n",
            "Measure 4 : Gm for 4.0 beats. Notes: 7 10 2 \n",
            "Measure 5 : C7 for 4.0 beats. Notes: 0 4 7 10 \n",
            "Measure 6 : F for 4.0 beats. Notes: 5 9 0 \n",
            "Measure 7 : F for 4.0 beats. Notes: 5 9 0 \n",
            "Measure 8 : Fm for 4.0 beats. Notes: 5 8 0 \n",
            "Measure 9 : B-7 for 4.0 beats. Notes: 10 2 5 8 \n",
            "Measure 10 : C for 4.0 beats. Notes: 0 4 7 \n",
            "Measure 11 : C for 4.0 beats. Notes: 0 4 7 \n",
            "Measure 12 : D7 for 4.0 beats. Notes: 2 6 9 0 \n",
            "Measure 13 : D7 for 4.0 beats. Notes: 2 6 9 0 \n",
            "Measure 14 : Dm for 4.0 beats. Notes: 2 5 9 \n",
            "Measure 15 : G7 for 4.0 beats. Notes: 7 11 2 5 \n",
            "Measure 16 : C for 4.0 beats. Notes: 0 4 7 \n",
            "Measure 17 : C for 4.0 beats. Notes: 0 4 7 \n",
            "Measure 18 : C for 4.0 beats. Notes: 0 4 7 \n",
            "Measure 19 : C for 4.0 beats. Notes: 0 4 7 \n",
            "Measure 20 : Gm for 4.0 beats. Notes: 7 10 2 \n",
            "Measure 21 : C7 for 4.0 beats. Notes: 0 4 7 10 \n",
            "Measure 22 : F for 4.0 beats. Notes: 5 9 0 \n",
            "Measure 23 : F for 4.0 beats. Notes: 5 9 0 \n",
            "Measure 24 : Fm for 4.0 beats. Notes: 5 8 0 \n",
            "Measure 25 : B-7 for 4.0 beats. Notes: 10 2 5 8 \n",
            "Measure 26 : C for 4.0 beats. Notes: 0 4 7 \n",
            "Measure 27 : C for 4.0 beats. Notes: 0 4 7 \n",
            "Measure 28 : D7 for 4.0 beats. Notes: 2 6 9 0 \n",
            "Measure 29 : D7 for 4.0 beats. Notes: 2 6 9 0 \n",
            "Measure 30 : Dm for 4.0 beats. Notes: 2 5 9 \n",
            "Measure 31 : A7 for 4.0 beats. Notes: 9 1 4 7 \n",
            "Measure 32 : Dm for 4.0 beats. Notes: 2 5 9 \n",
            "Measure 33 : G7 for 4.0 beats. Notes: 7 11 2 5 \n",
            "Measure 34 : C for 4.0 beats. Notes: 0 4 7 \n",
            "Measure 35 : C for 4.0 beats. Notes: 0 4 7 \n",
            "Measure 36 : Gm for 4.0 beats. Notes: 7 10 2 \n",
            "Measure 37 : C7 for 4.0 beats. Notes: 0 4 7 10 \n",
            "Measure 38 : F for 4.0 beats. Notes: 5 9 0 \n",
            "Measure 39 : F for 4.0 beats. Notes: 5 9 0 \n",
            "Measure 40 : Fm for 4.0 beats. Notes: 5 8 0 \n",
            "Measure 41 : B-7 for 4.0 beats. Notes: 10 2 5 8 \n",
            "Measure 42 : C for 4.0 beats. Notes: 0 4 7 \n",
            "Measure 43 : C for 4.0 beats. Notes: 0 4 7 \n",
            "Measure 44 : D7 for 4.0 beats. Notes: 2 6 9 0 \n",
            "Measure 45 : D7 for 4.0 beats. Notes: 2 6 9 0 \n",
            "Measure 46 : Dm for 4.0 beats. Notes: 2 5 9 \n",
            "Measure 47 : G7 for 4.0 beats. Notes: 7 11 2 5 \n",
            "Measure 48 : C for 4.0 beats. Notes: 0 4 7 \n",
            "Measure 49 : C for 4.0 beats. Notes: 0 4 7 \n",
            "Measure 50 : E-m for 4.0 beats. Notes: 3 6 10 \n",
            "Measure 51 : A-7 for 4.0 beats. Notes: 8 0 3 6 \n",
            "Measure 52 : C# for 4.0 beats. Notes: 1 5 8 \n",
            "Measure 53 : C# for 4.0 beats. Notes: 1 5 8 \n",
            "Measure 54 : C#m for 4.0 beats. Notes: 1 4 8 \n",
            "Measure 55 : F#7 for 4.0 beats. Notes: 6 10 1 4 \n",
            "Measure 56 : B for 4.0 beats. Notes: 11 3 6 \n",
            "Measure 57 : B for 4.0 beats. Notes: 11 3 6 \n",
            "Measure 58 : Bm for 4.0 beats. Notes: 11 2 6 \n",
            "Measure 59 : E7 for 4.0 beats. Notes: 4 8 11 2 \n",
            "Measure 60 : A for 4.0 beats. Notes: 9 1 4 \n",
            "Measure 61 : A for 4.0 beats. Notes: 9 1 4 \n",
            "Measure 62 : Am for 4.0 beats. Notes: 9 0 4 \n",
            "Measure 63 : D7 for 4.0 beats. Notes: 2 6 9 0 \n",
            "Measure 64 : Dm for 4.0 beats. Notes: 2 5 9 \n",
            "Measure 65 : G7 for 4.0 beats. Notes: 7 11 2 5 \n",
            "Measure 66 : C for 4.0 beats. Notes: 0 4 7 \n",
            "Measure 67 : C for 4.0 beats. Notes: 0 4 7 \n",
            "Measure 68 : Gm for 4.0 beats. Notes: 7 10 2 \n",
            "Measure 69 : C7 for 4.0 beats. Notes: 0 4 7 10 \n",
            "Measure 70 : F for 4.0 beats. Notes: 5 9 0 \n",
            "Measure 71 : F for 4.0 beats. Notes: 5 9 0 \n",
            "Measure 72 : Fm for 4.0 beats. Notes: 5 8 0 \n",
            "Measure 73 : B-7 for 4.0 beats. Notes: 10 2 5 8 \n",
            "Measure 74 : C for 4.0 beats. Notes: 0 4 7 \n",
            "Measure 75 : C for 4.0 beats. Notes: 0 4 7 \n",
            "Measure 76 : D7 for 4.0 beats. Notes: 2 6 9 0 \n",
            "Measure 77 : D7 for 4.0 beats. Notes: 2 6 9 0 \n",
            "Measure 78 : Dm for 4.0 beats. Notes: 2 5 9 \n",
            "Measure 79 : G7 for 4.0 beats. Notes: 7 11 2 5 \n",
            "Measure 80 : C for 4.0 beats. Notes: 0 4 7 \n",
            "Measure 81 : G7 for 4.0 beats. Notes: 7 11 2 5 \n",
            "Measure 82 : C for 4.0 beats. Notes: 0 4 7 \n",
            "Measure 83 : C for 4.0 beats. Notes: 0 4 7 \n",
            "Measure 84 : Gm for 4.0 beats. Notes: 7 10 2 \n",
            "Measure 85 : C7 for 4.0 beats. Notes: 0 4 7 10 \n",
            "Measure 86 : F for 4.0 beats. Notes: 5 9 0 \n",
            "Measure 87 : F for 4.0 beats. Notes: 5 9 0 \n",
            "Measure 88 : Fm for 4.0 beats. Notes: 5 8 0 \n",
            "Measure 89 : B-7 for 4.0 beats. Notes: 10 2 5 8 \n",
            "Measure 90 : C for 4.0 beats. Notes: 0 4 7 \n",
            "Measure 91 : C for 4.0 beats. Notes: 0 4 7 \n",
            "Measure 92 : D7 for 4.0 beats. Notes: 2 6 9 0 \n",
            "Measure 93 : D7 for 4.0 beats. Notes: 2 6 9 0 \n",
            "Measure 94 : Dm for 4.0 beats. Notes: 2 5 9 \n",
            "Measure 95 : A7 for 4.0 beats. Notes: 9 1 4 7 \n",
            "Measure 96 : Dm for 4.0 beats. Notes: 2 5 9 \n",
            "Measure 97 : G7 for 4.0 beats. Notes: 7 11 2 5 \n",
            "Measure 98 : C for 4.0 beats. Notes: 0 4 7 \n",
            "Measure 99 : C for 4.0 beats. Notes: 0 4 7 \n",
            "Measure 100 : Gm for 4.0 beats. Notes: 7 10 2 \n",
            "Measure 101 : C7 for 4.0 beats. Notes: 0 4 7 10 \n",
            "Measure 102 : F for 4.0 beats. Notes: 5 9 0 \n",
            "Measure 103 : F for 4.0 beats. Notes: 5 9 0 \n",
            "Measure 104 : Fm for 4.0 beats. Notes: 5 8 0 \n",
            "Measure 105 : B-7 for 4.0 beats. Notes: 10 2 5 8 \n",
            "Measure 106 : C for 4.0 beats. Notes: 0 4 7 \n",
            "Measure 107 : C for 4.0 beats. Notes: 0 4 7 \n",
            "Measure 108 : D7 for 4.0 beats. Notes: 2 6 9 0 \n",
            "Measure 109 : D7 for 4.0 beats. Notes: 2 6 9 0 \n",
            "Measure 110 : Dm for 4.0 beats. Notes: 2 5 9 \n",
            "Measure 111 : G7 for 4.0 beats. Notes: 7 11 2 5 \n",
            "Measure 112 : C for 4.0 beats. Notes: 0 4 7 \n",
            "Measure 113 : C for 4.0 beats. Notes: 0 4 7 \n",
            "Measure 114 : D#m for 4.0 beats. Notes: 3 6 10 \n",
            "Measure 115 : G#7 for 4.0 beats. Notes: 8 0 3 6 \n",
            "Measure 116 : C# for 4.0 beats. Notes: 1 5 8 \n",
            "Measure 117 : C# for 4.0 beats. Notes: 1 5 8 \n",
            "Measure 118 : C#m for 4.0 beats. Notes: 1 4 8 \n",
            "Measure 119 : F#7 for 4.0 beats. Notes: 6 10 1 4 \n",
            "Measure 120 : B for 4.0 beats. Notes: 11 3 6 \n",
            "Measure 121 : B for 4.0 beats. Notes: 11 3 6 \n",
            "Measure 122 : Bm for 4.0 beats. Notes: 11 2 6 \n",
            "Measure 123 : E7 for 4.0 beats. Notes: 4 8 11 2 \n",
            "Measure 124 : A for 4.0 beats. Notes: 9 1 4 \n",
            "Measure 125 : A for 4.0 beats. Notes: 9 1 4 \n",
            "Measure 126 : Am for 4.0 beats. Notes: 9 0 4 \n",
            "Measure 127 : D7 for 4.0 beats. Notes: 2 6 9 0 \n",
            "Measure 128 : Dm for 4.0 beats. Notes: 2 5 9 \n",
            "Measure 129 : G7 for 4.0 beats. Notes: 7 11 2 5 \n",
            "Measure 130 : C for 4.0 beats. Notes: 0 4 7 \n",
            "Measure 131 : C for 4.0 beats. Notes: 0 4 7 \n",
            "Measure 132 : Gm for 4.0 beats. Notes: 7 10 2 \n",
            "Measure 133 : C7 for 4.0 beats. Notes: 0 4 7 10 \n",
            "Measure 134 : F for 4.0 beats. Notes: 5 9 0 \n",
            "Measure 135 : F for 4.0 beats. Notes: 5 9 0 \n",
            "Measure 136 : Fm for 4.0 beats. Notes: 5 8 0 \n",
            "Measure 137 : B-7 for 4.0 beats. Notes: 10 2 5 8 \n",
            "Measure 138 : C for 4.0 beats. Notes: 0 4 7 \n",
            "Measure 139 : C for 4.0 beats. Notes: 0 4 7 \n",
            "Measure 140 : D7 for 4.0 beats. Notes: 2 6 9 0 \n",
            "Measure 141 : D7 for 4.0 beats. Notes: 2 6 9 0 \n",
            "Measure 142 : Dm for 4.0 beats. Notes: 2 5 9 \n",
            "Measure 143 : G7 for 4.0 beats. Notes: 7 11 2 5 \n",
            "Measure 144 : C for 4.0 beats. Notes: 0 4 7 \n",
            "Measure 145 : Dm for 2.0 beats. Notes: 2 5 9 \n",
            "Measure 145 : G7 for 2.0 beats. Notes: 7 11 2 5 \n"
          ],
          "name": "stdout"
        }
      ]
    },
    {
      "metadata": {
        "id": "mFByCWi3CiUP",
        "colab_type": "code",
        "colab": {}
      },
      "cell_type": "code",
      "source": [
        "def processChords(stream, duration):\n",
        "  \"\"\"\n",
        "  Create the 2D numpy array which will represent the chords of this song.\n",
        "  NOTE: Vertical of the 2D array represents time.\n",
        "        Horizontal represents the 12 possible chord notes for each tick.\n",
        "  \"\"\"\n",
        "  subdivide = 12   # Here we set the number of subdivisions our data and thus model will consider per beat. Big decision.\n",
        "  ticks = int(duration * subdivide)  # The total number of \"ticks\" in this entire song\n",
        "  \n",
        "  # Create the numpy array to store the chord data.\n",
        "  arr = np.zeros((ticks, 12))\n",
        "  \n",
        "  part = stream.parts[0]\n",
        "  \n",
        "  # Collect the chords in the song.\n",
        "  for m in part:                                     # For measures in the song...\n",
        "    if isinstance(m, m21.stream.Measure):\n",
        "      currOffset = int(m.offset * subdivide)         # This offset is in ticks.\n",
        "      \n",
        "      for c in m.notes:\n",
        "        if isinstance(c, m21.harmony.ChordSymbol):   # If this object is a chord...\n",
        "          ticksInChord = int(c.duration.quarterLength * subdivide)\n",
        "          endOfChord = currOffset + ticksInChord\n",
        "          \n",
        "          notesInChord = []\n",
        "          for p in c.pitches:\n",
        "            p.octave = 4\n",
        "            num = int(p.midi - 60) % 12              # num will range from 0 to 11.\n",
        "            notesInChord.append(num)\n",
        "         \n",
        "          for r in range(currOffset, endOfChord):    # For each row, representing all ticks in this chord...\n",
        "            for n in notesInChord:                   # Set all the notes in this chord to 1 for these ticks.\n",
        "              arr[r][n] = 1\n",
        "          \n",
        "          currOffset = currOffset + ticksInChord     # Account for two chords in a measure by adding the first chord to the offset.\n",
        "          \n",
        "  return arr"
      ],
      "execution_count": 0,
      "outputs": []
    },
    {
      "metadata": {
        "id": "AYUDtm8TFK9N",
        "colab_type": "code",
        "colab": {}
      },
      "cell_type": "code",
      "source": [
        "def checkRows(arr):\n",
        "  for row in arr:\n",
        "    found = False\n",
        "    for c in row:\n",
        "      if (c == 1):\n",
        "        found = True\n",
        "    if (not found):\n",
        "      print(\"Nothing in this row.\")"
      ],
      "execution_count": 0,
      "outputs": []
    },
    {
      "metadata": {
        "id": "Pkh5jzp_DKoQ",
        "colab_type": "code",
        "outputId": "38a335ad-4252-41ec-e322-03c5be17ee21",
        "colab": {
          "base_uri": "https://localhost:8080/",
          "height": 34
        }
      },
      "cell_type": "code",
      "source": [
        "output = processChords(betterStreams[9], durations[9])\n",
        "checkRows(output) # Shows us that each tick has a chord input.\n",
        "len(output)"
      ],
      "execution_count": 16,
      "outputs": [
        {
          "output_type": "execute_result",
          "data": {
            "text/plain": [
              "6960"
            ]
          },
          "metadata": {
            "tags": []
          },
          "execution_count": 16
        }
      ]
    },
    {
      "metadata": {
        "id": "en9hL5H_JL4Q",
        "colab_type": "code",
        "outputId": "0d7adfb6-b802-4798-ec54-017fd3352307",
        "colab": {
          "base_uri": "https://localhost:8080/",
          "height": 136
        }
      },
      "cell_type": "code",
      "source": [
        "output"
      ],
      "execution_count": 17,
      "outputs": [
        {
          "output_type": "execute_result",
          "data": {
            "text/plain": [
              "array([[0., 0., 1., ..., 0., 0., 1.],\n",
              "       [0., 0., 1., ..., 0., 0., 1.],\n",
              "       [0., 0., 1., ..., 0., 0., 1.],\n",
              "       ...,\n",
              "       [0., 0., 1., ..., 0., 0., 1.],\n",
              "       [0., 0., 1., ..., 0., 0., 1.],\n",
              "       [0., 0., 1., ..., 0., 0., 1.]])"
            ]
          },
          "metadata": {
            "tags": []
          },
          "execution_count": 17
        }
      ]
    },
    {
      "metadata": {
        "id": "AbKB6iLxIEnP",
        "colab_type": "code",
        "outputId": "a0203401-3eaa-491f-858b-68a9c2f2b101",
        "colab": {
          "base_uri": "https://localhost:8080/",
          "height": 204
        }
      },
      "cell_type": "code",
      "source": [
        "chords = []\n",
        "\n",
        "i = 1\n",
        "for s in betterStreams:\n",
        "  if (i == 1 or i % 5 == 0):\n",
        "    print(\"Processing song\", i)\n",
        "  d = getDuration(s)\n",
        "  arr = processChords(s, d)\n",
        "  chords.append(d)\n",
        "  i = i + 1"
      ],
      "execution_count": 18,
      "outputs": [
        {
          "output_type": "stream",
          "text": [
            "Processing song 1\n",
            "Processing song 5\n",
            "Processing song 10\n",
            "Processing song 15\n",
            "Processing song 20\n",
            "Processing song 25\n",
            "Processing song 30\n",
            "Processing song 35\n",
            "Processing song 40\n",
            "Processing song 45\n",
            "Processing song 50\n"
          ],
          "name": "stdout"
        }
      ]
    },
    {
      "metadata": {
        "id": "vdU3ESAjTH2h",
        "colab_type": "text"
      },
      "cell_type": "markdown",
      "source": [
        "# Format Data: Notes"
      ]
    },
    {
      "metadata": {
        "id": "rqcZxuHAsqkm",
        "colab_type": "text"
      },
      "cell_type": "markdown",
      "source": [
        "## An Issue with Range"
      ]
    },
    {
      "metadata": {
        "id": "8ei3Lj1uZ--K",
        "colab_type": "text"
      },
      "cell_type": "markdown",
      "source": [
        "If you recall, we've transposed all of the songs to C major. With this comes the issue that some songs are now unplayable in the range of any one type of saxophone. Let's find out just how bad the problem is."
      ]
    },
    {
      "metadata": {
        "id": "anQewRdqTJZm",
        "colab_type": "code",
        "colab": {}
      },
      "cell_type": "code",
      "source": [
        "def findSongMinMax(stream, verbose = False):\n",
        "  # Choose values obviously lower and higher than the MIDI notes in the song.\n",
        "  minimumNoteValue = 500\n",
        "  minPitch = \"\"\n",
        "  maximumNoteValue = 0\n",
        "  maxPitch = \"\"\n",
        "  \n",
        "  part = stream.parts[0]\n",
        "    \n",
        "  # Compare the notes in the song.\n",
        "  for m in part:                                   # For measures in the song...\n",
        "    if isinstance(m, m21.stream.Measure):\n",
        "      for n in m.notes: \n",
        "        if isinstance(n, m21.note.Note):           # If this object is a note...\n",
        "          pitch = n.pitch\n",
        "          num = int(pitch.midi)                    # Get the note's MIDI number\n",
        "            \n",
        "          if (num < minimumNoteValue):\n",
        "            minimumNoteValue = num\n",
        "            minPitch = str(pitch.nameWithOctave)\n",
        "              \n",
        "          if (num > maximumNoteValue):\n",
        "            maximumNoteValue = num\n",
        "            maxPitch = str(pitch.nameWithOctave)\n",
        "            \n",
        "  if (verbose):\n",
        "    print(\"Min:\", str(minimumNoteValue) + \",\", minPitch + \".\\tMax:\", str(maximumNoteValue) + \",\", maxPitch)\n",
        "  \n",
        "  return int(minimumNoteValue), int(maximumNoteValue)"
      ],
      "execution_count": 0,
      "outputs": []
    },
    {
      "metadata": {
        "id": "d7U0Kwijlm7J",
        "colab_type": "code",
        "colab": {}
      },
      "cell_type": "code",
      "source": [
        "def findRange(streams):\n",
        "  minimumNoteValue = 500\n",
        "  minPitch = \"\"\n",
        "  maximumNoteValue = 0\n",
        "  maxPitch = \"\"\n",
        "  \n",
        "  for s in streams:\n",
        "    mn, mx = findSongMinMax(s)\n",
        "    if (mn < minimumNoteValue):\n",
        "      minimumNoteValue = mn\n",
        "    if (mx > maximumNoteValue):\n",
        "      maximumNoteValue = mx\n",
        "  \n",
        "  minMIDI = m21.pitch.Pitch()\n",
        "  minMIDI.midi = minimumNoteValue\n",
        "  minName = minMIDI.nameWithOctave\n",
        "  maxMIDI = m21.pitch.Pitch()\n",
        "  maxMIDI.midi = maximumNoteValue\n",
        "  maxName = maxMIDI.nameWithOctave\n",
        "  print(\"Min MIDI note:\", str(minimumNoteValue) + \",\", minName)\n",
        "  print(\"Max MIDI note:\", str(maximumNoteValue) + \",\", maxName)"
      ],
      "execution_count": 0,
      "outputs": []
    },
    {
      "metadata": {
        "id": "s0MzdoyNaRb3",
        "colab_type": "code",
        "colab": {}
      },
      "cell_type": "code",
      "source": [
        "def getAveragesError(streams):\n",
        "  length = len(streams)\n",
        "  averages = np.zeros(length)\n",
        "  error = np.zeros(length)\n",
        "  \n",
        "  i = 0\n",
        "  for s in streams:\n",
        "    minimum, maximum = findSongMinMax(s)\n",
        "    \n",
        "    average = float(maximum + minimum) / 2.\n",
        "    averages[i] = average\n",
        "    \n",
        "    e = average - minimum\n",
        "    error[i] = e\n",
        "    \n",
        "    i += 1\n",
        "  return averages, error"
      ],
      "execution_count": 0,
      "outputs": []
    },
    {
      "metadata": {
        "id": "jYcpJCf5fIg-",
        "colab_type": "code",
        "colab": {
          "base_uri": "https://localhost:8080/",
          "height": 346
        },
        "outputId": "ccc0dbd8-9baf-41e2-e2f1-011381e96e59"
      },
      "cell_type": "code",
      "source": [
        "# Plot the untransposed dataset version\n",
        "y, e = getAveragesError(streams)\n",
        "plt.errorbar(range(len(y)), y, yerr = e, fmt = \"o\")\n",
        "plt.show()"
      ],
      "execution_count": 22,
      "outputs": [
        {
          "output_type": "display_data",
          "data": {
            "image/png": "[encoded data removed]",
            "text/plain": [
              "<matplotlib.figure.Figure at 0x7f8873505b00>"
            ]
          },
          "metadata": {
            "tags": [],
            "image/png": {
              "width": 478,
              "height": 329
            }
          }
        }
      ]
    },
    {
      "metadata": {
        "id": "whJhstYQjqAr",
        "colab_type": "code",
        "colab": {
          "base_uri": "https://localhost:8080/",
          "height": 68
        },
        "outputId": "96b1ace1-8b9f-49e2-b62d-0c38429aca42"
      },
      "cell_type": "code",
      "source": [
        "print(\"Mean:\", np.mean(y), \"Std Dev:\", np.std(y))\n",
        "findRange(streams)"
      ],
      "execution_count": 23,
      "outputs": [
        {
          "output_type": "stream",
          "text": [
            "Mean: 65.65 Std Dev: 0.9124143795447329\n",
            "Min MIDI note: 50, D3\n",
            "Max MIDI note: 81, A5\n"
          ],
          "name": "stdout"
        }
      ]
    },
    {
      "metadata": {
        "id": "PYC_9tNBjBK9",
        "colab_type": "code",
        "colab": {
          "base_uri": "https://localhost:8080/",
          "height": 346
        },
        "outputId": "5b78c538-4e3f-4f15-eae5-c360a9c60e3c"
      },
      "cell_type": "code",
      "source": [
        "# Plot the transposed dataset version\n",
        "y, e = getAveragesError(betterStreams)\n",
        "plt.errorbar(range(len(y)), y, yerr = e, fmt = \"o\")\n",
        "plt.show()"
      ],
      "execution_count": 24,
      "outputs": [
        {
          "output_type": "display_data",
          "data": {
            "image/png": "[encoded data removed]",
            "text/plain": [
              "<matplotlib.figure.Figure at 0x7f88735553c8>"
            ]
          },
          "metadata": {
            "tags": [],
            "image/png": {
              "width": 478,
              "height": 329
            }
          }
        }
      ]
    },
    {
      "metadata": {
        "id": "54GhOkaCjhOo",
        "colab_type": "code",
        "colab": {
          "base_uri": "https://localhost:8080/",
          "height": 68
        },
        "outputId": "ec10ab6f-60ab-4a86-eb40-5bf83837ff7e"
      },
      "cell_type": "code",
      "source": [
        "print(\"Mean:\", np.mean(y), \"Std Dev:\", np.std(y))\n",
        "findRange(betterStreams)"
      ],
      "execution_count": 25,
      "outputs": [
        {
          "output_type": "stream",
          "text": [
            "Mean: 59.89 Std Dev: 3.803011964219939\n",
            "Min MIDI note: 40, E2\n",
            "Max MIDI note: 80, G#5\n"
          ],
          "name": "stdout"
        }
      ]
    },
    {
      "metadata": {
        "id": "ESEhMQCAWGlz",
        "colab_type": "text"
      },
      "cell_type": "markdown",
      "source": [
        "![MIDI Chart](https://newt.phys.unsw.edu.au/jw/graphics/notes.GIF)  \n",
        "Image from https://newt.phys.unsw.edu.au/jw/notes.html"
      ]
    },
    {
      "metadata": {
        "id": "c13ur9xMXszQ",
        "colab_type": "text"
      },
      "cell_type": "markdown",
      "source": [
        "Checking out a few sources on the range of both alto and tenor saxophone, we see that E2 is about a major third lower than a tenor can play. That said, G#5 is at the edge of an alto's range, which is good.\n",
        "\n",
        "http://www.bristolnotes.com/tutorial/rangesax.htm  \n",
        "http://www.amyschumacher.com/wp-content/uploads/2007/11/rangetrans.pdf"
      ]
    },
    {
      "metadata": {
        "id": "tPHiGB2in4CC",
        "colab_type": "text"
      },
      "cell_type": "markdown",
      "source": [
        "Based on what we've seen, I'm going to move all songs impossible for an alto to play up an octave. This decision is based a discussion with my brother, who plays alto, tenor, and bari sax. He confirmed my intuition, as saxophonists cannot extend their range lower yet can hypothetically play higher than a typical player using altissimo. Hence the bottom limit of an alto saxophone's range is final and we must obey this limitation of the instruement."
      ]
    },
    {
      "metadata": {
        "id": "FHtWK7V6rxjF",
        "colab_type": "text"
      },
      "cell_type": "markdown",
      "source": [
        "The lowest note an alto can play is its Bb below the treble clef, which is the Db the bass clef. This Db3, or MIDI note 49. Hence songs with minimum notes below 49 need to be fixed."
      ]
    },
    {
      "metadata": {
        "id": "GWjJHPohqO6b",
        "colab_type": "code",
        "colab": {}
      },
      "cell_type": "code",
      "source": [
        "def fixOctave(stream):\n",
        "  mn, mx = findSongMinMax(stream, verbose = True)\n",
        "  if (mn < 49):\n",
        "    stream.transpose(12, inPlace = True)\n",
        "  return stream"
      ],
      "execution_count": 0,
      "outputs": []
    },
    {
      "metadata": {
        "id": "KMbQfBNxsma1",
        "colab_type": "code",
        "colab": {
          "base_uri": "https://localhost:8080/",
          "height": 867
        },
        "outputId": "caccb978-fa44-4128-8772-e9386c249a22"
      },
      "cell_type": "code",
      "source": [
        "finalStreams = []\n",
        "for s in betterStreams:\n",
        "  newS = fixOctave(s)\n",
        "  finalStreams.append(s)"
      ],
      "execution_count": 27,
      "outputs": [
        {
          "output_type": "stream",
          "text": [
            "Min: 43, G2.\tMax: 71, B4\n",
            "Min: 49, D-3.\tMax: 73, D-5\n",
            "Min: 48, C3.\tMax: 72, C5\n",
            "Min: 48, C3.\tMax: 75, E-5\n",
            "Min: 48, C3.\tMax: 74, D5\n",
            "Min: 52, E3.\tMax: 76, E5\n",
            "Min: 53, G--3.\tMax: 77, F5\n",
            "Min: 42, F#2.\tMax: 69, A4\n",
            "Min: 41, F2.\tMax: 69, A4\n",
            "Min: 41, F2.\tMax: 71, B4\n",
            "Min: 48, C3.\tMax: 75, E-5\n",
            "Min: 47, B2.\tMax: 72, C5\n",
            "Min: 40, E2.\tMax: 69, A4\n",
            "Min: 41, F2.\tMax: 69, A4\n",
            "Min: 48, C3.\tMax: 74, D5\n",
            "Min: 53, F3.\tMax: 79, G5\n",
            "Min: 48, C3.\tMax: 70, B-4\n",
            "Min: 48, C3.\tMax: 75, E-5\n",
            "Min: 41, F2.\tMax: 69, A4\n",
            "Min: 43, G2.\tMax: 67, G4\n",
            "Min: 43, G2.\tMax: 69, A4\n",
            "Min: 49, D-3.\tMax: 74, D5\n",
            "Min: 48, C3.\tMax: 74, D5\n",
            "Min: 41, F2.\tMax: 69, A4\n",
            "Min: 44, A-2.\tMax: 67, G4\n",
            "Min: 43, G2.\tMax: 69, A4\n",
            "Min: 48, C3.\tMax: 74, D5\n",
            "Min: 43, G2.\tMax: 70, B-4\n",
            "Min: 45, A2.\tMax: 69, A4\n",
            "Min: 49, C#3.\tMax: 75, E-5\n",
            "Min: 50, D3.\tMax: 79, G5\n",
            "Min: 52, E3.\tMax: 78, G-5\n",
            "Min: 47, C-3.\tMax: 72, C5\n",
            "Min: 41, F2.\tMax: 69, A4\n",
            "Min: 43, G2.\tMax: 70, B-4\n",
            "Min: 50, D3.\tMax: 74, D5\n",
            "Min: 50, D3.\tMax: 74, D5\n",
            "Min: 52, E3.\tMax: 79, G5\n",
            "Min: 55, G3.\tMax: 74, D5\n",
            "Min: 48, C3.\tMax: 74, D5\n",
            "Min: 46, B-2.\tMax: 73, D-5\n",
            "Min: 43, G2.\tMax: 72, C5\n",
            "Min: 50, D3.\tMax: 80, A-5\n",
            "Min: 49, D-3.\tMax: 74, D5\n",
            "Min: 45, A2.\tMax: 67, G4\n",
            "Min: 53, F3.\tMax: 78, G-5\n",
            "Min: 53, F3.\tMax: 79, G5\n",
            "Min: 55, G3.\tMax: 79, G5\n",
            "Min: 40, E2.\tMax: 67, G4\n",
            "Min: 50, D3.\tMax: 74, D5\n"
          ],
          "name": "stdout"
        }
      ]
    },
    {
      "metadata": {
        "id": "l0goBcKQtEGe",
        "colab_type": "code",
        "colab": {
          "base_uri": "https://localhost:8080/",
          "height": 346
        },
        "outputId": "3051aeda-dc63-4802-c42e-496cd7a71916"
      },
      "cell_type": "code",
      "source": [
        "# Plot this new dataset version\n",
        "y, e = getAveragesError(finalStreams)\n",
        "plt.errorbar(range(len(y)), y, yerr = e, fmt = \"o\")\n",
        "plt.show()"
      ],
      "execution_count": 28,
      "outputs": [
        {
          "output_type": "display_data",
          "data": {
            "image/png": "[encoded data removed]",
            "text/plain": [
              "<matplotlib.figure.Figure at 0x7f88739d0c18>"
            ]
          },
          "metadata": {
            "tags": [],
            "image/png": {
              "width": 478,
              "height": 329
            }
          }
        }
      ]
    },
    {
      "metadata": {
        "id": "TIEBGuIau-Mc",
        "colab_type": "code",
        "colab": {
          "base_uri": "https://localhost:8080/",
          "height": 68
        },
        "outputId": "1d4b7aee-35a3-4579-930a-21d0c759b303"
      },
      "cell_type": "code",
      "source": [
        "print(\"Mean:\", np.mean(y), \"Std Dev:\", np.std(y))\n",
        "findRange(finalStreams)"
      ],
      "execution_count": 31,
      "outputs": [
        {
          "output_type": "stream",
          "text": [
            "Mean: 67.57 Std Dev: 3.618024322748535\n",
            "Min MIDI note: 49, C#3\n",
            "Max MIDI note: 87, E-6\n"
          ],
          "name": "stdout"
        }
      ]
    },
    {
      "metadata": {
        "id": "71NUkzDoUl1P",
        "colab_type": "text"
      },
      "cell_type": "markdown",
      "source": [
        "# Legacy Works"
      ]
    },
    {
      "metadata": {
        "id": "H_clu4HWAyKB",
        "colab_type": "code",
        "outputId": "47bd00dd-4295-4905-869b-2a577bb9c2e4",
        "colab": {
          "base_uri": "https://localhost:8080/",
          "height": 1717
        }
      },
      "cell_type": "code",
      "source": [
        "noteDuration = 0\n",
        "chordDuration = 0\n",
        "for song in streams:\n",
        "  m21.harmony.realizeChordSymbolDurations(song)\n",
        "  toParse = song.flat.recurse() # recurse() goes over all objects in the Music21 stream.\n",
        "      \n",
        "  for i in range(len(toParse)):\n",
        "    if isinstance(toParse[i], m21.note.Note):\n",
        "      noteDuration += float(toParse[i].quarterLength)\n",
        "      if(toParse[i-1].quarterLength < abs(toParse[i].offset - toParse[i-1].offset)):\n",
        "        noteDuration += abs (-toParse[i-1].offset + toParse[i].offset)\n",
        "    elif isinstance(toParse[i], m21.chord.Chord):\n",
        "      chordDuration += float(toParse[i].quarterLength)\n",
        "  \n",
        "  print(\"Song:\",song.highestTime)\n",
        "  print(\"Duration sum:\", noteDuration)\n",
        "  \n",
        "  noteDuration = 0;\n",
        "  chordDuration = 0;"
      ],
      "execution_count": 0,
      "outputs": [
        {
          "output_type": "stream",
          "text": [
            "Song: 260.0\n",
            "Duration sum: 202.33333333333346\n",
            "Song: 388.0\n",
            "Duration sum: 330.6666666666673\n",
            "Song: 164.0\n",
            "Duration sum: 121.41666666666681\n",
            "Song: 388.0\n",
            "Duration sum: 305.83333333333337\n",
            "Song: 264.0\n",
            "Duration sum: 208.50000000000003\n",
            "Song: 264.0\n",
            "Duration sum: 202.16666666666634\n",
            "Song: 260.0\n",
            "Duration sum: 211.0833333333334\n",
            "Song: 260.0\n",
            "Duration sum: 222.00000000000017\n",
            "Song: 296.0\n",
            "Duration sum: 239.24999999999997\n",
            "Song: 580.0\n",
            "Duration sum: 467.4999999999998\n",
            "Song: 196.0\n",
            "Duration sum: 159.66666666666669\n",
            "Song: 196.0\n",
            "Duration sum: 165.99999999999997\n",
            "Song: 524.0\n",
            "Duration sum: 436.8833333333332\n",
            "Song: 200.0\n",
            "Duration sum: 162.00000000000009\n",
            "Song: 196.0\n",
            "Duration sum: 146.08333333333331\n",
            "Song: 196.0\n",
            "Duration sum: 161.5\n",
            "Song: 264.0\n",
            "Duration sum: 201.50000000000003\n",
            "Song: 200.0\n",
            "Duration sum: 140.8166666666668\n",
            "Song: 516.0\n",
            "Duration sum: 391.4999999999999\n",
            "Song: 392.0\n",
            "Duration sum: 314.16666666666714\n",
            "Song: 264.0\n",
            "Duration sum: 219.83333333333366\n",
            "Song: 248.0\n",
            "Duration sum: 204.33333333333366\n",
            "Song: 244.0\n",
            "Duration sum: 198.66666666666663\n",
            "Song: 388.0\n",
            "Duration sum: 311.33333333333326\n",
            "Song: 260.0\n",
            "Duration sum: 207.16666666666694\n",
            "Song: 388.0\n",
            "Duration sum: 308.83333333333366\n",
            "Song: 260.0\n",
            "Duration sum: 212.16666666666686\n",
            "Song: 296.0\n",
            "Duration sum: 228.33333333333343\n",
            "Song: 260.0\n",
            "Duration sum: 214.6666666666668\n",
            "Song: 260.0\n",
            "Duration sum: 228.5000000000003\n",
            "Song: 248.0\n",
            "Duration sum: 201.58333333333354\n",
            "Song: 152.0\n",
            "Duration sum: 126.41666666666674\n",
            "Song: 256.0\n",
            "Duration sum: 206.16666666666669\n",
            "Song: 264.0\n",
            "Duration sum: 194.16666666666688\n",
            "Song: 388.0\n",
            "Duration sum: 312.5000000000004\n",
            "Song: 292.0\n",
            "Duration sum: 246.66666666666723\n",
            "Song: 292.0\n",
            "Duration sum: 241.58333333333343\n",
            "Song: 392.0\n",
            "Duration sum: 329.66666666666674\n",
            "Song: 260.0\n",
            "Duration sum: 210.91666666666669\n",
            "Song: 196.0\n",
            "Duration sum: 165.48333333333323\n",
            "Song: 264.0\n",
            "Duration sum: 208.9166666666669\n",
            "Song: 392.0\n",
            "Duration sum: 337.00000000000006\n",
            "Song: 260.0\n",
            "Duration sum: 197.5000000000002\n",
            "Song: 248.0\n",
            "Duration sum: 207.66666666666669\n",
            "Song: 256.0\n",
            "Duration sum: 227.00000000000028\n",
            "Song: 148.0\n",
            "Duration sum: 117.28333333333349\n",
            "Song: 200.0\n",
            "Duration sum: 151.25000000000009\n",
            "Song: 264.0\n",
            "Duration sum: 233.3333333333334\n",
            "Song: 244.0\n",
            "Duration sum: 192.50000000000006\n",
            "Song: 196.0\n",
            "Duration sum: 167.00000000000017\n"
          ],
          "name": "stdout"
        }
      ]
    },
    {
      "metadata": {
        "id": "yqv_nq-C-bO0",
        "colab_type": "code",
        "colab": {}
      },
      "cell_type": "code",
      "source": [
        "# Parsing the songs for notes, offsets, and durations.\n",
        "\n",
        "notes = []\n",
        "noteOffsets = []\n",
        "chords = []\n",
        "temp = []\n",
        "chordOffsets = []\n",
        "noteDuration = []\n",
        "chordDuration = []\n",
        "\n",
        "\n",
        "for song in songs:\n",
        "  harmony.realizeChordSymbolDurations(song)\n",
        "  notes_to_parse = song.recurse() # recurse() goes over all objects in the Music21 stream.\n",
        "      \n",
        "  for element in notes_to_parse:\n",
        "    tempChordPitches = []\n",
        "    if isinstance(element, note.Note):\n",
        "      notes.append(str(element.pitch))\n",
        "      noteOffsets.append(fracToFloat(element.offset))\n",
        "      noteDuration.append(float(element.quarterLength))\n",
        "    elif isinstance(element, chord.Chord):\n",
        "      for n in element.normalOrder:\n",
        "        tempChordPitches.append(n)\n",
        "      chords.append(tempChordPitches)\n",
        "      chordOffsets.append(str(element.offset))\n",
        "      chordDuration.append(float(element.quarterLength))\n",
        "\n",
        "noteLength = 0\n",
        "chordLength = 0\n",
        "\n",
        "for i in range(len(notes)):\n",
        "  noteLength += noteDuration[i]\n",
        "for i in range(len(chords)):\n",
        "  chordLength += chordDuration[i]\n",
        "print((noteLength - chordLength))  "
      ],
      "execution_count": 0,
      "outputs": []
    },
    {
      "metadata": {
        "id": "JX5RnONO5lF7",
        "colab_type": "code",
        "colab": {}
      },
      "cell_type": "code",
      "source": [
        "#Adds note to 1-hot encoded array\n",
        "def addTo(ar, note):\n",
        "  for i,j in enumerate(notesCheck):\n",
        "    if(note == j):\n",
        "      ar[i] = 1\n",
        "      break"
      ],
      "execution_count": 0,
      "outputs": []
    },
    {
      "metadata": {
        "id": "pOQEh4XYMGFs",
        "colab_type": "code",
        "colab": {}
      },
      "cell_type": "code",
      "source": [
        "def getNote(ar):\n",
        "  notes = []\n",
        "  for i in range (len(notesCheck)):\n",
        "    if ar[i] == 1:\n",
        "      notes.append(str(notesCheck[i]))\n",
        "  return notes"
      ],
      "execution_count": 0,
      "outputs": []
    },
    {
      "metadata": {
        "id": "zbeZ-PGg53GD",
        "colab_type": "code",
        "colab": {}
      },
      "cell_type": "code",
      "source": [
        "# Checks if a given chord is part of a new measure.\n",
        "def newMeasure(c):\n",
        "  if (c == 0):\n",
        "    return False\n",
        "  if (chordOffset[c-1] >= chordOffset[c]):\n",
        "    return True\n",
        "  return False"
      ],
      "execution_count": 0,
      "outputs": []
    },
    {
      "metadata": {
        "id": "wGoYbIcL9hfn",
        "colab_type": "code",
        "colab": {}
      },
      "cell_type": "code",
      "source": [
        "# Changes notes into 1-hot encoded arrays\n",
        "oneNotes = [[]]\n",
        "oneNotes[0] = emptyArray(42)\n",
        "for i in range(len(notes)-1):\n",
        "  oneNotes.append(emptyArray(42))\n",
        "  \n",
        "index = 0\n",
        "\n",
        "for e in notes:\n",
        "  for i,j in enumerate(notesCheck):\n",
        "    if(e == j):\n",
        "      oneNotes[index][i] = 1\n",
        "      break\n",
        "  if 1 not in oneNotes[index]:\n",
        "    oneNotes[41] = 1\n",
        "  index = index + 1"
      ],
      "execution_count": 0,
      "outputs": []
    },
    {
      "metadata": {
        "id": "dDRHQLxqfxzt",
        "colab_type": "code",
        "colab": {}
      },
      "cell_type": "code",
      "source": [
        "# Creates an array of Notes being played at each timestep\n",
        "arrays = []\n",
        "indexOfNotes = []\n",
        "tempIndex = 0\n",
        "noteIndex = 0\n",
        "temp = []\n",
        "index = 0\n",
        "endMeasure = False\n",
        "first = True\n",
        "\n",
        "while noteIndex < len(notes):\n",
        "  first = True\n",
        "  for i in range(1,49): # Goes from 0 to 4 in 48 intervals.\n",
        "    temp = []\n",
        "    if(float(i/12) > noteOffsets[noteIndex] and not endMeasure):\n",
        "      first = False\n",
        "      for i in range(len(oneNotes[0])):\n",
        "        temp.append(oneNotes[noteIndex][i])\n",
        "        indexOfNotes.append(tempIndex)\n",
        "      noteIndex += 1\n",
        "    else:\n",
        "      temp = emptyArray(42)\n",
        "    arrays.append(temp)\n",
        "    tempIndex+=1\n",
        "    if(len(noteOffsets) - noteIndex <= 0):\n",
        "      break\n",
        "    if(noteOffsets[noteIndex] < noteOffsets[noteIndex-1] and not first):\n",
        "      endMeasure = True\n",
        "  \n",
        "  endMeasure = False\n",
        "  \n",
        "\n",
        "print(len(arrays))\n",
        "print(128945/48)"
      ],
      "execution_count": 0,
      "outputs": []
    },
    {
      "metadata": {
        "id": "hiwIN-uKXWb5",
        "colab_type": "code",
        "colab": {}
      },
      "cell_type": "code",
      "source": [
        "chordArrays = []\n",
        "indexOfChords = []\n",
        "tempIndex = 0\n",
        "chordIndex = 0\n",
        "test = [0,0,0]\n",
        "\n",
        "\n",
        "while(chordIndex < len(chords)):\n",
        "  for i in range(int(chordDuration[chordIndex]*12)):\n",
        "    chordArrays.append(oneChords[chordIndex])\n",
        "    if(i==0):\n",
        "      indexOfChords.append(chordIndex)\n",
        "  chordIndex+=1\n",
        "\n",
        "print(chordDuration[0])  \n",
        "for i in range(50):\n",
        "  print(\"i: \", i, \" \" ,chordArrays[i])\n",
        "print(len(chordArrays) - len(arrays))      "
      ],
      "execution_count": 0,
      "outputs": []
    },
    {
      "metadata": {
        "id": "YDFra0TISgSj",
        "colab_type": "code",
        "colab": {}
      },
      "cell_type": "code",
      "source": [
        "#Start of looping through timeSteps\n",
        "counter = 0\n",
        "length = float(1/12)\n",
        "numerator = 0\n",
        "index = 0\n",
        "noteIndex = 0\n",
        "# This doesn't work. I want to loop through the array of timeSteps, then if a timestep has a note, then adding that note to every timestep in its duration\n",
        "\n",
        "#for i in range(0,10):\n",
        "#  print(\"note: \", notes[i], \" duration: \", noteDuration[i])    \n",
        "noteIndex = 0\n",
        "\n",
        "for i in range(len(arrays)):\n",
        "  if (1 in arrays[i] and i == indexOfNotes[noteIndex]):\n",
        "    numerator = 1\n",
        "    length = float(numerator/12)\n",
        "    #print(\"note Index: \", noteIndex, \" noteDuration: \", noteDuration[noteIndex], \" note: \", notes[noteIndex])\n",
        "    for j in range(1,int(noteDuration[noteIndex]*12)):\n",
        "      addTo(arrays[i+j],notes[noteIndex])\n",
        "    noteIndex+=1\n",
        "    if (noteIndex == len(notes)-1):\n",
        "      break\n",
        "    if(noteIndex % 100 == 0):\n",
        "      print(noteIndex)\n",
        "      \n",
        "print(\"After\")\n",
        "noteIndex = 0\n",
        "for i in range(50, 100):\n",
        "  print(arrays[i])\n",
        "  if 1 in arrays[i]:\n",
        "    print(getNote(arrays[i]))\n",
        "    noteIndex+=1"
      ],
      "execution_count": 0,
      "outputs": []
    },
    {
      "metadata": {
        "id": "uuqmEM5-QhQr",
        "colab_type": "code",
        "colab": {}
      },
      "cell_type": "code",
      "source": [
        "#creates input layer\n",
        "\n",
        "tracker = 0\n",
        "input = []\n",
        "\n",
        "\n",
        "for i in range(tracker,tracker+12):\n",
        "  for j in chordArrays[tracker]:\n",
        "    input.append(j)\n",
        "    \n",
        "    \n",
        "print(len(input))      "
      ],
      "execution_count": 0,
      "outputs": []
    },
    {
      "metadata": {
        "id": "ZQi8nFSEDgS6",
        "colab_type": "code",
        "colab": {}
      },
      "cell_type": "code",
      "source": [
        "overAllLengthNotes = 0\n",
        "sumInMeasure = 0\n",
        "measures = 1\n",
        "\n",
        "for n in range(len(notes)):\n",
        "  curr_offset = noteOffsets[n]\n",
        "  curr_dur = noteDuration[n]\n",
        "  if (curr_offset <= noteOffsets[n-1]): # New measure.\n",
        "    overAllLengthNotes += sumInMeasure\n",
        "    sumInMeasure = curr_dur\n",
        "    measures += 1\n",
        "  if (curr_offset > sumInMeasure): # Note after a rest.\n",
        "    sumInMeasure = curr_dur + curr_offset\n",
        "  else:\n",
        "    sumInMeasure += curr_dur\n",
        "\n",
        "print(overAllLengthNotes)"
      ],
      "execution_count": 0,
      "outputs": []
    },
    {
      "metadata": {
        "id": "-t_mZdcw6piU",
        "colab_type": "code",
        "colab": {}
      },
      "cell_type": "code",
      "source": [
        "# set measure counter to 0\n",
        "# \n",
        "# go through all notes (while)\n",
        "#     we have a note with duration and offset\n",
        "#     use offset from the measure start to begin note\n",
        "#     store note duration\n",
        "#     calculate how many time steps the note is based on round dur / stepsize\n",
        "#     set that many timesteps to the given note\n",
        "#     if next note's offset is more\n",
        "#          move to the next note's offset from the measure start\n",
        "#     set that many steps to the note\n",
        "#     \n",
        "# method next note valid based on note number\n",
        "# if not up measure\n",
        "\n",
        "curr_offset = 0\n",
        "measure = 0\n",
        "timesteps = []\n",
        "timestep = 0\n",
        "for c in range(len(chord)):\n",
        "  curr_step = []\n",
        "  curr_offset = chordOffsets[c]\n",
        "  curr_chord = chords[c]\n",
        "  curr_dur = chordDuration[c]\n",
        "  \n",
        "  step = curr_chord\n",
        "  "
      ],
      "execution_count": 0,
      "outputs": []
    }
  ]
}