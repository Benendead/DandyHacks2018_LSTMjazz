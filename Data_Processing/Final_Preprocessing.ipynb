{
  "nbformat": 4,
  "nbformat_minor": 0,
  "metadata": {
    "colab": {
      "name": "Final Preprocessing",
      "version": "0.3.2",
      "provenance": [],
      "collapsed_sections": [
        "4MIWGuuTyDdh"
      ],
      "include_colab_link": true
    },
    "kernelspec": {
      "name": "python3",
      "display_name": "Python 3"
    },
    "accelerator": "GPU"
  },
  "cells": [
    {
      "cell_type": "markdown",
      "metadata": {
        "id": "view-in-github",
        "colab_type": "text"
      },
      "source": [
        "<a href=\"https://colab.research.google.com/github/Benned-H/LSTMjazz/blob/master/Data_Processing/Final_Preprocessing.ipynb\" target=\"_parent\"><img src=\"https://colab.research.google.com/assets/colab-badge.svg\" alt=\"Open In Colab\"/></a>"
      ]
    },
    {
      "metadata": {
        "id": "2AMvZWMG5dyK",
        "colab_type": "text"
      },
      "cell_type": "markdown",
      "source": [
        "---\n",
        "Author(s) | Year | Models Used | Music | Encoding | Quantization | Future work | Code/Examples\n",
        "--- | ---\n",
        "Eck | 2002 | LSTM | Melody + chords | 13 melody, 12 chord 1/0 | 2 per beat | N/A | [Ex](https://web.archive.org/web/20190104192500/http://people.idsia.ch/~juergen/blues/)\n",
        "Bickerman | 2010 | DBN | Chords -> jazz licks | 18 melody (12 pitch, 4 8va), 12 chord | 12 per beat | Melodies avoid triplets | [Code](https://sourceforge.net/projects/rbm-provisor/)\n",
        "Choi | 2016 | char-RNN, word-RNN | Jazz chord progressions | Note chars, Chord words | 1 per beat | N/A | [Code](https://github.com/keunwoochoi/lstm_real_book)\n",
        "Lackner | 2016 | LSTM | Melody given chords | 24 melody, 12 chord 1/0 | 4 per beat | Larger dataset | [Ex](https://konstilackner.github.io/LSTM-RNN-Melody-Composer-Website/)\n",
        "Agarwala | 2017 | Seq2Seq, char-RNN | Melodies | ABC char -> embeddings | None; ABC notation | N/A | [Code](https://github.com/yinoue93/CS224N_proj)\n",
        "Brunner | 2017 | 2 LSTMs | Chords -> polyphonic piano | 48 melody, 50 chord embeddings | 2 per beat | Encoding polyphonic sustain, genre metadata | N/A\n",
        "Hilscher | 2018 | char-RNN | Polyphonic piano | 1/0 on/off vectors | 4 per beat | More keys/data, text pattern matching | [Ex](https://yellow-ray.de/~moritz/midi_rnn/examples.html)"
      ]
    },
    {
      "metadata": {
        "id": "_VxmZvUCTmc_",
        "colab_type": "code",
        "outputId": "f2ae37bc-5af7-4dd4-c34e-64334b23fa98",
        "colab": {
          "base_uri": "https://localhost:8080/",
          "height": 122
        }
      },
      "cell_type": "code",
      "source": [
        "import os\n",
        "import glob\n",
        "import pandas as pd\n",
        "import numpy as np\n",
        "\n",
        "from google.colab import drive\n",
        "drive.mount('/content/gdrive')"
      ],
      "execution_count": 1,
      "outputs": [
        {
          "output_type": "stream",
          "text": [
            "Go to this URL in a browser: https://accounts.google.com/o/oauth2/auth?client_id=947318989803-6bn6qk8qdgf4n4g3pfee6491hc0brc4i.apps.googleusercontent.com&redirect_uri=urn%3Aietf%3Awg%3Aoauth%3A2.0%3Aoob&scope=email%20https%3A%2F%2Fwww.googleapis.com%2Fauth%2Fdocs.test%20https%3A%2F%2Fwww.googleapis.com%2Fauth%2Fdrive%20https%3A%2F%2Fwww.googleapis.com%2Fauth%2Fdrive.photos.readonly%20https%3A%2F%2Fwww.googleapis.com%2Fauth%2Fpeopleapi.readonly&response_type=code\n",
            "\n",
            "Enter your authorization code:\n",
            "··········\n",
            "Mounted at /content/gdrive\n"
          ],
          "name": "stdout"
        }
      ]
    },
    {
      "metadata": {
        "id": "MFlwt2tyUTsb",
        "colab_type": "code",
        "outputId": "f9e5b9ba-7eb0-4733-82e1-2d65dc9c3afe",
        "colab": {
          "base_uri": "https://localhost:8080/",
          "height": 34
        }
      },
      "cell_type": "code",
      "source": [
        "!ls"
      ],
      "execution_count": 2,
      "outputs": [
        {
          "output_type": "stream",
          "text": [
            "gdrive\tsample_data\n"
          ],
          "name": "stdout"
        }
      ]
    },
    {
      "metadata": {
        "id": "m1YoQIYVTqar",
        "colab_type": "code",
        "colab": {
          "base_uri": "https://localhost:8080/",
          "height": 34
        },
        "outputId": "8b2eea8c-f81c-4a9d-e8bf-7beccc01fc7d"
      },
      "cell_type": "code",
      "source": [
        "# Navigate to the Datasets folder.\n",
        "os.chdir('gdrive/My Drive/Datasets')\n",
        "!ls"
      ],
      "execution_count": 3,
      "outputs": [
        {
          "output_type": "stream",
          "text": [
            "'Chords Bits'  'Chords Tokens'\t'Melodies 18-bit'  'Melodies Piano Roll'\n"
          ],
          "name": "stdout"
        }
      ]
    },
    {
      "metadata": {
        "id": "mFY2-lBNUfiu",
        "colab_type": "code",
        "outputId": "9b78bbc7-8f79-4d03-91e5-7905e9eb924d",
        "colab": {
          "base_uri": "https://localhost:8080/",
          "height": 34
        }
      },
      "cell_type": "code",
      "source": [
        "# We have all of our data in these subfolders.\n",
        "len(glob.glob(\"*/*.csv\"))"
      ],
      "execution_count": 4,
      "outputs": [
        {
          "output_type": "execute_result",
          "data": {
            "text/plain": [
              "4800"
            ]
          },
          "metadata": {
            "tags": []
          },
          "execution_count": 4
        }
      ]
    },
    {
      "metadata": {
        "id": "4MIWGuuTyDdh",
        "colab_type": "text"
      },
      "cell_type": "markdown",
      "source": [
        "# Additional Data Formatting Considerations  \n",
        "IGNORE FOR NOW"
      ]
    },
    {
      "metadata": {
        "id": "A_Lh6E9d1Mq8",
        "colab_type": "text"
      },
      "cell_type": "markdown",
      "source": [
        "In the work of [Brunner et al.](https://arxiv.org/abs/1711.07682) (2017), their LSTM received vectors of piano rolls with these appended features:\n",
        "1. Embedded chord vector of the next time step. (Current chord)\n",
        "2. Embedded chord vector of the chord following that chord.\n",
        "3. A binary counter from 0 to 7 each bar.\n",
        "\n",
        "Because my timesteps are much finer, I'd alter these features to the following:\n",
        "1. \"Current\" embedded chord vector for this timestep.\n",
        "2. Embedded chord vector of the chord following that chord.\n",
        "3. See below for different timing bit vector."
      ]
    },
    {
      "metadata": {
        "id": "Ydoa7p-R1poJ",
        "colab_type": "text"
      },
      "cell_type": "markdown",
      "source": [
        "In my case, I would need to count to 48 OR simplify the bits a bit to give information only about on-beat, off-beat, sixteenth, and triplet information. What about:\n",
        "\n",
        "---\n",
        "Bit 8 | Bit 7 | Bit 6 | Bit 5 | Bit 4 | Bit 3 | Bit 2 | Bit 1\n",
        "--- | ---\n",
        "Third triplet | Second triplet | Any triplet | On any down-beat | On any half-note | On-beat | On any 8th | On any 16th\n",
        "Offset % 12 = 8 | Offset % 12 = 4 | Offset % 4 = 0 | Offset % 48 = 0 | Offset % 24 = 0 | Offset % 12 = 0 | Offset % 6 = 0  | Offset % 3 = 0"
      ]
    },
    {
      "metadata": {
        "id": "YK-UYTQO24QT",
        "colab_type": "text"
      },
      "cell_type": "markdown",
      "source": [
        "---\n",
        "Bit 7 | Bit 6 | Bit 5 | Bit 4 | Bit 3 | Bit 2 | Bit 1\n",
        "--- | ---\n",
        "Third triplet | Second triplet | On-beat | On any 8th | On any 16th | Count 4 beats Bit 2 | Count 4 beats Bit 1\n",
        "Offset % 12 = 8 | Offset % 12 = 4 | Offset % 12 = 0 | Offset % 6 = 0 | Offset % 3 = 0 | ???  | ???\n",
        "\n",
        "To be clear, these features give the LSTM an easier job knowing when to change notes. To that end, I'd argue that such assistance might normally come from a rhythm section, and it's not inherently \"unfair\" information to give the system. What it might cause is a much clearer bias towards on-beat or on-eighth (etc.) notes, but balancing temperature and over-fitting can hopefully alleviate these concerns."
      ]
    },
    {
      "metadata": {
        "id": "nTf6At9t7WG4",
        "colab_type": "code",
        "colab": {}
      },
      "cell_type": "code",
      "source": [
        "#def binaryCounter(offset):\n",
        "  \"\"\"\n",
        "  Returns a DataFrame based on the above encodings given an offset.\n",
        "  \"\"\"\n",
        "  #bit8 = (offset % 12 == 8)\n",
        "  #bit7 = (offset % 12 == 4)\n",
        "  #bit6 = (offset % 4 == 0)\n",
        "  #bit5 = (offset % 48 == 0)\n",
        "  #bit4 = (offset % 24 == 0)\n",
        "  #bit3 = (offset % 12 == 0)\n",
        "  #bit2 = (offset % 6 == 0)\n",
        "  #bit1 = (offset % 3 == 0)\n",
        "  #return pd.DataFrame(np.array([bit8, bit7, bit6, bit5, bit4, bit3, bit2, bit1])).T"
      ],
      "execution_count": 0,
      "outputs": []
    },
    {
      "metadata": {
        "id": "PNcH3hljVt29",
        "colab_type": "code",
        "colab": {}
      },
      "cell_type": "code",
      "source": [
        "binaryCounter(4)"
      ],
      "execution_count": 0,
      "outputs": []
    },
    {
      "metadata": {
        "id": "iFXGKnQuFzrw",
        "colab_type": "text"
      },
      "cell_type": "markdown",
      "source": [
        "**NOTE: THE ABOVE CODE IS INCOMPLETE UNTIL I'VE TESTED WITHOUT THESE FEATURES FIRST**"
      ]
    },
    {
      "metadata": {
        "id": "1dj1sjHY9H18",
        "colab_type": "code",
        "colab": {}
      },
      "cell_type": "code",
      "source": [
        "\"\"\"\n",
        "\n",
        "os.chdir(\"Melodies Piano Roll\")\n",
        "!ls\n",
        "\n",
        "c_bits = glob.glob(\"*.csv\")\n",
        "#c_tokens = glob.glob(\"*.csv\")\n",
        "#m_18bits = glob.glob(\"*.csv\")\n",
        "#m_piano = glob.glob(\"*.csv\")\n",
        "\n",
        "names = []\n",
        "for c in c_bits:\n",
        "  names.append(c[:-4])\n",
        "name_indices = dict((n, i) for i, n in enumerate(names))\n",
        "\n",
        "for i, c in enumerate(m_piano):\n",
        "  df = pd.read_csv(c)\n",
        "  new_name = str(name_indices[c[:-4]]) + \".csv\"\n",
        "  df.to_csv(new_name)\n",
        "  print(i)\n",
        "  \n",
        "\"\"\""
      ],
      "execution_count": 0,
      "outputs": []
    },
    {
      "metadata": {
        "id": "6O46QH-7F3WG",
        "colab_type": "text"
      },
      "cell_type": "markdown",
      "source": [
        "The above code was used to rename all csv so they're more clearly compatible."
      ]
    },
    {
      "metadata": {
        "id": "pW81R5ezF7O5",
        "colab_type": "text"
      },
      "cell_type": "markdown",
      "source": [
        "# Sampling The Data"
      ]
    },
    {
      "metadata": {
        "id": "lFNbUI1MyP5H",
        "colab_type": "text"
      },
      "cell_type": "markdown",
      "source": [
        "Per my past summaries of previous works, we have this process for formatting data for Keras:\n",
        "\n",
        "We have dataset $D=(X, Y)$ of \"labelled\" chord progression segments: $X = \\{X_1, X_2, ..., X_n\\}$ and $Y = \\{Y_1, Y_2, ..., Y_n\\}$, where each $X_i$ is some section of chord progression and each $Y_i$ is the corresponding melody label. My original piano matrix is of dimensions $(\\text{# timesteps}, |\\text{note range}|)$. In the 18-bit case, this is more simply $(\\text{# timesteps}, 18)$.\n",
        "\n",
        "First, we need to sample these matrices into $t$-timestep-long sequences of chord data (these are our $X_i$). We'll then label each of these with the melody information from the $t+1$ timestep. The number of samples, $S$, will be the total length of each song (in timesteps) minus $t+1$."
      ]
    },
    {
      "metadata": {
        "id": "BDXhlawYGKkh",
        "colab_type": "text"
      },
      "cell_type": "markdown",
      "source": [
        "The final data shape should be a 3D matrix of dimensions $(\\text{# samples}, \\text{time steps}, \\text{features})$. Therefore we'll just need to sample the piano and 18-bit matrices into samples without any other dimensional shifting. But *what sample sizes did my sources use?*\n",
        "* Choi - Sampled 20 characters at a time with step size 3.\n",
        "* Lackner - Seems to be 8, or 2 beats worth.\n",
        "* Hilscher - Sentence length 100 (used chars)\n",
        "\n",
        "The rest of my sources didn't really say."
      ]
    },
    {
      "metadata": {
        "id": "4W4fUUmD7nq1",
        "colab_type": "text"
      },
      "cell_type": "markdown",
      "source": [
        "**Conclusion** - I think two bars would be a good place to start. These would be $96 = (8*12)$ time steps. I'd also consider sampling at an interval of 5, as an example, to decrease redundancy if training takes too long. Until I hit this wall, I'll use a step size between windows of 1. So let's get to sampling, then.\n",
        "\n",
        "Edit: Lackner uses 8-bar samples overall in his code."
      ]
    },
    {
      "metadata": {
        "id": "tKWBqo2T7rm2",
        "colab_type": "code",
        "colab": {}
      },
      "cell_type": "code",
      "source": [
        "def sample(X_df, Y_df, sample_length, step):\n",
        "  \"\"\"\n",
        "  Splits the given dataframes into overlapping samples each beginning the given step size apart.\n",
        "  X output will be the sliding windows from X\n",
        "  Y output will be single-row labels from the Y DataFrame.\n",
        "  \n",
        "  df : The Pandas DataFrame to be sliced into samples.\n",
        "  sample_length : int\n",
        "    The desired length of each sample.\n",
        "  step : int\n",
        "    The number of timesteps between where each sample begins.\n",
        "  \"\"\"\n",
        "  if (not len(X_df) == len(Y_df)):\n",
        "    print(\"These dataframes have different length!\")\n",
        "    return 0,0\n",
        "  \n",
        "  length = df.shape[0]\n",
        "  Xsamples = []\n",
        "  Ysamples = []\n",
        "  \n",
        "  for i in range(0, (length - sample_length - 1), step):\n",
        "    Xsample = df.iloc[i:i+sample_length, :].values\n",
        "    Ysample = df.iloc[i+sample_length, :].values\n",
        "    \n",
        "    Xsamples.append(Xsample)\n",
        "    Ysamples.append(Ysample)\n",
        "    \n",
        "  return Xsamples, Ysamples"
      ],
      "execution_count": 0,
      "outputs": []
    },
    {
      "metadata": {
        "id": "-coFnTiN87d1",
        "colab_type": "text"
      },
      "cell_type": "markdown",
      "source": [
        "# Reading in the Data"
      ]
    },
    {
      "metadata": {
        "id": "vki1kWjjy6iW",
        "colab_type": "code",
        "colab": {}
      },
      "cell_type": "code",
      "source": [
        "files_to_read = 10 # Eventually 600\n",
        "sample_len = 24\n",
        "step_size = 1\n",
        "\n",
        "\n",
        "ChB = []\n",
        "ChT = []\n",
        "M18 = []\n",
        "MPR = []\n",
        "\n",
        "# Running the below block, in order, will import the above number of files from each of the four data encodings.\n",
        "# Begin in the Datasets directory."
      ],
      "execution_count": 0,
      "outputs": []
    },
    {
      "metadata": {
        "id": "LaWn_O8VzFul",
        "colab_type": "text"
      },
      "cell_type": "markdown",
      "source": [
        "## Run this section to import all 4 data encodings"
      ]
    },
    {
      "metadata": {
        "id": "Xl-a1gtrzXNT",
        "colab_type": "code",
        "colab": {
          "base_uri": "https://localhost:8080/",
          "height": 34
        },
        "outputId": "7cf0c0c8-c997-4bb7-d5a4-b6b30ea5dcec"
      },
      "cell_type": "code",
      "source": [
        "# Chords Bits\n",
        "\n",
        "# Move into directory\n",
        "os.chdir(\"Chords Bits\")\n",
        "\n",
        "# Import data\n",
        "for i in range(files_to_read):\n",
        "  filename = str(i) + \".csv\"\n",
        "  df = pd.read_csv(filename)\n",
        "  ChB.append(df.drop(columns=['Unnamed: 0', 'Unnamed: 0.1'])) # Drop waste columns from previous exports\n",
        "  if (i % 10 == 0):\n",
        "    print(\"Read ChB file\", i)\n",
        "\n",
        "# Move back into Datasets directory.\n",
        "os.chdir(\"..\")"
      ],
      "execution_count": 27,
      "outputs": [
        {
          "output_type": "stream",
          "text": [
            "Read ChB file 0\n"
          ],
          "name": "stdout"
        }
      ]
    },
    {
      "metadata": {
        "id": "KaHBPCi50Twb",
        "colab_type": "code",
        "colab": {
          "base_uri": "https://localhost:8080/",
          "height": 34
        },
        "outputId": "a6e404a3-5564-49ac-f723-63541a46f9f4"
      },
      "cell_type": "code",
      "source": [
        "# Chords Tokens\n",
        "\n",
        "# Move into directory\n",
        "os.chdir(\"Chords Tokens\")\n",
        "\n",
        "# Import data\n",
        "for i in range(files_to_read):\n",
        "  filename = str(i) + \".csv\"\n",
        "  df = pd.read_csv(filename)\n",
        "  ChT.append(df.drop(columns=['Unnamed: 0', 'Unnamed: 0.1'])) # Drop waste columns from previous exports\n",
        "  if (i % 10 == 0):\n",
        "    print(\"Read ChT file\", i)\n",
        "\n",
        "# Move back into Datasets directory.\n",
        "os.chdir(\"..\")"
      ],
      "execution_count": 28,
      "outputs": [
        {
          "output_type": "stream",
          "text": [
            "Read ChT file 0\n"
          ],
          "name": "stdout"
        }
      ]
    },
    {
      "metadata": {
        "id": "sX6eykfK0UU7",
        "colab_type": "code",
        "colab": {
          "base_uri": "https://localhost:8080/",
          "height": 34
        },
        "outputId": "9cb73444-a383-4b54-cf04-4439521c9946"
      },
      "cell_type": "code",
      "source": [
        "# Melodies 18-bit\n",
        "\n",
        "# Move into directory\n",
        "os.chdir(\"Melodies 18-bit\")\n",
        "\n",
        "# Import data\n",
        "for i in range(files_to_read):\n",
        "  filename = str(i) + \".csv\"\n",
        "  df = pd.read_csv(filename)\n",
        "  M18.append(df.drop(columns=['Unnamed: 0', 'Unnamed: 0.1'])) # Drop waste columns from previous exports\n",
        "  if (i % 10 == 0):\n",
        "    print(\"Read M18 file\", i)\n",
        "\n",
        "# Move back into Datasets directory.\n",
        "os.chdir(\"..\")"
      ],
      "execution_count": 29,
      "outputs": [
        {
          "output_type": "stream",
          "text": [
            "Read M18 file 0\n"
          ],
          "name": "stdout"
        }
      ]
    },
    {
      "metadata": {
        "id": "46wL7zSJ0Uyh",
        "colab_type": "code",
        "colab": {
          "base_uri": "https://localhost:8080/",
          "height": 34
        },
        "outputId": "16f046ce-fb6d-4ce9-d078-dea327d9fa73"
      },
      "cell_type": "code",
      "source": [
        "# Melodies Piano Roll\n",
        "\n",
        "# Move into directory\n",
        "os.chdir(\"Melodies Piano Roll\")\n",
        "\n",
        "# Import data\n",
        "for i in range(files_to_read):\n",
        "  filename = str(i) + \".csv\"\n",
        "  df = pd.read_csv(filename)\n",
        "  MPR.append(df.drop(columns=['Unnamed: 0', 'Unnamed: 0.1'])) # Drop waste columns from previous exports\n",
        "  if (i % 10 == 0):\n",
        "    print(\"Read MPR file\", i)\n",
        "\n",
        "# Move back into Datasets directory.\n",
        "os.chdir(\"..\")"
      ],
      "execution_count": 30,
      "outputs": [
        {
          "output_type": "stream",
          "text": [
            "Read MPR file 0\n"
          ],
          "name": "stdout"
        }
      ]
    },
    {
      "metadata": {
        "id": "yJIM3yLv00zm",
        "colab_type": "code",
        "colab": {
          "base_uri": "https://localhost:8080/",
          "height": 34
        },
        "outputId": "1ef965f6-d7e8-440f-e792-5c097fff6e27"
      },
      "cell_type": "code",
      "source": [
        "# Verify\n",
        "print(len(ChB), len(ChT), len(M18), len(MPR))"
      ],
      "execution_count": 31,
      "outputs": [
        {
          "output_type": "stream",
          "text": [
            "10 10 10 10\n"
          ],
          "name": "stdout"
        }
      ]
    },
    {
      "metadata": {
        "id": "urNR5DKW1pDU",
        "colab_type": "code",
        "colab": {}
      },
      "cell_type": "code",
      "source": [
        "# Verify corresponding dfs are same length\n",
        "for i in range(files_to_read):\n",
        "  len1 = len(ChB[i])\n",
        "  len2 = len(ChT[i])\n",
        "  len3 = len(M18[i])\n",
        "  len4 = len(MPR[i])\n",
        "  \n",
        "  if (not (len1 == len2 and len1 == len3 and len1 == len4 and len2 == len3 and len3 == len4 and len2 == len3)):\n",
        "    printf(\"Dataframe\", i, \"was a problem:\", len1, len2, len3, len4)"
      ],
      "execution_count": 0,
      "outputs": []
    },
    {
      "metadata": {
        "id": "s1Oclq620WMO",
        "colab_type": "text"
      },
      "cell_type": "markdown",
      "source": [
        "## Sampling Time"
      ]
    },
    {
      "metadata": {
        "id": "8xfvyzGzxRvt",
        "colab_type": "code",
        "colab": {
          "base_uri": "https://localhost:8080/",
          "height": 187
        },
        "outputId": "7ca85e54-756e-4e3e-9a79-57f59aeffc34"
      },
      "cell_type": "code",
      "source": [
        "# Let's try the ChB-M18 encoding pair.\n",
        "\n",
        "X_train = []\n",
        "Y_train = []\n",
        "\n",
        "for i in range(files_to_read):\n",
        "  Xsam, Ysam = sample(ChB[i], M18[i], sample_len, step_size)\n",
        "  Xsam = np.array(Xsam)\n",
        "  Ysam = np.array(Ysam)\n",
        "  \n",
        "  X_train.append(Xsam)\n",
        "  Y_train.append(Ysam)\n",
        "  print(\"Sampling\", i)"
      ],
      "execution_count": 44,
      "outputs": [
        {
          "output_type": "stream",
          "text": [
            "Sampling 0\n",
            "Sampling 1\n",
            "Sampling 2\n",
            "Sampling 3\n",
            "Sampling 4\n",
            "Sampling 5\n",
            "Sampling 6\n",
            "Sampling 7\n",
            "Sampling 8\n",
            "Sampling 9\n"
          ],
          "name": "stdout"
        }
      ]
    },
    {
      "metadata": {
        "id": "GJsHkbr0G1tl",
        "colab_type": "code",
        "colab": {
          "base_uri": "https://localhost:8080/",
          "height": 34
        },
        "outputId": "42fd3342-d868-4506-dcc0-e5bf2650e807"
      },
      "cell_type": "code",
      "source": [
        "# What have we created?\n",
        "print(type(X_train), \"length\", len(X_train))"
      ],
      "execution_count": 45,
      "outputs": [
        {
          "output_type": "stream",
          "text": [
            "<class 'list'> length 10\n"
          ],
          "name": "stdout"
        }
      ]
    },
    {
      "metadata": {
        "id": "05xnUq5WGYzO",
        "colab_type": "code",
        "colab": {
          "base_uri": "https://localhost:8080/",
          "height": 34
        },
        "outputId": "350dbabc-23a4-4a71-cd45-c278d164238d"
      },
      "cell_type": "code",
      "source": [
        "# This is our first song's length.\n",
        "print(type(X_train[0]), \"shape\", X_train[0].shape)"
      ],
      "execution_count": 47,
      "outputs": [
        {
          "output_type": "stream",
          "text": [
            "<class 'numpy.ndarray'> shape (3047, 24, 44)\n"
          ],
          "name": "stdout"
        }
      ]
    },
    {
      "metadata": {
        "id": "WHITyS9o6H6v",
        "colab_type": "text"
      },
      "cell_type": "markdown",
      "source": [
        "# What structure should the network have?\n",
        "\n",
        "The sources I read had this to say (Taken from my summaries)  \n",
        "\n",
        "**Lackner (2016)**  \n",
        "The LSTM input layer took chord notes (thus 12 nodes), was fully connected to optional hidden layers, and then was fully connected to an output layer with 24 LSTM nodes corresponding to melody notes. The highest melody probability is chosen; if it's above some value, that note is played.\n",
        "\n",
        "To generate new music, any chord sequence can be input and the resulting output can be converted to MIDI. Many architectures were tested; the best had 2 hidden layers with 9 and 18 LSTM units, respectively.\n",
        "\n",
        "**Choi et al. (2016)**  \n",
        "Two LSTM layers with 512 hidden units (hidden state dimensionality) and then Dropout of 0.2 after each LSTM layer. Put together in Keras with categorical cross entropy as loss, Adam optimizer, and stochastic prediction based on a diversity parameter $\\alpha$. New probabilities are calculated:  \n",
        "$\\hat{p}_i=e^{log(p_i)/\\alpha}$, where $p_i$ is the probability for the $i$ states.  \n",
        "A state is then selected based on the probabilities.\n",
        "\n",
        "**Agarwala et al. (2017)**  \n",
        "Char-RNN: A hidden layer of 200 LSTM cells with 0.2 dropout and embedding size of 20 were chosen. Softmax was used to predict the next character. An input window of size 50 worked best.  \n",
        "\n",
        "**Brunner et al. (2017)**  \n",
        "Chord LSTM: This model learned those chord embeddings. From this layer, they used a hidden layer with 256 LSTM cells followed by a $\\text{softmax}$ activation. The output corresponded to a vector of probabilities for the next chord. Training used cross-entropy as loss, Adam optimizer, $10^{-5}$ initial learning rate, and 80,000 of the shifted songs for 4 epochs. To generate new progressions, they seed the model and then sample output probabilities with temperature. This is fed in and the cycle repeats.\n",
        "\n",
        "**Hilscher et al. (2018)**  \n",
        "The best architecture used a single LSTM layer of 512 units, sequence length of 100, Mozart data fully normalized/transposed, batch shuffling, with categorical cross entropy loss, Adam optimizer, 0.001 learning rate, and validation split of 0.2.\n",
        "\n",
        "Polyphonic LSTM: This LSTM received vectors of piano rolls (1/0 on/off made with the pretty_midi library) with these appended features:\n",
        "1. Embedded chord vector of the next time step.\n",
        "2. Embedded chord vector of the chord following that chord.\n",
        "3. A binary counter from 0 to 7 each bar.\n",
        "\n",
        "The input is fed into an LSTM with 512 hidden cells and $\\text{sigmoid}$ activation. The output at each time step is the probabilities for each note being played. Training used cross entropy between outputs and the ground truth, Adam, initial learning rate of $10^{-6}$, and only 10,000 songs for 4 epochs.\n",
        "\n",
        "To generate a new song, the polyphonic LSTM is seeded with the piano roll and corresponding chords. The next step is sampled and the number of notes to play at any one time is limited. To deal with ambiguous note endings/re-attacks, they consider all consecutive same notes as held notes. At barlines, all played notes are re-attacked."
      ]
    },
    {
      "metadata": {
        "id": "jtdtoSVe7f3u",
        "colab_type": "text"
      },
      "cell_type": "markdown",
      "source": [
        "Author(s) | Layers | Hidden State Size | Learning Rate | Loss | Optimizer\n",
        "--- | --- | --- | --- | --- | ---\n",
        "Lackner | Input (12), 9 LSTM units, 18 LSTM units, output 24 LSTM units | 9, 18, 24 | Unspecified | Unspecified | Unspecified\n",
        "Choi et al. | 512 LSTM units, Dropout 0.2, 512 LSTM units, Dropout 0.2 | 512 | Unspecified | Catgorical cross-entropy | ADAM\n",
        "Agarwala et al. | Embedding Size 20, 200 LSTM units w/ 0.2 Dropout | 200 | Unspecified | Unspecified | Unspecified\n",
        "Brunner et al. | Embedding, 256 LSTM units, softmax | 256 | 10^-5 | Cross-entropy | ADAM\n",
        "Hilscher et al. | Single LSTM layer of 512 units | 512 | 10^-6 | Cross-entropy | ADAM"
      ]
    },
    {
      "metadata": {
        "id": "p0FdEa_qAO5K",
        "colab_type": "text"
      },
      "cell_type": "markdown",
      "source": [
        "To summarize, then, a good starting network for monophonic melody generation will probably have:\n",
        "* 1 to 3 LSTM layers\n",
        "* Maybe 200 units\n",
        "* Learning rate on the order of 10^-6\n",
        "* Cross-entropy loss 100%\n",
        "* ADAM optimizer"
      ]
    },
    {
      "metadata": {
        "id": "s3bj5MPIAuIL",
        "colab_type": "text"
      },
      "cell_type": "markdown",
      "source": [
        "# Build the network"
      ]
    },
    {
      "metadata": {
        "id": "AXQ3e615DCWo",
        "colab_type": "code",
        "colab": {}
      },
      "cell_type": "code",
      "source": [
        "LSTM_units = [32, 64, 128]"
      ],
      "execution_count": 0,
      "outputs": []
    },
    {
      "metadata": {
        "id": "SAhESKrVAvTc",
        "colab_type": "code",
        "colab": {}
      },
      "cell_type": "code",
      "source": [
        "from keras.layers import LSTM\n",
        "from keras.models import Sequential\n",
        "\n",
        "model = Sequential()\n",
        "\n",
        "model.add(LSTM(LSTM_units[0], return_sequences = True, input_shape = (sample_len, ))) # Rows by columns, right?\n",
        "\n",
        "for i in range(1, len(LSTM_units)):\n",
        "  model.add(LSTM(LSTM_units[i], return_sequences = True))\n",
        "  \n",
        "  \n",
        "\"\"\"\n",
        "  regressor.add(LSTM(units = 50, return_sequences = True, input_shape = (X_train.shape[1], 1)))\n",
        "  \n",
        "num_layers > 1:\n",
        "    print(\"Enter the number of units for each layer:\")\n",
        "    num_units = []\n",
        "    for i in range(num_layers-1):\n",
        "        units = int(input('Number of Units in Layer %d:' %(i+1)))\n",
        "        num_units.append(units)\n",
        "    print()\n",
        "    print(\"Your Network:\")\n",
        "    model.add(LSTM(input_dim=input_dim, output_dim=num_units[0], activation='sigmoid', return_sequences=True))\n",
        "    print(\"add(LSTM(input_dim=%d, output_dim=%d, activation='sigmoid', return_sequences=True))\" %(input_dim, num_units[0]))\n",
        "    for i in range(num_layers-2):\n",
        "        model.add(LSTM(output_dim=num_units[i+1], activation='sigmoid', return_sequences=True))\n",
        "        print(\"add(LSTM(output_dim=%d, activation='sigmoid', return_sequences=True))\" %(num_units[i+1]))\n",
        "    model.add(LSTM(output_dim=output_dim, activation='sigmoid', return_sequences=False))\n",
        "    print(\"add(LSTM(output_dim=%d, activation='sigmoid', return_sequences=False))\" %(output_dim))\n",
        "\"\"\""
      ],
      "execution_count": 0,
      "outputs": []
    },
    {
      "metadata": {
        "id": "eEdiBUfvBOL_",
        "colab_type": "text"
      },
      "cell_type": "markdown",
      "source": [
        "Sources used to create this particular part of the project:\n",
        "\n",
        "1. https://keras.io/layers/recurrent/ Accessed 4/12/2019\n",
        "2. https://keras.io/getting-started/sequential-model-guide/ Accessed 4/12/2019\n",
        "3. https://www.dlology.com/blog/how-to-use-return_state-or-return_sequences-in-keras/ Accessed 4/12/2019"
      ]
    }
  ]
}