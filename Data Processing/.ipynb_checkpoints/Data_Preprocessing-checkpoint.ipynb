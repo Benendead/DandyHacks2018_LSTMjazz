{
 "cells": [
  {
   "cell_type": "markdown",
   "metadata": {
    "colab_type": "text",
    "id": "view-in-github"
   },
   "source": [
    "<a href=\"https://colab.research.google.com/github/Benendead/LSTMjazz/blob/master/Data_Preprocessing.ipynb\" target=\"_parent\"><img src=\"https://colab.research.google.com/assets/colab-badge.svg\" alt=\"Open In Colab\"/></a>"
   ]
  },
  {
   "cell_type": "markdown",
   "metadata": {
    "colab_type": "text",
    "id": "b4jdZzW-mITb"
   },
   "source": [
    "---\n",
    "Author(s) | Year | Models Used | Music | Encoding | Quantization | Future work | Code/Examples\n",
    "--- | ---\n",
    "Eck | 2002 | LSTM | Melody + chords | 13 melody, 12 chord 1/0 | 2 per beat | N/A | [Ex](https://web.archive.org/web/20190104192500/http://people.idsia.ch/~juergen/blues/)\n",
    "Bickerman | 2010 | DBN | Chords -> jazz licks | 18 melody (12 pitch, 4 8va), 12 chord | 12 per beat | Melodies avoid triplets | [Code](https://sourceforge.net/projects/rbm-provisor/)\n",
    "Choi | 2016 | char-RNN, word-RNN | Jazz chord progressions | Note chars, Chord words | 1 per beat | N/A | [Code](https://github.com/keunwoochoi/lstm_real_book)\n",
    "Lackner | 2016 | LSTM | Melody given chords | 24 melody, 12 chord 1/0 | 4 per beat | Larger dataset | [Ex](https://konstilackner.github.io/LSTM-RNN-Melody-Composer-Website/)\n",
    "Agarwala | 2017 | Seq2Seq, char-RNN | Melodies | ABC char -> embeddings | None; ABC notation | N/A | [Code](https://github.com/yinoue93/CS224N_proj)\n",
    "Brunner | 2017 | 2 LSTMs | Chords -> polyphonic piano | 48 melody, 50 chord embeddings | 2 per beat | Encoding polyphonic sustain, genre metadata | N/A\n",
    "Hilscher | 2018 | char-RNN | Polyphonic piano | 1/0 on/off vectors | 4 per beat | More keys/data, text pattern matching | [Ex](https://yellow-ray.de/~moritz/midi_rnn/examples.html)"
   ]
  },
  {
   "cell_type": "markdown",
   "metadata": {
    "colab_type": "text",
    "id": "2uyoU76Fmwga"
   },
   "source": [
    "**To Consider:**\n",
    "* My representation needs to have at least 12 steps per beat; triplets AND sixteenth notes are needed.\n",
    "* Chords --> Melody has only one precedent for best practices.\n",
    "* 2 of the 7 used chord embeddings.\n",
    "* Methods to check overfitting are limited so far.\n",
    "* 3 of the 7 benefitted from transposing to multiple keys."
   ]
  },
  {
   "cell_type": "markdown",
   "metadata": {
    "colab_type": "text",
    "id": "X9SPy9pVxGx1"
   },
   "source": [
    "# Code Setup and Data Import"
   ]
  },
  {
   "cell_type": "markdown",
   "metadata": {
    "colab_type": "text",
    "id": "n4ul029PxLlu"
   },
   "source": [
    "We import the necessary libraries, create a method to tranpose imported songs to C, and then import all songs."
   ]
  },
  {
   "cell_type": "code",
   "execution_count": 1,
   "metadata": {
    "colab": {
     "base_uri": "https://localhost:8080/",
     "height": 173
    },
    "colab_type": "code",
    "id": "LN5JQRywxE8B",
    "outputId": "dd288525-5493-4d66-a5e6-c2df8ff1a9c0"
   },
   "outputs": [
    {
     "name": "stdout",
     "output_type": "stream",
     "text": [
      "Requirement already satisfied: music21 in /usr/local/lib/python3.6/dist-packages (5.5.0)\n",
      "Cloning into 'LSTMjazz'...\n",
      "remote: Enumerating objects: 142, done.\u001b[K\n",
      "remote: Counting objects: 100% (142/142), done.\u001b[K\n",
      "remote: Compressing objects: 100% (140/140), done.\u001b[K\n",
      "remote: Total 281 (delta 74), reused 0 (delta 0), pack-reused 139\u001b[K\n",
      "Receiving objects: 100% (281/281), 690.84 KiB | 16.45 MiB/s, done.\n",
      "Resolving deltas: 100% (135/135), done.\n"
     ]
    }
   ],
   "source": [
    "!pip install music21\n",
    "\n",
    "import music21 as m21\n",
    "import glob\n",
    "\n",
    "!git clone https://github.com/Benendead/LSTMjazz/"
   ]
  },
  {
   "cell_type": "code",
   "execution_count": 0,
   "metadata": {
    "colab": {},
    "colab_type": "code",
    "id": "jvibh1szxW2r"
   },
   "outputs": [],
   "source": [
    "def formatStream(stream):\n",
    "  m21.harmony.realizeChordSymbolDurations(stream)           # Fills out chords' proper durations.\n",
    "  key = stream.analyze(\"key\")                               # Finds how far off we are from C.\n",
    "  i = m21.interval.Interval(key.tonic, m21.pitch.Pitch(\"C\"))\n",
    "  transposedStream = stream.transpose(i)                    # Transposes us that far to C.\n",
    "  return transposedStream"
   ]
  },
  {
   "cell_type": "code",
   "execution_count": 3,
   "metadata": {
    "colab": {
     "base_uri": "https://localhost:8080/",
     "height": 119
    },
    "colab_type": "code",
    "id": "MZ1mtdaLxX6h",
    "outputId": "fd5510b5-1fa0-4e3d-8e0d-6c8f80c4d568"
   },
   "outputs": [
    {
     "name": "stdout",
     "output_type": "stream",
     "text": [
      "Processing song  1 : LSTMjazz/Datasets/Omnibook Mxml/Card_Board.xml\n",
      "Processing song  10 : LSTMjazz/Datasets/Omnibook Mxml/Cheryl.xml\n",
      "Processing song  20 : LSTMjazz/Datasets/Omnibook Mxml/Bloomdido.xml\n",
      "Processing song  30 : LSTMjazz/Datasets/Omnibook Mxml/Perhaps.xml\n",
      "Processing song  40 : LSTMjazz/Datasets/Omnibook Mxml/Bird_Gets_The_Worm.xml\n",
      "Processing song  50 : LSTMjazz/Datasets/Omnibook Mxml/Visa.xml\n"
     ]
    }
   ],
   "source": [
    "# Import the songs and transpose them all to C.\n",
    "\n",
    "streams = []\n",
    "names = []\n",
    "i = 1\n",
    "\n",
    "# Selects all .xml files in the Datasets folder.\n",
    "for xml_file in glob.glob(\"LSTMjazz/Datasets/*/*.xml\"):\n",
    "    if (i == 1 or i % 10 == 0):\n",
    "      print('Processing song ', i, \":\", xml_file)\n",
    "    newSong = m21.converter.parse(xml_file)\n",
    "    formattedSong = formatStream(newSong)\n",
    "    streams.append(formattedSong)\n",
    "    songName = xml_file[32:-4]  # Formats xml_file to get the name of the song.\n",
    "    names.append(songName)\n",
    "    i = i + 1"
   ]
  },
  {
   "cell_type": "markdown",
   "metadata": {
    "colab_type": "text",
    "id": "HqfpoeIzyHH9"
   },
   "source": [
    "We now have all songs imported, transposed to C, and with fully realized chord durations.  \n",
    "Rather than one copy of each song in C, let's create $k$ copies of each song transposed to $k$ random keys."
   ]
  },
  {
   "cell_type": "code",
   "execution_count": 0,
   "metadata": {
    "colab": {},
    "colab_type": "code",
    "id": "kIExMo_fzN3F"
   },
   "outputs": [],
   "source": [
    "import random\n",
    "\n",
    "def transposeRandom(stream):\n",
    "  \"\"\"\n",
    "  Transposes a given stream to a random key.\n",
    "  \"\"\"\n",
    "  half_steps = random.randint(0,12) # Random number 0 to 11.\n",
    "  i = m21.interval.Interval(half_steps)\n",
    "  transposedStream = stream.transpose(i)\n",
    "  return transposedStream"
   ]
  },
  {
   "cell_type": "code",
   "execution_count": 12,
   "metadata": {
    "colab": {
     "base_uri": "https://localhost:8080/",
     "height": 204
    },
    "colab_type": "code",
    "id": "wp8ERBRD0Gnl",
    "outputId": "5dd8a294-f1a7-4e1d-bd77-4ee3f3599858"
   },
   "outputs": [
    {
     "name": "stdout",
     "output_type": "stream",
     "text": [
      "Transposing song 1\n",
      "Transposing song 6\n",
      "Transposing song 11\n",
      "Transposing song 16\n",
      "Transposing song 21\n",
      "Transposing song 26\n",
      "Transposing song 31\n",
      "Transposing song 36\n",
      "Transposing song 41\n",
      "Transposing song 46\n",
      "We have 200 total songs.\n"
     ]
    }
   ],
   "source": [
    "k = 4\n",
    "counter = 0\n",
    "\n",
    "expanded_streams = [] # This will have every transposed song in it; k*50 total.\n",
    "for stream_n in range(0,len(streams)):\n",
    "  s = streams[stream_n]\n",
    "  if (stream_n % 5 == 0):\n",
    "    print(\"Replicating song\", (stream_n + 1))\n",
    "  for i in range(0,k):\n",
    "    transposed_s = transposeRandom(s)\n",
    "    expanded_streams.append(transposed_s)\n",
    "    counter = counter + 1\n",
    "    \n",
    "print(\"We have\", counter, \"total songs.\")"
   ]
  },
  {
   "cell_type": "markdown",
   "metadata": {
    "colab_type": "text",
    "id": "THsjA3xkyVNt"
   },
   "source": [
    "# Basic Dataset Analysis"
   ]
  },
  {
   "cell_type": "markdown",
   "metadata": {
    "colab_type": "text",
    "id": "VFSZ2TOfyhJI"
   },
   "source": [
    "Let's check out how long our songs are, as well as the range of their pitches."
   ]
  },
  {
   "cell_type": "code",
   "execution_count": 0,
   "metadata": {
    "colab": {},
    "colab_type": "code",
    "id": "ATqFDpF3yi3Q"
   },
   "outputs": [],
   "source": [
    "def getDuration(stream):\n",
    "  \"\"\"\n",
    "  Takes a Music21 stream and returns the total length of the chords in the stream.\n",
    "  \"\"\"\n",
    "  part = stream.parts[0]\n",
    "  sumDuration = 0\n",
    "  \n",
    "  for m in part:                                            # For measures in the song...\n",
    "    if isinstance(m, m21.stream.Measure):\n",
    "      for c in m.notes:\n",
    "        if isinstance(c, m21.harmony.ChordSymbol):          # For the chords...\n",
    "          sumDuration = sumDuration + c.duration.quarterLength\n",
    "  \n",
    "  return sumDuration"
   ]
  },
  {
   "cell_type": "code",
   "execution_count": 14,
   "metadata": {
    "colab": {
     "base_uri": "https://localhost:8080/",
     "height": 34
    },
    "colab_type": "code",
    "id": "onuAnYJVysZq",
    "outputId": "30fa5014-0c63-407e-810b-4fd33a3688a4"
   },
   "outputs": [
    {
     "name": "stdout",
     "output_type": "stream",
     "text": [
      "We have 56336.0 total beats of data.\n"
     ]
    }
   ],
   "source": [
    "durations = []\n",
    "\n",
    "total = 0\n",
    "for s in expanded_streams:\n",
    "  duration = getDuration(s)\n",
    "  durations.append(duration)\n",
    "  total = total + duration\n",
    "  \n",
    "print(\"We have\", total, \"total beats of data.\")"
   ]
  },
  {
   "cell_type": "code",
   "execution_count": 15,
   "metadata": {
    "colab": {
     "base_uri": "https://localhost:8080/",
     "height": 379
    },
    "colab_type": "code",
    "id": "WsLWrVWD2PWQ",
    "outputId": "3af66b82-1209-49b7-da0c-b7060f264063"
   },
   "outputs": [
    {
     "data": {
      "image/png": "[encoded data removed]",
      "text/plain": [
       "<Figure size 576x396 with 1 Axes>"
      ]
     },
     "metadata": {
      "image/png": {
       "height": 362,
       "width": 493
      },
      "tags": []
     },
     "output_type": "display_data"
    }
   ],
   "source": [
    "# Some insight into the durations of the songs we have.\n",
    "\n",
    "import matplotlib.pyplot as plt\n",
    "import numpy as np\n",
    "\n",
    "n_bins = 15\n",
    "x = np.array(durations) / 4\n",
    "\n",
    "fig, ax = plt.subplots()\n",
    "\n",
    "plt.title(\"Histogram of Song Durations\", fontsize = 16)\n",
    "plt.xlabel(\"Number of Measures\", fontsize = 12)\n",
    "plt.ylabel(\"Number of Songs\", fontsize = 12)\n",
    "\n",
    "hist = ax.hist(x, bins = n_bins) # We can set the number of bins for the histogram with the \"bins\" kwarg"
   ]
  },
  {
   "cell_type": "markdown",
   "metadata": {
    "colab_type": "text",
    "id": "gRxoQjmEyrvM"
   },
   "source": []
  },
  {
   "cell_type": "markdown",
   "metadata": {
    "colab_type": "text",
    "id": "DgUu2A0rypXq"
   },
   "source": []
  }
 ],
 "metadata": {
  "colab": {
   "collapsed_sections": [],
   "include_colab_link": true,
   "name": "My Methods",
   "provenance": [],
   "version": "0.3.2"
  },
  "kernelspec": {
   "display_name": "Python 3",
   "language": "python",
   "name": "python3"
  },
  "language_info": {
   "codemirror_mode": {
    "name": "ipython",
    "version": 3
   },
   "file_extension": ".py",
   "mimetype": "text/x-python",
   "name": "python",
   "nbconvert_exporter": "python",
   "pygments_lexer": "ipython3",
   "version": "3.7.4"
  }
 },
 "nbformat": 4,
 "nbformat_minor": 1
}
