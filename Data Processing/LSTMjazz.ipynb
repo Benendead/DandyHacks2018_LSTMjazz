{
 "cells": [
  {
   "cell_type": "markdown",
   "metadata": {
    "colab_type": "text",
    "id": "view-in-github"
   },
   "source": [
    "<a href=\"https://colab.research.google.com/github/Benendead/LSTMjazz/blob/master/LSTMjazz.ipynb\" target=\"_parent\"><img src=\"https://colab.research.google.com/assets/colab-badge.svg\" alt=\"Open In Colab\"/></a>"
   ]
  },
  {
   "cell_type": "markdown",
   "metadata": {
    "colab_type": "text",
    "id": "qrAz73-p6WfC"
   },
   "source": [
    "# Setup for Music21"
   ]
  },
  {
   "cell_type": "code",
   "execution_count": 0,
   "metadata": {
    "colab": {
     "base_uri": "https://localhost:8080/",
     "height": 1428
    },
    "colab_type": "code",
    "id": "oRCPqKuWImeW",
    "outputId": "9c494a77-1997-4e3d-9c2d-c6a68f51ee12"
   },
   "outputs": [
    {
     "name": "stdout",
     "output_type": "stream",
     "text": [
      "Linux\n",
      "4.14.65+\n",
      "No LSB modules are available.\n",
      "Distributor ID:\tUbuntu\n",
      "Description:\tUbuntu 18.04.1 LTS\n",
      "Release:\t18.04\n",
      "Codename:\tbionic\n",
      "Reading package lists... Done\n",
      "Building dependency tree       \n",
      "Reading state information... Done\n",
      "Calculating upgrade... Done\n",
      "The following packages have been kept back:\n",
      "  libcudnn7 libnccl2\n",
      "The following packages will be upgraded:\n",
      "  dpkg libldap-2.4-2 libldap-common libssl1.1 openssl ubuntu-keyring\n",
      "6 upgraded, 0 newly installed, 0 to remove and 2 not upgraded.\n",
      "Need to get 2,996 kB of archives.\n",
      "After this operation, 4,096 B of additional disk space will be used.\n",
      "Get:1 http://archive.ubuntu.com/ubuntu bionic-updates/main amd64 dpkg amd64 1.19.0.5ubuntu2.1 [1,140 kB]\n",
      "Get:2 http://archive.ubuntu.com/ubuntu bionic-updates/main amd64 ubuntu-keyring all 2018.09.18.1~18.04.0 [22.4 kB]\n",
      "Get:3 http://archive.ubuntu.com/ubuntu bionic-updates/main amd64 libssl1.1 amd64 1.1.0g-2ubuntu4.3 [1,130 kB]\n",
      "Get:4 http://archive.ubuntu.com/ubuntu bionic-updates/main amd64 openssl amd64 1.1.0g-2ubuntu4.3 [532 kB]\n",
      "Get:5 http://archive.ubuntu.com/ubuntu bionic-updates/main amd64 libldap-common all 2.4.45+dfsg-1ubuntu1.1 [16.6 kB]\n",
      "Get:6 http://archive.ubuntu.com/ubuntu bionic-updates/main amd64 libldap-2.4-2 amd64 2.4.45+dfsg-1ubuntu1.1 [155 kB]\n",
      "Fetched 2,996 kB in 0s (14.1 MB/s)\n",
      "Preconfiguring packages ...\n",
      "(Reading database ... 110842 files and directories currently installed.)\n",
      "Preparing to unpack .../dpkg_1.19.0.5ubuntu2.1_amd64.deb ...\n",
      "Unpacking dpkg (1.19.0.5ubuntu2.1) over (1.19.0.5ubuntu2) ...\n",
      "Setting up dpkg (1.19.0.5ubuntu2.1) ...\n",
      "(Reading database ... 110842 files and directories currently installed.)\n",
      "Preparing to unpack .../ubuntu-keyring_2018.09.18.1~18.04.0_all.deb ...\n",
      "Unpacking ubuntu-keyring (2018.09.18.1~18.04.0) over (2018.02.28) ...\n",
      "Setting up ubuntu-keyring (2018.09.18.1~18.04.0) ...\n",
      "(Reading database ... 110843 files and directories currently installed.)\n",
      "Preparing to unpack .../libssl1.1_1.1.0g-2ubuntu4.3_amd64.deb ...\n",
      "Unpacking libssl1.1:amd64 (1.1.0g-2ubuntu4.3) over (1.1.0g-2ubuntu4.1) ...\n",
      "Preparing to unpack .../openssl_1.1.0g-2ubuntu4.3_amd64.deb ...\n",
      "Unpacking openssl (1.1.0g-2ubuntu4.3) over (1.1.0g-2ubuntu4.1) ...\n",
      "Preparing to unpack .../libldap-common_2.4.45+dfsg-1ubuntu1.1_all.deb ...\n",
      "Unpacking libldap-common (2.4.45+dfsg-1ubuntu1.1) over (2.4.45+dfsg-1ubuntu1) ...\n",
      "Preparing to unpack .../libldap-2.4-2_2.4.45+dfsg-1ubuntu1.1_amd64.deb ...\n",
      "Unpacking libldap-2.4-2:amd64 (2.4.45+dfsg-1ubuntu1.1) over (2.4.45+dfsg-1ubuntu1) ...\n",
      "Setting up libldap-common (2.4.45+dfsg-1ubuntu1.1) ...\n",
      "Processing triggers for libc-bin (2.27-3ubuntu1) ...\n",
      "Setting up libldap-2.4-2:amd64 (2.4.45+dfsg-1ubuntu1.1) ...\n",
      "Setting up libssl1.1:amd64 (1.1.0g-2ubuntu4.3) ...\n",
      "Setting up openssl (1.1.0g-2ubuntu4.3) ...\n",
      "Processing triggers for man-db (2.8.3-2ubuntu0.1) ...\n",
      "Processing triggers for libc-bin (2.27-3ubuntu1) ...\n",
      "Get:1 http://ppa.launchpad.net/graphics-drivers/ppa/ubuntu bionic InRelease [21.3 kB]\n",
      "Hit:2 http://archive.ubuntu.com/ubuntu bionic InRelease\n",
      "Get:3 http://archive.ubuntu.com/ubuntu bionic-updates InRelease [88.7 kB]\n",
      "Get:4 http://security.ubuntu.com/ubuntu bionic-security InRelease [83.2 kB]\n",
      "Get:5 http://archive.ubuntu.com/ubuntu bionic-backports InRelease [74.6 kB]\n",
      "Get:6 http://archive.canonical.com/ubuntu bionic InRelease [10.2 kB]\n",
      "Ign:7 https://developer.download.nvidia.com/compute/cuda/repos/ubuntu1710/x86_64  InRelease\n",
      "Get:8 http://archive.ubuntu.com/ubuntu bionic/universe Sources [11.5 MB]\n",
      "Ign:9 https://developer.download.nvidia.com/compute/machine-learning/repos/ubuntu1604/x86_64  InRelease\n",
      "Hit:10 https://developer.download.nvidia.com/compute/cuda/repos/ubuntu1710/x86_64  Release\n",
      "Hit:11 https://developer.download.nvidia.com/compute/machine-learning/repos/ubuntu1604/x86_64  Release\n",
      "Get:12 http://ppa.launchpad.net/graphics-drivers/ppa/ubuntu bionic/main amd64 Packages [27.2 kB]\n",
      "Get:13 http://archive.ubuntu.com/ubuntu bionic/main Sources [1,063 kB]\n",
      "Get:14 http://archive.ubuntu.com/ubuntu bionic/multiverse Sources [216 kB]\n",
      "Get:15 http://archive.ubuntu.com/ubuntu bionic/restricted Sources [5,823 B]\n",
      "Get:16 http://security.ubuntu.com/ubuntu bionic-security/multiverse Sources [1,266 B]\n",
      "Get:17 http://security.ubuntu.com/ubuntu bionic-security/universe Sources [32.5 kB]\n",
      "Get:18 http://security.ubuntu.com/ubuntu bionic-security/main Sources [79.8 kB]\n",
      "Get:19 http://security.ubuntu.com/ubuntu bionic-security/universe amd64 Packages [135 kB]\n",
      "Get:20 http://security.ubuntu.com/ubuntu bionic-security/main amd64 Packages [300 kB]\n",
      "Get:21 http://archive.ubuntu.com/ubuntu bionic-updates/restricted Sources [2,092 B]\n",
      "Get:22 http://archive.ubuntu.com/ubuntu bionic-updates/multiverse Sources [3,978 B]\n",
      "Get:23 http://archive.ubuntu.com/ubuntu bionic-updates/universe Sources [168 kB]\n",
      "Get:24 http://archive.ubuntu.com/ubuntu bionic-updates/main Sources [287 kB]\n",
      "Get:25 http://archive.ubuntu.com/ubuntu bionic-updates/universe amd64 Packages [900 kB]\n",
      "Get:26 http://archive.ubuntu.com/ubuntu bionic-updates/main amd64 Packages [618 kB]\n",
      "Get:27 http://archive.ubuntu.com/ubuntu bionic-backports/universe Sources [2,069 B]\n",
      "Get:28 http://archive.canonical.com/ubuntu bionic/partner Sources [1,906 B]\n",
      "Fetched 15.6 MB in 2s (6,368 kB/s)\n",
      "Reading package lists... Done\n",
      "Building dependency tree       \n",
      "Reading state information... Done\n",
      "6 packages can be upgraded. Run 'apt list --upgradable' to see them.\n"
     ]
    }
   ],
   "source": [
    "# Check which version of Linux we have, and our distribution.\n",
    "!uname\n",
    "!uname -r\n",
    "!lsb_release -a\n",
    "\n",
    "# Updates the Linux package installer thing we need to use.\n",
    "!apt upgrade\n",
    "\n",
    "# Allows us to install directly from source, as we're about to do for Lilypond.\n",
    "!sed -i '/deb-src/s/^# //' /etc/apt/sources.list && apt update\n",
    "\n",
    "# Build the dependencies for Lilypond.\n",
    "!apt build-dep lilypond\n",
    "\n",
    "# Lilypond also wants us to run this.\n",
    "!apt install autoconf fonts-texgyre texlive-lang-cyrillic\n",
    "\n",
    "# Now install Lilypond.\n",
    "!apt install lilypond"
   ]
  },
  {
   "cell_type": "code",
   "execution_count": 0,
   "metadata": {
    "colab": {},
    "colab_type": "code",
    "id": "K1sGtLK3V9hE"
   },
   "outputs": [],
   "source": [
    "# Also install Musescore.\n",
    "!apt install musescore"
   ]
  },
  {
   "cell_type": "code",
   "execution_count": 0,
   "metadata": {
    "colab": {},
    "colab_type": "code",
    "id": "vzW5ArR5O_sU"
   },
   "outputs": [],
   "source": [
    "!whereis musescore\n",
    "!whereis lilypond"
   ]
  },
  {
   "cell_type": "markdown",
   "metadata": {
    "colab_type": "text",
    "id": "U7TuyEQ-KSpR"
   },
   "source": [
    "# Import Libraries and Data"
   ]
  },
  {
   "cell_type": "code",
   "execution_count": 1,
   "metadata": {
    "colab": {
     "base_uri": "https://localhost:8080/",
     "height": 34
    },
    "colab_type": "code",
    "id": "-bC7ni7g6dLH",
    "outputId": "9b175002-1279-479f-d692-5e8f03b496f2"
   },
   "outputs": [
    {
     "name": "stdout",
     "output_type": "stream",
     "text": [
      "Requirement already satisfied: music21 in /usr/local/lib/python3.6/dist-packages (5.5.0)\n"
     ]
    }
   ],
   "source": [
    "!pip install music21\n",
    "\n",
    "# m21.environment.set('pdfPath', '/usr/bin/musescore')\n",
    "# m21.environment.set('graphicsPath', '/usr/bin/musescore')\n",
    "# m21.environment.set('musescoreDirectPNGPath', '/usr/bin/musescore')\n",
    "# m21.environment.UserSettings()['lilypondPath'] = '/usr/bin/lilypond'"
   ]
  },
  {
   "cell_type": "code",
   "execution_count": 0,
   "metadata": {
    "colab": {},
    "colab_type": "code",
    "id": "P4ZotesOeLmi"
   },
   "outputs": [],
   "source": [
    "import music21 as m21\n",
    "import glob"
   ]
  },
  {
   "cell_type": "code",
   "execution_count": 3,
   "metadata": {
    "colab": {
     "base_uri": "https://localhost:8080/",
     "height": 136
    },
    "colab_type": "code",
    "id": "8woQ0Mf54o4j",
    "outputId": "5b4222ca-b1ec-4b4f-c43a-7e113fb7a9e0"
   },
   "outputs": [
    {
     "name": "stdout",
     "output_type": "stream",
     "text": [
      "Cloning into 'LSTMjazz'...\n",
      "remote: Enumerating objects: 12, done.\u001b[K\n",
      "remote: Counting objects: 100% (12/12), done.\u001b[K\n",
      "remote: Compressing objects: 100% (12/12), done.\u001b[K\n",
      "remote: Total 151 (delta 4), reused 0 (delta 0), pack-reused 139\u001b[K\n",
      "Receiving objects: 100% (151/151), 469.56 KiB | 5.94 MiB/s, done.\n",
      "Resolving deltas: 100% (65/65), done.\n"
     ]
    }
   ],
   "source": [
    "!git clone https://github.com/Benendead/LSTMjazz/"
   ]
  },
  {
   "cell_type": "code",
   "execution_count": 4,
   "metadata": {
    "colab": {
     "base_uri": "https://localhost:8080/",
     "height": 34
    },
    "colab_type": "code",
    "id": "KqDtj5mhFajp",
    "outputId": "feeeb1b1-e732-4939-c627-5b7ece639ef0"
   },
   "outputs": [
    {
     "name": "stdout",
     "output_type": "stream",
     "text": [
      "Datasets  Keyboard.py  LSTMjazz.ipynb  README.md\n"
     ]
    }
   ],
   "source": [
    "# Check out the directory.\n",
    "!ls LSTMjazz"
   ]
  },
  {
   "cell_type": "code",
   "execution_count": 5,
   "metadata": {
    "colab": {
     "base_uri": "https://localhost:8080/",
     "height": 442
    },
    "colab_type": "code",
    "id": "H5a8uaJ8Fiy7",
    "outputId": "1000add9-f69c-424a-e195-9e369d0dc89e"
   },
   "outputs": [
    {
     "name": "stdout",
     "output_type": "stream",
     "text": [
      " An_Oscar_For_Treadwell.xml   Kim_2.xml\n",
      " Another_Hairdo.xml\t      Ko_Ko.xml\n",
      " Anthropology.xml\t      Laird_Baird.xml\n",
      " Au_Private_1.xml\t      Marmaduke.xml\n",
      " Au_Private_2.xml\t      Mohawk_1.xml\n",
      " Back_Home_Blues.xml\t      Mohawk_2.xml\n",
      " Barbados.xml\t\t      Moose_The_Mooche.xml\n",
      "\"Billies's_Bounce.xml\"\t      My_Little_Suede_Shoes.xml\n",
      " Bird_Gets_The_Worm.xml      \"Now's_The_Time_1.xml\"\n",
      " Bloomdido.xml\t\t     \"Now's_The_Time_2.xml\"\n",
      " Blue_Bird.xml\t\t      Ornithology.xml\n",
      " Blues_For_Alice.xml\t      Passport.xml\n",
      " Buzzy.xml\t\t      Perhaps.xml\n",
      " Card_Board.xml\t\t      Red_Cross.xml\n",
      " Celerity.xml\t\t      Relaxing_With_Lee.xml\n",
      " Chasing_The_Bird.xml\t      Scrapple_From_The_Apple.xml\n",
      " Cheryl.xml\t\t      Segment.xml\n",
      " Chi_Chi.xml\t\t      Shawnuff.xml\n",
      " Confirmation.xml\t      Si_Si.xml\n",
      " Cosmic_Rays.xml\t      Steeplechase.xml\n",
      " Dewey_Square.xml\t      The_Bird.xml\n",
      " Diverse.xml\t\t      Thriving_From_A_Riff.xml\n",
      " Donna_Lee.xml\t\t      Visa.xml\n",
      " KC_Blues.xml\t\t      Warming_Up_A_Riff.xml\n",
      " Kim_1.xml\t\t      Yardbird_Suite.xml\n"
     ]
    }
   ],
   "source": [
    "# Find the songs.\n",
    "!ls LSTMjazz/Datasets/\"Omnibook Mxml\""
   ]
  },
  {
   "cell_type": "code",
   "execution_count": 6,
   "metadata": {
    "colab": {
     "base_uri": "https://localhost:8080/",
     "height": 204
    },
    "colab_type": "code",
    "id": "TYw_0R0wCQNI",
    "outputId": "8587b165-8638-421b-8bff-31b256035aac"
   },
   "outputs": [
    {
     "name": "stdout",
     "output_type": "stream",
     "text": [
      "Processing song  1 : LSTMjazz/Datasets/Omnibook Mxml/Thriving_From_A_Riff.xml\n",
      "Processing song  5 : LSTMjazz/Datasets/Omnibook Mxml/Bird_Gets_The_Worm.xml\n",
      "Processing song  10 : LSTMjazz/Datasets/Omnibook Mxml/Warming_Up_A_Riff.xml\n",
      "Processing song  15 : LSTMjazz/Datasets/Omnibook Mxml/Buzzy.xml\n",
      "Processing song  20 : LSTMjazz/Datasets/Omnibook Mxml/Kim_1.xml\n",
      "Processing song  25 : LSTMjazz/Datasets/Omnibook Mxml/Moose_The_Mooche.xml\n",
      "Processing song  30 : LSTMjazz/Datasets/Omnibook Mxml/Dewey_Square.xml\n",
      "Processing song  35 : LSTMjazz/Datasets/Omnibook Mxml/Segment.xml\n",
      "Processing song  40 : LSTMjazz/Datasets/Omnibook Mxml/Blues_For_Alice.xml\n",
      "Processing song  45 : LSTMjazz/Datasets/Omnibook Mxml/Celerity.xml\n",
      "Processing song  50 : LSTMjazz/Datasets/Omnibook Mxml/Si_Si.xml\n"
     ]
    }
   ],
   "source": [
    "# Import the songs into a list.\n",
    "\n",
    "streams = []\n",
    "names = []\n",
    "i = 1\n",
    "for xml_file in glob.glob(\"LSTMjazz/Datasets/*/*.xml\"): # Selects all .xml files in the Datasets folder.\n",
    "    if (i == 1 or i % 5 == 0):\n",
    "      print('Processing song ', i, \":\", xml_file)\n",
    "    newSong = m21.converter.parse(xml_file)\n",
    "    streams.append(newSong)\n",
    "    \n",
    "    songName = xml_file[32:-4]                          # Formats xml_file to get the name of the song.\n",
    "    names.append(songName)\n",
    "    \n",
    "    i = i + 1"
   ]
  },
  {
   "cell_type": "markdown",
   "metadata": {
    "colab_type": "text",
    "id": "TK4G3-eb4a-j"
   },
   "source": [
    "# Format Data: Chords"
   ]
  },
  {
   "cell_type": "code",
   "execution_count": 0,
   "metadata": {
    "colab": {},
    "colab_type": "code",
    "id": "GPn-EvGJ2acE"
   },
   "outputs": [],
   "source": [
    "def formatStream(stream):\n",
    "  m21.harmony.realizeChordSymbolDurations(stream)           # Fills out chords' proper durations.\n",
    "  key = stream.analyze(\"key\")                               # Finds how far off we are from C.\n",
    "  i = m21.interval.Interval(key.tonic, m21.pitch.Pitch(\"C\"))\n",
    "  transposedStream = stream.transpose(i)                    # Transposes us that far to C.\n",
    "  return transposedStream"
   ]
  },
  {
   "cell_type": "code",
   "execution_count": 8,
   "metadata": {
    "colab": {
     "base_uri": "https://localhost:8080/",
     "height": 204
    },
    "colab_type": "code",
    "id": "CFJp3D292soh",
    "outputId": "7870c660-2e37-4007-8ea9-e11b1c3ac4ce"
   },
   "outputs": [
    {
     "name": "stdout",
     "output_type": "stream",
     "text": [
      "Processing song 1\n",
      "Processing song 5\n",
      "Processing song 10\n",
      "Processing song 15\n",
      "Processing song 20\n",
      "Processing song 25\n",
      "Processing song 30\n",
      "Processing song 35\n",
      "Processing song 40\n",
      "Processing song 45\n",
      "Processing song 50\n"
     ]
    }
   ],
   "source": [
    "# Realize chord durations and also transpose all songs to Cmaj or Amin (no flats/sharps).\n",
    "betterStreams = []\n",
    "\n",
    "i = 1\n",
    "for s in streams:\n",
    "  if (i == 1 or i % 5 == 0):\n",
    "    print('Processing song', i)\n",
    "  newStream = formatStream(s)\n",
    "  betterStreams.append(newStream)\n",
    "  i = i + 1"
   ]
  },
  {
   "cell_type": "code",
   "execution_count": 0,
   "metadata": {
    "colab": {},
    "colab_type": "code",
    "id": "g5LxG0s_1fpc"
   },
   "outputs": [],
   "source": [
    "def getDuration(stream, display = False):\n",
    "  \"\"\"\n",
    "  Takes a Music21 stream and returns the total length of the chords in the stream.\n",
    "  \"\"\"\n",
    "  part = stream.parts[0]\n",
    "  sumDuration = 0\n",
    "  \n",
    "  for m in part:                                            # For measures in the song...\n",
    "    if isinstance(m, m21.stream.Measure):\n",
    "      for c in m.notes:\n",
    "        if isinstance(c, m21.harmony.ChordSymbol):          # For the chords...\n",
    "          sumDuration = sumDuration + c.duration.quarterLength\n",
    "          \n",
    "  if (display):\n",
    "    print(\"Total length of song is\", sumDuration, \"beats.\")\n",
    "  \n",
    "  return sumDuration"
   ]
  },
  {
   "cell_type": "code",
   "execution_count": 10,
   "metadata": {
    "colab": {
     "base_uri": "https://localhost:8080/",
     "height": 34
    },
    "colab_type": "code",
    "id": "kJq9OKc05Mr5",
    "outputId": "2424526f-2925-42db-9198-cf70684d228b"
   },
   "outputs": [
    {
     "name": "stdout",
     "output_type": "stream",
     "text": [
      "We have 14084.0 total beats of data.\n"
     ]
    }
   ],
   "source": [
    "durations = []\n",
    "\n",
    "total = 0\n",
    "for s in betterStreams:\n",
    "  duration = getDuration(s)\n",
    "  durations.append(duration)\n",
    "  total = total + duration\n",
    "  \n",
    "print(\"We have\", total, \"total beats of data.\")"
   ]
  },
  {
   "cell_type": "code",
   "execution_count": 11,
   "metadata": {
    "colab": {
     "base_uri": "https://localhost:8080/",
     "height": 379
    },
    "colab_type": "code",
    "id": "NU5oJcqk5exm",
    "outputId": "adf9aaab-291c-40cb-9dce-535df88198fb"
   },
   "outputs": [
    {
     "data": {
      "image/png": "[encoded data removed]",
      "text/plain": [
       "<matplotlib.figure.Figure at 0x7f5224673d30>"
      ]
     },
     "metadata": {
      "image/png": {
       "height": 362,
       "width": 493
      },
      "tags": []
     },
     "output_type": "display_data"
    }
   ],
   "source": [
    "# Some insight into the durations of the songs we have.\n",
    "\n",
    "import matplotlib.pyplot as plt\n",
    "import numpy as np\n",
    "\n",
    "n_bins = 15\n",
    "x = np.array(durations) / 4\n",
    "\n",
    "fig, ax = plt.subplots()\n",
    "\n",
    "plt.title(\"Histogram of Song Durations\", fontsize = 16)\n",
    "plt.xlabel(\"Number of Measures\", fontsize = 12)\n",
    "plt.ylabel(\"Number of Songs\", fontsize = 12)\n",
    "\n",
    "hist = ax.hist(x, bins = n_bins) # We can set the number of bins for the histogram with the \"bins\" kwarg"
   ]
  },
  {
   "cell_type": "code",
   "execution_count": 0,
   "metadata": {
    "colab": {},
    "colab_type": "code",
    "id": "FOFzELs6NTV5"
   },
   "outputs": [],
   "source": [
    "def printChords(stream):\n",
    "  part = stream.parts[0]\n",
    "  \n",
    "  # Collect the chords in the song.\n",
    "  for m in part:                                     # For measures in the song...\n",
    "    if isinstance(m, m21.stream.Measure):\n",
    "      for c in m.notes:\n",
    "        if isinstance(c, m21.harmony.ChordSymbol):   # If this object is a chord...\n",
    "          notesInChord = \"\"\n",
    "          for p in c.pitches:\n",
    "            p.octave = 4\n",
    "            num = (p.midi - 60) % 12                 # num will range from 0 to 11.\n",
    "            notesInChord = notesInChord + str(num) + \" \"\n",
    "          \n",
    "          measure = int((m.offset / 4.) + 1)\n",
    "          print(\"Measure\", measure, \":\", str(c.figure), \"for\", str(c.duration.quarterLength), \"beats. Notes:\", notesInChord)"
   ]
  },
  {
   "cell_type": "code",
   "execution_count": 13,
   "metadata": {
    "colab": {
     "base_uri": "https://localhost:8080/",
     "height": 2499
    },
    "colab_type": "code",
    "id": "ot-kZgHkO6Z0",
    "outputId": "2a7ad967-ad1d-4632-9c7b-1fe9ca9d5d50"
   },
   "outputs": [
    {
     "name": "stdout",
     "output_type": "stream",
     "text": [
      "Measure 1 : G7 for 4.0 beats. Notes: 7 11 2 5 \n",
      "Measure 2 : C for 4.0 beats. Notes: 0 4 7 \n",
      "Measure 3 : C for 4.0 beats. Notes: 0 4 7 \n",
      "Measure 4 : Gm for 4.0 beats. Notes: 7 10 2 \n",
      "Measure 5 : C7 for 4.0 beats. Notes: 0 4 7 10 \n",
      "Measure 6 : F for 4.0 beats. Notes: 5 9 0 \n",
      "Measure 7 : F for 4.0 beats. Notes: 5 9 0 \n",
      "Measure 8 : Fm for 4.0 beats. Notes: 5 8 0 \n",
      "Measure 9 : B-7 for 4.0 beats. Notes: 10 2 5 8 \n",
      "Measure 10 : C for 4.0 beats. Notes: 0 4 7 \n",
      "Measure 11 : C for 4.0 beats. Notes: 0 4 7 \n",
      "Measure 12 : D7 for 4.0 beats. Notes: 2 6 9 0 \n",
      "Measure 13 : D7 for 4.0 beats. Notes: 2 6 9 0 \n",
      "Measure 14 : Dm for 4.0 beats. Notes: 2 5 9 \n",
      "Measure 15 : G7 for 4.0 beats. Notes: 7 11 2 5 \n",
      "Measure 16 : C for 4.0 beats. Notes: 0 4 7 \n",
      "Measure 17 : C for 4.0 beats. Notes: 0 4 7 \n",
      "Measure 18 : C for 4.0 beats. Notes: 0 4 7 \n",
      "Measure 19 : C for 4.0 beats. Notes: 0 4 7 \n",
      "Measure 20 : Gm for 4.0 beats. Notes: 7 10 2 \n",
      "Measure 21 : C7 for 4.0 beats. Notes: 0 4 7 10 \n",
      "Measure 22 : F for 4.0 beats. Notes: 5 9 0 \n",
      "Measure 23 : F for 4.0 beats. Notes: 5 9 0 \n",
      "Measure 24 : Fm for 4.0 beats. Notes: 5 8 0 \n",
      "Measure 25 : B-7 for 4.0 beats. Notes: 10 2 5 8 \n",
      "Measure 26 : C for 4.0 beats. Notes: 0 4 7 \n",
      "Measure 27 : C for 4.0 beats. Notes: 0 4 7 \n",
      "Measure 28 : D7 for 4.0 beats. Notes: 2 6 9 0 \n",
      "Measure 29 : D7 for 4.0 beats. Notes: 2 6 9 0 \n",
      "Measure 30 : Dm for 4.0 beats. Notes: 2 5 9 \n",
      "Measure 31 : A7 for 4.0 beats. Notes: 9 1 4 7 \n",
      "Measure 32 : Dm for 4.0 beats. Notes: 2 5 9 \n",
      "Measure 33 : G7 for 4.0 beats. Notes: 7 11 2 5 \n",
      "Measure 34 : C for 4.0 beats. Notes: 0 4 7 \n",
      "Measure 35 : C for 4.0 beats. Notes: 0 4 7 \n",
      "Measure 36 : Gm for 4.0 beats. Notes: 7 10 2 \n",
      "Measure 37 : C7 for 4.0 beats. Notes: 0 4 7 10 \n",
      "Measure 38 : F for 4.0 beats. Notes: 5 9 0 \n",
      "Measure 39 : F for 4.0 beats. Notes: 5 9 0 \n",
      "Measure 40 : Fm for 4.0 beats. Notes: 5 8 0 \n",
      "Measure 41 : B-7 for 4.0 beats. Notes: 10 2 5 8 \n",
      "Measure 42 : C for 4.0 beats. Notes: 0 4 7 \n",
      "Measure 43 : C for 4.0 beats. Notes: 0 4 7 \n",
      "Measure 44 : D7 for 4.0 beats. Notes: 2 6 9 0 \n",
      "Measure 45 : D7 for 4.0 beats. Notes: 2 6 9 0 \n",
      "Measure 46 : Dm for 4.0 beats. Notes: 2 5 9 \n",
      "Measure 47 : G7 for 4.0 beats. Notes: 7 11 2 5 \n",
      "Measure 48 : C for 4.0 beats. Notes: 0 4 7 \n",
      "Measure 49 : C for 4.0 beats. Notes: 0 4 7 \n",
      "Measure 50 : E-m for 4.0 beats. Notes: 3 6 10 \n",
      "Measure 51 : A-7 for 4.0 beats. Notes: 8 0 3 6 \n",
      "Measure 52 : C# for 4.0 beats. Notes: 1 5 8 \n",
      "Measure 53 : C# for 4.0 beats. Notes: 1 5 8 \n",
      "Measure 54 : C#m for 4.0 beats. Notes: 1 4 8 \n",
      "Measure 55 : F#7 for 4.0 beats. Notes: 6 10 1 4 \n",
      "Measure 56 : B for 4.0 beats. Notes: 11 3 6 \n",
      "Measure 57 : B for 4.0 beats. Notes: 11 3 6 \n",
      "Measure 58 : Bm for 4.0 beats. Notes: 11 2 6 \n",
      "Measure 59 : E7 for 4.0 beats. Notes: 4 8 11 2 \n",
      "Measure 60 : A for 4.0 beats. Notes: 9 1 4 \n",
      "Measure 61 : A for 4.0 beats. Notes: 9 1 4 \n",
      "Measure 62 : Am for 4.0 beats. Notes: 9 0 4 \n",
      "Measure 63 : D7 for 4.0 beats. Notes: 2 6 9 0 \n",
      "Measure 64 : Dm for 4.0 beats. Notes: 2 5 9 \n",
      "Measure 65 : G7 for 4.0 beats. Notes: 7 11 2 5 \n",
      "Measure 66 : C for 4.0 beats. Notes: 0 4 7 \n",
      "Measure 67 : C for 4.0 beats. Notes: 0 4 7 \n",
      "Measure 68 : Gm for 4.0 beats. Notes: 7 10 2 \n",
      "Measure 69 : C7 for 4.0 beats. Notes: 0 4 7 10 \n",
      "Measure 70 : F for 4.0 beats. Notes: 5 9 0 \n",
      "Measure 71 : F for 4.0 beats. Notes: 5 9 0 \n",
      "Measure 72 : Fm for 4.0 beats. Notes: 5 8 0 \n",
      "Measure 73 : B-7 for 4.0 beats. Notes: 10 2 5 8 \n",
      "Measure 74 : C for 4.0 beats. Notes: 0 4 7 \n",
      "Measure 75 : C for 4.0 beats. Notes: 0 4 7 \n",
      "Measure 76 : D7 for 4.0 beats. Notes: 2 6 9 0 \n",
      "Measure 77 : D7 for 4.0 beats. Notes: 2 6 9 0 \n",
      "Measure 78 : Dm for 4.0 beats. Notes: 2 5 9 \n",
      "Measure 79 : G7 for 4.0 beats. Notes: 7 11 2 5 \n",
      "Measure 80 : C for 4.0 beats. Notes: 0 4 7 \n",
      "Measure 81 : G7 for 4.0 beats. Notes: 7 11 2 5 \n",
      "Measure 82 : C for 4.0 beats. Notes: 0 4 7 \n",
      "Measure 83 : C for 4.0 beats. Notes: 0 4 7 \n",
      "Measure 84 : Gm for 4.0 beats. Notes: 7 10 2 \n",
      "Measure 85 : C7 for 4.0 beats. Notes: 0 4 7 10 \n",
      "Measure 86 : F for 4.0 beats. Notes: 5 9 0 \n",
      "Measure 87 : F for 4.0 beats. Notes: 5 9 0 \n",
      "Measure 88 : Fm for 4.0 beats. Notes: 5 8 0 \n",
      "Measure 89 : B-7 for 4.0 beats. Notes: 10 2 5 8 \n",
      "Measure 90 : C for 4.0 beats. Notes: 0 4 7 \n",
      "Measure 91 : C for 4.0 beats. Notes: 0 4 7 \n",
      "Measure 92 : D7 for 4.0 beats. Notes: 2 6 9 0 \n",
      "Measure 93 : D7 for 4.0 beats. Notes: 2 6 9 0 \n",
      "Measure 94 : Dm for 4.0 beats. Notes: 2 5 9 \n",
      "Measure 95 : A7 for 4.0 beats. Notes: 9 1 4 7 \n",
      "Measure 96 : Dm for 4.0 beats. Notes: 2 5 9 \n",
      "Measure 97 : G7 for 4.0 beats. Notes: 7 11 2 5 \n",
      "Measure 98 : C for 4.0 beats. Notes: 0 4 7 \n",
      "Measure 99 : C for 4.0 beats. Notes: 0 4 7 \n",
      "Measure 100 : Gm for 4.0 beats. Notes: 7 10 2 \n",
      "Measure 101 : C7 for 4.0 beats. Notes: 0 4 7 10 \n",
      "Measure 102 : F for 4.0 beats. Notes: 5 9 0 \n",
      "Measure 103 : F for 4.0 beats. Notes: 5 9 0 \n",
      "Measure 104 : Fm for 4.0 beats. Notes: 5 8 0 \n",
      "Measure 105 : B-7 for 4.0 beats. Notes: 10 2 5 8 \n",
      "Measure 106 : C for 4.0 beats. Notes: 0 4 7 \n",
      "Measure 107 : C for 4.0 beats. Notes: 0 4 7 \n",
      "Measure 108 : D7 for 4.0 beats. Notes: 2 6 9 0 \n",
      "Measure 109 : D7 for 4.0 beats. Notes: 2 6 9 0 \n",
      "Measure 110 : Dm for 4.0 beats. Notes: 2 5 9 \n",
      "Measure 111 : G7 for 4.0 beats. Notes: 7 11 2 5 \n",
      "Measure 112 : C for 4.0 beats. Notes: 0 4 7 \n",
      "Measure 113 : C for 4.0 beats. Notes: 0 4 7 \n",
      "Measure 114 : D#m for 4.0 beats. Notes: 3 6 10 \n",
      "Measure 115 : G#7 for 4.0 beats. Notes: 8 0 3 6 \n",
      "Measure 116 : C# for 4.0 beats. Notes: 1 5 8 \n",
      "Measure 117 : C# for 4.0 beats. Notes: 1 5 8 \n",
      "Measure 118 : C#m for 4.0 beats. Notes: 1 4 8 \n",
      "Measure 119 : F#7 for 4.0 beats. Notes: 6 10 1 4 \n",
      "Measure 120 : B for 4.0 beats. Notes: 11 3 6 \n",
      "Measure 121 : B for 4.0 beats. Notes: 11 3 6 \n",
      "Measure 122 : Bm for 4.0 beats. Notes: 11 2 6 \n",
      "Measure 123 : E7 for 4.0 beats. Notes: 4 8 11 2 \n",
      "Measure 124 : A for 4.0 beats. Notes: 9 1 4 \n",
      "Measure 125 : A for 4.0 beats. Notes: 9 1 4 \n",
      "Measure 126 : Am for 4.0 beats. Notes: 9 0 4 \n",
      "Measure 127 : D7 for 4.0 beats. Notes: 2 6 9 0 \n",
      "Measure 128 : Dm for 4.0 beats. Notes: 2 5 9 \n",
      "Measure 129 : G7 for 4.0 beats. Notes: 7 11 2 5 \n",
      "Measure 130 : C for 4.0 beats. Notes: 0 4 7 \n",
      "Measure 131 : C for 4.0 beats. Notes: 0 4 7 \n",
      "Measure 132 : Gm for 4.0 beats. Notes: 7 10 2 \n",
      "Measure 133 : C7 for 4.0 beats. Notes: 0 4 7 10 \n",
      "Measure 134 : F for 4.0 beats. Notes: 5 9 0 \n",
      "Measure 135 : F for 4.0 beats. Notes: 5 9 0 \n",
      "Measure 136 : Fm for 4.0 beats. Notes: 5 8 0 \n",
      "Measure 137 : B-7 for 4.0 beats. Notes: 10 2 5 8 \n",
      "Measure 138 : C for 4.0 beats. Notes: 0 4 7 \n",
      "Measure 139 : C for 4.0 beats. Notes: 0 4 7 \n",
      "Measure 140 : D7 for 4.0 beats. Notes: 2 6 9 0 \n",
      "Measure 141 : D7 for 4.0 beats. Notes: 2 6 9 0 \n",
      "Measure 142 : Dm for 4.0 beats. Notes: 2 5 9 \n",
      "Measure 143 : G7 for 4.0 beats. Notes: 7 11 2 5 \n",
      "Measure 144 : C for 4.0 beats. Notes: 0 4 7 \n",
      "Measure 145 : Dm for 2.0 beats. Notes: 2 5 9 \n",
      "Measure 145 : G7 for 2.0 beats. Notes: 7 11 2 5 \n"
     ]
    }
   ],
   "source": [
    "printChords(betterStreams[9])\n",
    "\n",
    "# Note measure 115 here:\n",
    "# The chord G#7 has notes G#, B#, D#, and F#.\n",
    "# B#4 would have given us note 73, which minus 60 is 13, hence requiring the modulo 12 seen above."
   ]
  },
  {
   "cell_type": "code",
   "execution_count": 0,
   "metadata": {
    "colab": {},
    "colab_type": "code",
    "id": "mFByCWi3CiUP"
   },
   "outputs": [],
   "source": [
    "def processChords(stream, duration):\n",
    "  \"\"\"\n",
    "  Create the 2D numpy array which will represent the chords of this song.\n",
    "  NOTE: Vertical of the 2D array represents time.\n",
    "        Horizontal represents the 12 possible chord notes for each tick.\n",
    "  \"\"\"\n",
    "  subdivide = 12   # Here we set the number of subdivisions our data and thus model will consider per beat. Big decision.\n",
    "  ticks = int(duration * subdivide)  # The total number of \"ticks\" in this entire song\n",
    "  \n",
    "  # Create the numpy array to store the chord data.\n",
    "  arr = np.zeros((ticks, 12))\n",
    "  \n",
    "  part = stream.parts[0]\n",
    "  \n",
    "  # Collect the chords in the song.\n",
    "  for m in part:                                     # For measures in the song...\n",
    "    if isinstance(m, m21.stream.Measure):\n",
    "      currOffset = int(m.offset * subdivide)         # This offset is in ticks.\n",
    "      \n",
    "      for c in m.notes:\n",
    "        if isinstance(c, m21.harmony.ChordSymbol):   # If this object is a chord...\n",
    "          ticksInChord = int(c.duration.quarterLength * subdivide)\n",
    "          endOfChord = currOffset + ticksInChord\n",
    "          \n",
    "          notesInChord = []\n",
    "          for p in c.pitches:\n",
    "            p.octave = 4\n",
    "            num = int(p.midi - 60) % 12              # num will range from 0 to 11.\n",
    "            notesInChord.append(num)\n",
    "         \n",
    "          for r in range(currOffset, endOfChord):    # For each row, representing all ticks in this chord...\n",
    "            for n in notesInChord:                   # Set all the notes in this chord to 1 for these ticks.\n",
    "              arr[r][n] = 1\n",
    "          \n",
    "          currOffset = currOffset + ticksInChord     # Account for two chords in a measure by adding the first chord to the offset.\n",
    "          \n",
    "  return arr"
   ]
  },
  {
   "cell_type": "code",
   "execution_count": 0,
   "metadata": {
    "colab": {},
    "colab_type": "code",
    "id": "AYUDtm8TFK9N"
   },
   "outputs": [],
   "source": [
    "def checkRows(arr):\n",
    "  for row in arr:\n",
    "    found = False\n",
    "    for c in row:\n",
    "      if (c == 1):\n",
    "        found = True\n",
    "    if (not found):\n",
    "      print(\"Nothing in this row.\")"
   ]
  },
  {
   "cell_type": "code",
   "execution_count": 16,
   "metadata": {
    "colab": {
     "base_uri": "https://localhost:8080/",
     "height": 34
    },
    "colab_type": "code",
    "id": "Pkh5jzp_DKoQ",
    "outputId": "1972fceb-b79c-49dd-ef47-e13a1b7fcaea"
   },
   "outputs": [
    {
     "data": {
      "text/plain": [
       "6960"
      ]
     },
     "execution_count": 16,
     "metadata": {
      "tags": []
     },
     "output_type": "execute_result"
    }
   ],
   "source": [
    "output = processChords(betterStreams[9], durations[9])\n",
    "checkRows(output) # Shows us that each tick has a chord input.\n",
    "len(output)"
   ]
  },
  {
   "cell_type": "code",
   "execution_count": 17,
   "metadata": {
    "colab": {
     "base_uri": "https://localhost:8080/",
     "height": 136
    },
    "colab_type": "code",
    "id": "en9hL5H_JL4Q",
    "outputId": "bbbbd69a-8078-49a4-e878-8ce9cecfaf6b"
   },
   "outputs": [
    {
     "data": {
      "text/plain": [
       "array([[0., 0., 1., ..., 0., 0., 1.],\n",
       "       [0., 0., 1., ..., 0., 0., 1.],\n",
       "       [0., 0., 1., ..., 0., 0., 1.],\n",
       "       ...,\n",
       "       [0., 0., 1., ..., 0., 0., 1.],\n",
       "       [0., 0., 1., ..., 0., 0., 1.],\n",
       "       [0., 0., 1., ..., 0., 0., 1.]])"
      ]
     },
     "execution_count": 17,
     "metadata": {
      "tags": []
     },
     "output_type": "execute_result"
    }
   ],
   "source": [
    "output"
   ]
  },
  {
   "cell_type": "code",
   "execution_count": 18,
   "metadata": {
    "colab": {
     "base_uri": "https://localhost:8080/",
     "height": 204
    },
    "colab_type": "code",
    "id": "AbKB6iLxIEnP",
    "outputId": "e6cb164c-5748-43eb-c761-40e4f978ed3d"
   },
   "outputs": [
    {
     "name": "stdout",
     "output_type": "stream",
     "text": [
      "Processing song 1\n",
      "Processing song 5\n",
      "Processing song 10\n",
      "Processing song 15\n",
      "Processing song 20\n",
      "Processing song 25\n",
      "Processing song 30\n",
      "Processing song 35\n",
      "Processing song 40\n",
      "Processing song 45\n",
      "Processing song 50\n"
     ]
    }
   ],
   "source": [
    "chords = []\n",
    "\n",
    "i = 1\n",
    "for s in betterStreams:\n",
    "  if (i == 1 or i % 5 == 0):\n",
    "    print(\"Processing song\", i)\n",
    "  d = getDuration(s)\n",
    "  arr = processChords(s, d)\n",
    "  chords.append(arr)\n",
    "  i = i + 1"
   ]
  },
  {
   "cell_type": "markdown",
   "metadata": {
    "colab_type": "text",
    "id": "vdU3ESAjTH2h"
   },
   "source": [
    "# Format Data: Notes"
   ]
  },
  {
   "cell_type": "markdown",
   "metadata": {
    "colab_type": "text",
    "id": "rqcZxuHAsqkm"
   },
   "source": [
    "## An Issue with Range"
   ]
  },
  {
   "cell_type": "markdown",
   "metadata": {
    "colab_type": "text",
    "id": "8ei3Lj1uZ--K"
   },
   "source": [
    "If you recall, we've transposed all of the songs to C major. With this comes the issue that some songs are now unplayable in the range of any one type of saxophone. Let's find out just how bad the problem is."
   ]
  },
  {
   "cell_type": "code",
   "execution_count": 0,
   "metadata": {
    "colab": {},
    "colab_type": "code",
    "id": "anQewRdqTJZm"
   },
   "outputs": [],
   "source": [
    "def findSongMinMax(stream, verbose = False):\n",
    "  # Choose values obviously lower and higher than the MIDI notes in the song.\n",
    "  minimumNoteValue = 500\n",
    "  minPitch = \"\"\n",
    "  maximumNoteValue = 0\n",
    "  maxPitch = \"\"\n",
    "  \n",
    "  part = stream.parts[0]\n",
    "    \n",
    "  # Compare the notes in the song.\n",
    "  for m in part:                                   # For measures in the song...\n",
    "    if isinstance(m, m21.stream.Measure):\n",
    "      for n in m.notes: \n",
    "        if isinstance(n, m21.note.Note):           # If this object is a note...\n",
    "          pitch = n.pitch\n",
    "          num = int(pitch.midi)                    # Get the note's MIDI number\n",
    "            \n",
    "          if (num < minimumNoteValue):\n",
    "            minimumNoteValue = num\n",
    "            minPitch = str(pitch.nameWithOctave)\n",
    "              \n",
    "          if (num > maximumNoteValue):\n",
    "            maximumNoteValue = num\n",
    "            maxPitch = str(pitch.nameWithOctave)\n",
    "            \n",
    "  if (verbose):\n",
    "    print(\"Min:\", str(minimumNoteValue) + \",\", minPitch + \".\\tMax:\", str(maximumNoteValue) + \",\", maxPitch)\n",
    "  \n",
    "  return int(minimumNoteValue), int(maximumNoteValue)"
   ]
  },
  {
   "cell_type": "code",
   "execution_count": 0,
   "metadata": {
    "colab": {},
    "colab_type": "code",
    "id": "d7U0Kwijlm7J"
   },
   "outputs": [],
   "source": [
    "def findRange(streams):\n",
    "  minimumNoteValue = 500\n",
    "  minPitch = \"\"\n",
    "  maximumNoteValue = 0\n",
    "  maxPitch = \"\"\n",
    "  \n",
    "  for s in streams:\n",
    "    mn, mx = findSongMinMax(s)\n",
    "    if (mn < minimumNoteValue):\n",
    "      minimumNoteValue = mn\n",
    "    if (mx > maximumNoteValue):\n",
    "      maximumNoteValue = mx\n",
    "  \n",
    "  minMIDI = m21.pitch.Pitch()\n",
    "  minMIDI.midi = minimumNoteValue\n",
    "  minName = minMIDI.nameWithOctave\n",
    "  maxMIDI = m21.pitch.Pitch()\n",
    "  maxMIDI.midi = maximumNoteValue\n",
    "  maxName = maxMIDI.nameWithOctave\n",
    "  print(\"Min MIDI note:\", str(minimumNoteValue) + \",\", minName)\n",
    "  print(\"Max MIDI note:\", str(maximumNoteValue) + \",\", maxName)"
   ]
  },
  {
   "cell_type": "code",
   "execution_count": 0,
   "metadata": {
    "colab": {},
    "colab_type": "code",
    "id": "s0MzdoyNaRb3"
   },
   "outputs": [],
   "source": [
    "def getAveragesError(streams):\n",
    "  length = len(streams)\n",
    "  averages = np.zeros(length)\n",
    "  error = np.zeros(length)\n",
    "  \n",
    "  i = 0\n",
    "  for s in streams:\n",
    "    minimum, maximum = findSongMinMax(s)\n",
    "    \n",
    "    average = float(maximum + minimum) / 2.\n",
    "    averages[i] = average\n",
    "    \n",
    "    e = average - minimum\n",
    "    error[i] = e\n",
    "    \n",
    "    i += 1\n",
    "  return averages, error"
   ]
  },
  {
   "cell_type": "code",
   "execution_count": 22,
   "metadata": {
    "colab": {
     "base_uri": "https://localhost:8080/",
     "height": 364
    },
    "colab_type": "code",
    "id": "jYcpJCf5fIg-",
    "outputId": "d2bbf5b8-aede-4fa9-b69f-900963d43d84"
   },
   "outputs": [
    {
     "data": {
      "image/png": "[encoded data removed]",
      "text/plain": [
       "<matplotlib.figure.Figure at 0x7f522253d198>"
      ]
     },
     "metadata": {
      "image/png": {
       "height": 347,
       "width": 495
      },
      "tags": []
     },
     "output_type": "display_data"
    }
   ],
   "source": [
    "# Plot the untransposed dataset version\n",
    "y, e = getAveragesError(streams)\n",
    "plt.errorbar(range(len(y)), y, yerr = e, fmt = \"o\")\n",
    "\n",
    "plt.title(\"Range of Each Song (streams)\", fontsize = 16)\n",
    "plt.xlabel(\"Song\", fontsize = 14)\n",
    "plt.xticks([])\n",
    "plt.ylabel(\"MIDI Notes in Song Range\", fontsize = 14)\n",
    "\n",
    "plt.show()"
   ]
  },
  {
   "cell_type": "code",
   "execution_count": 23,
   "metadata": {
    "colab": {
     "base_uri": "https://localhost:8080/",
     "height": 68
    },
    "colab_type": "code",
    "id": "whJhstYQjqAr",
    "outputId": "1e721a77-0832-49b4-fe56-6eb63a566cbf"
   },
   "outputs": [
    {
     "name": "stdout",
     "output_type": "stream",
     "text": [
      "Mean: 65.65 Std Dev: 0.9124143795447329\n",
      "Min MIDI note: 50, D3\n",
      "Max MIDI note: 81, A5\n"
     ]
    }
   ],
   "source": [
    "print(\"Mean:\", np.mean(y), \"Std Dev:\", np.std(y))\n",
    "findRange(streams)"
   ]
  },
  {
   "cell_type": "code",
   "execution_count": 24,
   "metadata": {
    "colab": {
     "base_uri": "https://localhost:8080/",
     "height": 364
    },
    "colab_type": "code",
    "id": "PYC_9tNBjBK9",
    "outputId": "767f6016-b955-4277-f9e4-f1152f577ee9"
   },
   "outputs": [
    {
     "data": {
      "image/png": "[encoded data removed]",
      "text/plain": [
       "<matplotlib.figure.Figure at 0x7f5222206898>"
      ]
     },
     "metadata": {
      "image/png": {
       "height": 347,
       "width": 495
      },
      "tags": []
     },
     "output_type": "display_data"
    }
   ],
   "source": [
    "# Plot the transposed dataset version\n",
    "y, e = getAveragesError(betterStreams)\n",
    "plt.errorbar(range(len(y)), y, yerr = e, fmt = \"o\")\n",
    "\n",
    "plt.title(\"Range of Each Song (betterStreams)\", fontsize = 16)\n",
    "plt.xlabel(\"Song\", fontsize = 14)\n",
    "plt.xticks([])\n",
    "plt.ylabel(\"MIDI Notes in Song Range\", fontsize = 14)\n",
    "\n",
    "plt.show()"
   ]
  },
  {
   "cell_type": "code",
   "execution_count": 25,
   "metadata": {
    "colab": {
     "base_uri": "https://localhost:8080/",
     "height": 68
    },
    "colab_type": "code",
    "id": "54GhOkaCjhOo",
    "outputId": "332253af-377f-433e-e7e8-bdba68a2c8a5"
   },
   "outputs": [
    {
     "name": "stdout",
     "output_type": "stream",
     "text": [
      "Mean: 59.89 Std Dev: 3.803011964219939\n",
      "Min MIDI note: 40, E2\n",
      "Max MIDI note: 80, G#5\n"
     ]
    }
   ],
   "source": [
    "print(\"Mean:\", np.mean(y), \"Std Dev:\", np.std(y))\n",
    "findRange(betterStreams)"
   ]
  },
  {
   "cell_type": "markdown",
   "metadata": {
    "colab_type": "text",
    "id": "ESEhMQCAWGlz"
   },
   "source": [
    "![MIDI Chart](https://newt.phys.unsw.edu.au/jw/graphics/notes.GIF)  \n",
    "Image from https://newt.phys.unsw.edu.au/jw/notes.html"
   ]
  },
  {
   "cell_type": "markdown",
   "metadata": {
    "colab_type": "text",
    "id": "c13ur9xMXszQ"
   },
   "source": [
    "Checking out a few sources on the range of both alto and tenor saxophone, we see that E2 is about a major third lower than a tenor can play. That said, G#5 is at the edge of an alto's range, which is good.\n",
    "\n",
    "http://www.bristolnotes.com/tutorial/rangesax.htm  \n",
    "http://www.amyschumacher.com/wp-content/uploads/2007/11/rangetrans.pdf"
   ]
  },
  {
   "cell_type": "markdown",
   "metadata": {
    "colab_type": "text",
    "id": "tPHiGB2in4CC"
   },
   "source": [
    "Based on what we've seen, I'm going to move all songs impossible for an alto to play up an octave. This decision is based a discussion with my brother, who plays alto, tenor, and bari sax. He confirmed my intuition, as saxophonists cannot extend their range lower yet can hypothetically play higher than a typical player using altissimo. Hence the bottom limit of an alto saxophone's range is final and we must obey this limitation of the instruement."
   ]
  },
  {
   "cell_type": "markdown",
   "metadata": {
    "colab_type": "text",
    "id": "FHtWK7V6rxjF"
   },
   "source": [
    "The lowest note an alto can play is its Bb below the treble clef, which is the Db the bass clef. This Db3, or MIDI note 49. Hence songs with minimum notes below 49 need to be fixed."
   ]
  },
  {
   "cell_type": "code",
   "execution_count": 0,
   "metadata": {
    "colab": {},
    "colab_type": "code",
    "id": "GWjJHPohqO6b"
   },
   "outputs": [],
   "source": [
    "def fixOctave(stream):\n",
    "  mn, mx = findSongMinMax(stream, verbose = True)\n",
    "  if (mn < 49):\n",
    "    stream.transpose(12, inPlace = True)\n",
    "  return stream"
   ]
  },
  {
   "cell_type": "code",
   "execution_count": 27,
   "metadata": {
    "colab": {
     "base_uri": "https://localhost:8080/",
     "height": 867
    },
    "colab_type": "code",
    "id": "KMbQfBNxsma1",
    "outputId": "50b82a00-89f2-4514-b890-54e9531a4ed1"
   },
   "outputs": [
    {
     "name": "stdout",
     "output_type": "stream",
     "text": [
      "Min: 43, G2.\tMax: 71, B4\n",
      "Min: 49, D-3.\tMax: 73, D-5\n",
      "Min: 48, C3.\tMax: 72, C5\n",
      "Min: 48, C3.\tMax: 75, E-5\n",
      "Min: 48, C3.\tMax: 74, D5\n",
      "Min: 52, E3.\tMax: 76, E5\n",
      "Min: 53, G--3.\tMax: 77, F5\n",
      "Min: 42, F#2.\tMax: 69, A4\n",
      "Min: 41, F2.\tMax: 69, A4\n",
      "Min: 41, F2.\tMax: 71, B4\n",
      "Min: 48, C3.\tMax: 75, E-5\n",
      "Min: 47, B2.\tMax: 72, C5\n",
      "Min: 40, E2.\tMax: 69, A4\n",
      "Min: 41, F2.\tMax: 69, A4\n",
      "Min: 48, C3.\tMax: 74, D5\n",
      "Min: 53, F3.\tMax: 79, G5\n",
      "Min: 48, C3.\tMax: 70, B-4\n",
      "Min: 48, C3.\tMax: 75, E-5\n",
      "Min: 41, F2.\tMax: 69, A4\n",
      "Min: 43, G2.\tMax: 67, G4\n",
      "Min: 43, G2.\tMax: 69, A4\n",
      "Min: 49, D-3.\tMax: 74, D5\n",
      "Min: 48, C3.\tMax: 74, D5\n",
      "Min: 41, F2.\tMax: 69, A4\n",
      "Min: 44, A-2.\tMax: 67, G4\n",
      "Min: 43, G2.\tMax: 69, A4\n",
      "Min: 48, C3.\tMax: 74, D5\n",
      "Min: 43, G2.\tMax: 70, B-4\n",
      "Min: 45, A2.\tMax: 69, A4\n",
      "Min: 49, C#3.\tMax: 75, E-5\n",
      "Min: 50, D3.\tMax: 79, G5\n",
      "Min: 52, E3.\tMax: 78, G-5\n",
      "Min: 47, C-3.\tMax: 72, C5\n",
      "Min: 41, F2.\tMax: 69, A4\n",
      "Min: 43, G2.\tMax: 70, B-4\n",
      "Min: 50, D3.\tMax: 74, D5\n",
      "Min: 50, D3.\tMax: 74, D5\n",
      "Min: 52, E3.\tMax: 79, G5\n",
      "Min: 55, G3.\tMax: 74, D5\n",
      "Min: 48, C3.\tMax: 74, D5\n",
      "Min: 46, B-2.\tMax: 73, D-5\n",
      "Min: 43, G2.\tMax: 72, C5\n",
      "Min: 50, D3.\tMax: 80, A-5\n",
      "Min: 49, D-3.\tMax: 74, D5\n",
      "Min: 45, A2.\tMax: 67, G4\n",
      "Min: 53, F3.\tMax: 78, G-5\n",
      "Min: 53, F3.\tMax: 79, G5\n",
      "Min: 55, G3.\tMax: 79, G5\n",
      "Min: 40, E2.\tMax: 67, G4\n",
      "Min: 50, D3.\tMax: 74, D5\n"
     ]
    }
   ],
   "source": [
    "finalStreams = []\n",
    "for s in betterStreams:\n",
    "  newS = fixOctave(s)\n",
    "  finalStreams.append(s)"
   ]
  },
  {
   "cell_type": "code",
   "execution_count": 28,
   "metadata": {
    "colab": {
     "base_uri": "https://localhost:8080/",
     "height": 364
    },
    "colab_type": "code",
    "id": "l0goBcKQtEGe",
    "outputId": "8fcb965c-72c6-4917-ddff-e8c22be79fe2"
   },
   "outputs": [
    {
     "data": {
      "image/png": "[encoded data removed]",
      "text/plain": [
       "<matplotlib.figure.Figure at 0x7f5222570cc0>"
      ]
     },
     "metadata": {
      "image/png": {
       "height": 347,
       "width": 495
      },
      "tags": []
     },
     "output_type": "display_data"
    }
   ],
   "source": [
    "# Plot this new dataset version\n",
    "y, e = getAveragesError(finalStreams)\n",
    "plt.errorbar(range(len(y)), y, yerr = e, fmt = \"o\")\n",
    "\n",
    "plt.title(\"Range of Each Song (finalStreams)\", fontsize = 16)\n",
    "plt.xlabel(\"Song\", fontsize = 14)\n",
    "plt.xticks([])\n",
    "plt.ylabel(\"MIDI Notes in Song Range\", fontsize = 14)\n",
    "\n",
    "plt.show()"
   ]
  },
  {
   "cell_type": "code",
   "execution_count": 29,
   "metadata": {
    "colab": {
     "base_uri": "https://localhost:8080/",
     "height": 68
    },
    "colab_type": "code",
    "id": "TIEBGuIau-Mc",
    "outputId": "fd0c4dc5-ba7c-442e-8ea3-dab9115e4c51"
   },
   "outputs": [
    {
     "name": "stdout",
     "output_type": "stream",
     "text": [
      "Mean: 67.57 Std Dev: 3.618024322748535\n",
      "Min MIDI note: 49, C#3\n",
      "Max MIDI note: 87, E-6\n"
     ]
    }
   ],
   "source": [
    "print(\"Mean:\", np.mean(y), \"Std Dev:\", np.std(y))\n",
    "findRange(finalStreams)"
   ]
  },
  {
   "cell_type": "markdown",
   "metadata": {
    "colab_type": "text",
    "id": "r_5XkjGLeBGl"
   },
   "source": [
    "We now have the melodies still in C while all in or above an alto saxophone's range.  \n",
    "We can subtract 49 from all MIDI notes in the melody to get final note indices of 0 to 38. We thus have 39 total possible notes."
   ]
  },
  {
   "cell_type": "markdown",
   "metadata": {
    "colab_type": "text",
    "id": "vwtFIqLecU3v"
   },
   "source": [
    "## Extracting Melodies"
   ]
  },
  {
   "cell_type": "code",
   "execution_count": 0,
   "metadata": {
    "colab": {},
    "colab_type": "code",
    "id": "bEMD621kcUKY"
   },
   "outputs": [],
   "source": [
    "def processNotes(stream, duration):\n",
    "  \"\"\"\n",
    "  Create the 2D numpy array which will represent the notes of this song.\n",
    "  NOTE: Vertical of the 2D array represents time.\n",
    "        Horizontal represents the 12 possible notes for each tick.\n",
    "  \"\"\"\n",
    "  subdivide = 12   # We again set the number of subdivisions our data and thus model will consider per beat. Same as we did with chords.\n",
    "  possible_notes = 39 # Calculated above.\n",
    "  \n",
    "  ticks = int(duration * subdivide)  # The total number of \"ticks\" in this entire song. Exact same number as for the chords.\n",
    "  \n",
    "  # Create the numpy array to store the notes data.\n",
    "  arr = np.zeros((ticks, possible_notes))\n",
    "  \n",
    "  part = stream.parts[0]\n",
    "  \n",
    "  # Collect the notes in the song.\n",
    "  for m in part:                                     # For measures in the song...\n",
    "    if isinstance(m, m21.stream.Measure):\n",
    "      # By reseting the offset each measure, we also insure that any errors don't cascade across the entire song.\n",
    "      measureOffset = m.offset                       # This offset is in ticks.\n",
    "      \n",
    "      for n in m.notes:\n",
    "        if isinstance(n, m21.note.Note):             # If this object is a note...\n",
    "          noteOffset = round((n.offset + measureOffset) * subdivide) # Its offset is the measure's plus the note's within the measure.\n",
    "          \n",
    "          ticksInNote = int(round(n.duration.quarterLength * subdivide)) # Round in the off case of 32nd notes or something.\n",
    "          endOfNote = noteOffset + ticksInNote\n",
    "          \n",
    "          pitch = n.pitch\n",
    "          num = int(pitch.midi) - 49                 # Get the note's MIDI number and adjust it down into 0-38.\n",
    "          \n",
    "          for r in range(noteOffset, endOfNote):     # For each row, representing all ticks in this note...\n",
    "            arr[r][num] = 1                          # Set this note's adjusted MIDI number on.\n",
    "          \n",
    "  return arr"
   ]
  },
  {
   "cell_type": "code",
   "execution_count": 31,
   "metadata": {
    "colab": {
     "base_uri": "https://localhost:8080/",
     "height": 204
    },
    "colab_type": "code",
    "id": "lrvR8ZzRgU5d",
    "outputId": "3ee43493-fc77-4145-d77c-44bee6939676"
   },
   "outputs": [
    {
     "name": "stdout",
     "output_type": "stream",
     "text": [
      "Processing song 1\n",
      "Processing song 5\n",
      "Processing song 10\n",
      "Processing song 15\n",
      "Processing song 20\n",
      "Processing song 25\n",
      "Processing song 30\n",
      "Processing song 35\n",
      "Processing song 40\n",
      "Processing song 45\n",
      "Processing song 50\n"
     ]
    }
   ],
   "source": [
    "notes = []\n",
    "\n",
    "i = 1\n",
    "for s in finalStreams:\n",
    "  if (i == 1 or i % 5 == 0):\n",
    "    print(\"Processing song\", i)\n",
    "  d = getDuration(s)\n",
    "  arr = processNotes(s, d)\n",
    "  notes.append(arr)\n",
    "  i = i + 1"
   ]
  },
  {
   "cell_type": "code",
   "execution_count": 0,
   "metadata": {
    "colab": {},
    "colab_type": "code",
    "id": "NYEfdcEooPWn"
   },
   "outputs": [],
   "source": [
    "# Verify that the outputs are the same lengths.\n",
    "for i in range(50):\n",
    "  if (len(chords[i]) != len(notes[i])):\n",
    "    print(\"Oopsie!\")"
   ]
  },
  {
   "cell_type": "code",
   "execution_count": 33,
   "metadata": {
    "colab": {
     "base_uri": "https://localhost:8080/",
     "height": 34
    },
    "colab_type": "code",
    "id": "bHbMgLBjpaWi",
    "outputId": "dd69bc4e-ec7d-46b7-db08-450400da6bdc"
   },
   "outputs": [
    {
     "name": "stdout",
     "output_type": "stream",
     "text": [
      "We have 8619408 total datapoints.\n"
     ]
    }
   ],
   "source": [
    "total = 0\n",
    "for arr in chords:\n",
    "  total = total + arr.size\n",
    "for arr in notes:\n",
    "  total = total + arr.size\n",
    "  \n",
    "print(\"We have\", total, \"total datapoints.\")"
   ]
  },
  {
   "cell_type": "code",
   "execution_count": 0,
   "metadata": {
    "colab": {},
    "colab_type": "code",
    "id": "qkxTPQY9p94L"
   },
   "outputs": [],
   "source": []
  },
  {
   "cell_type": "markdown",
   "metadata": {
    "colab_type": "text",
    "id": "pM-qhDdYtVb6"
   },
   "source": [
    "# Export to .csv"
   ]
  },
  {
   "cell_type": "code",
   "execution_count": 0,
   "metadata": {
    "colab": {},
    "colab_type": "code",
    "id": "4zJpCX2HtYid"
   },
   "outputs": [],
   "source": []
  }
 ],
 "metadata": {
  "accelerator": "GPU",
  "colab": {
   "collapsed_sections": [
    "qrAz73-p6WfC"
   ],
   "include_colab_link": true,
   "name": "LSTMjazz",
   "provenance": [],
   "version": "0.3.2"
  },
  "kernelspec": {
   "display_name": "Python 3",
   "language": "python",
   "name": "python3"
  },
  "language_info": {
   "codemirror_mode": {
    "name": "ipython",
    "version": 3
   },
   "file_extension": ".py",
   "mimetype": "text/x-python",
   "name": "python",
   "nbconvert_exporter": "python",
   "pygments_lexer": "ipython3",
   "version": "3.7.4"
  }
 },
 "nbformat": 4,
 "nbformat_minor": 1
}
