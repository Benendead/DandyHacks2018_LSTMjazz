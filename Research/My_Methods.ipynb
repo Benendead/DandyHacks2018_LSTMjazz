{
  "nbformat": 4,
  "nbformat_minor": 0,
  "metadata": {
    "colab": {
      "name": "My Methods",
      "version": "0.3.2",
      "provenance": [],
      "collapsed_sections": [],
      "include_colab_link": true
    },
    "kernelspec": {
      "name": "python3",
      "display_name": "Python 3"
    }
  },
  "cells": [
    {
      "cell_type": "markdown",
      "metadata": {
        "id": "view-in-github",
        "colab_type": "text"
      },
      "source": [
        "<a href=\"https://colab.research.google.com/github/Benendead/LSTMjazz/blob/master/Research/My_Methods.ipynb\" target=\"_parent\"><img src=\"https://colab.research.google.com/assets/colab-badge.svg\" alt=\"Open In Colab\"/></a>"
      ]
    },
    {
      "metadata": {
        "id": "b4jdZzW-mITb",
        "colab_type": "text"
      },
      "cell_type": "markdown",
      "source": [
        "---\n",
        "Author(s) | Year | Models Used | Music | Encoding | Quantization | Future work | Code/Examples\n",
        "--- | ---\n",
        "Eck | 2002 | LSTM | Melody + chords | 13 melody, 12 chord 1/0 | 2 per beat | N/A | [Ex](https://web.archive.org/web/20190104192500/http://people.idsia.ch/~juergen/blues/)\n",
        "Bickerman | 2010 | DBN | Chords -> jazz licks | 18 melody (12 pitch, 4 8va), 12 chord | 12 per beat | Melodies avoid triplets | [Code](https://sourceforge.net/projects/rbm-provisor/)\n",
        "Choi | 2016 | char-RNN, word-RNN | Jazz chord progressions | Note chars, Chord words | 1 per beat | N/A | [Code](https://github.com/keunwoochoi/lstm_real_book)\n",
        "Lackner | 2016 | LSTM | Melody given chords | 24 melody, 12 chord 1/0 | 4 per beat | Larger dataset | [Ex](https://konstilackner.github.io/LSTM-RNN-Melody-Composer-Website/)\n",
        "Agarwala | 2017 | Seq2Seq, char-RNN | Melodies | ABC char -> embeddings | None; ABC notation | N/A | [Code](https://github.com/yinoue93/CS224N_proj)\n",
        "Brunner | 2017 | 2 LSTMs | Chords -> polyphonic piano | 48 melody, 50 chord embeddings | 2 per beat | Encoding polyphonic sustain, genre metadata | N/A\n",
        "Hilscher | 2018 | char-RNN | Polyphonic piano | 1/0 on/off vectors | 4 per beat | More keys/data, text pattern matching | [Ex](https://yellow-ray.de/~moritz/midi_rnn/examples.html)"
      ]
    },
    {
      "metadata": {
        "id": "2uyoU76Fmwga",
        "colab_type": "text"
      },
      "cell_type": "markdown",
      "source": [
        "**To Consider:**\n",
        "* My representation needs to have at least 12 steps per beat; triplets AND sixteenth notes are needed.\n",
        "* Chords --> Melody has only one precedent for best practices.\n",
        "* 2 of the 7 used chord embeddings.\n",
        "* Methods to check overfitting are limited so far.\n",
        "* 3 of the 7 benefitted from transposing to multiple keys."
      ]
    },
    {
      "metadata": {
        "id": "X9SPy9pVxGx1",
        "colab_type": "text"
      },
      "cell_type": "markdown",
      "source": [
        "# Code Setup and Data Import"
      ]
    },
    {
      "metadata": {
        "id": "n4ul029PxLlu",
        "colab_type": "text"
      },
      "cell_type": "markdown",
      "source": [
        "We import the necessary libraries, create a method to tranpose imported songs to C, and then import all songs."
      ]
    },
    {
      "metadata": {
        "id": "LN5JQRywxE8B",
        "colab_type": "code",
        "outputId": "fe508573-e3e0-4456-92db-d2be87e069c4",
        "colab": {
          "base_uri": "https://localhost:8080/",
          "height": 153
        }
      },
      "cell_type": "code",
      "source": [
        "!pip install music21\n",
        "\n",
        "import music21 as m21\n",
        "import glob\n",
        "\n",
        "!git clone https://github.com/Benendead/LSTMjazz/"
      ],
      "execution_count": 1,
      "outputs": [
        {
          "output_type": "stream",
          "text": [
            "Requirement already satisfied: music21 in /usr/local/lib/python3.6/dist-packages (5.5.0)\n",
            "Cloning into 'LSTMjazz'...\n",
            "remote: Enumerating objects: 149, done.\u001b[K\n",
            "remote: Counting objects: 100% (149/149), done.\u001b[K\n",
            "remote: Compressing objects: 100% (147/147), done.\u001b[K\n",
            "remote: Total 288 (delta 76), reused 0 (delta 0), pack-reused 139\u001b[K\n",
            "Receiving objects: 100% (288/288), 723.51 KiB | 7.38 MiB/s, done.\n",
            "Resolving deltas: 100% (137/137), done.\n"
          ],
          "name": "stdout"
        }
      ]
    },
    {
      "metadata": {
        "id": "jvibh1szxW2r",
        "colab_type": "code",
        "colab": {}
      },
      "cell_type": "code",
      "source": [
        "def formatStream(stream):\n",
        "  m21.harmony.realizeChordSymbolDurations(stream)           # Fills out chords' proper durations.\n",
        "  key = stream.analyze(\"key\")                               # Finds how far off we are from C.\n",
        "  i = m21.interval.Interval(key.tonic, m21.pitch.Pitch(\"C\"))\n",
        "  transposedStream = stream.transpose(i)                    # Transposes us that far to C.\n",
        "  return transposedStream"
      ],
      "execution_count": 0,
      "outputs": []
    },
    {
      "metadata": {
        "id": "MZ1mtdaLxX6h",
        "colab_type": "code",
        "outputId": "b912360b-fe50-4809-9fec-0b43428b4aa1",
        "colab": {
          "base_uri": "https://localhost:8080/",
          "height": 119
        }
      },
      "cell_type": "code",
      "source": [
        "# Import the songs and transpose them all to C.\n",
        "\n",
        "streams = []\n",
        "names = []\n",
        "i = 1\n",
        "\n",
        "# Selects all .xml files in the Datasets folder.\n",
        "for xml_file in glob.glob(\"LSTMjazz/Datasets/*/*.xml\"):\n",
        "    if (i == 1 or i % 10 == 0):\n",
        "      print(\"Processing song\", i, \":\", xml_file)\n",
        "    newSong = m21.converter.parse(xml_file)\n",
        "    formattedSong = formatStream(newSong)\n",
        "    streams.append(formattedSong)\n",
        "    songName = xml_file[32:-4]  # Formats xml_file to get the name of the song.\n",
        "    names.append(songName)\n",
        "    i = i + 1"
      ],
      "execution_count": 4,
      "outputs": [
        {
          "output_type": "stream",
          "text": [
            "Processing song 1 : LSTMjazz/Datasets/Omnibook Mxml/Cosmic_Rays.xml\n",
            "Processing song 10 : LSTMjazz/Datasets/Omnibook Mxml/Another_Hairdo.xml\n",
            "Processing song 20 : LSTMjazz/Datasets/Omnibook Mxml/Now's_The_Time_2.xml\n",
            "Processing song 30 : LSTMjazz/Datasets/Omnibook Mxml/Marmaduke.xml\n",
            "Processing song 40 : LSTMjazz/Datasets/Omnibook Mxml/Billies's_Bounce.xml\n",
            "Processing song 50 : LSTMjazz/Datasets/Omnibook Mxml/Card_Board.xml\n"
          ],
          "name": "stdout"
        }
      ]
    },
    {
      "metadata": {
        "id": "HqfpoeIzyHH9",
        "colab_type": "text"
      },
      "cell_type": "markdown",
      "source": [
        "We now have all songs imported, transposed to C, and with fully realized chord durations.  \n",
        "Rather than one copy of each song in C, let's create 12 copies of each song transposed to all 12 keys."
      ]
    },
    {
      "metadata": {
        "id": "kIExMo_fzN3F",
        "colab_type": "code",
        "colab": {}
      },
      "cell_type": "code",
      "source": [
        "import random\n",
        "\n",
        "def transposeRandom(stream):\n",
        "  \"\"\"\n",
        "  Transposes a given stream to a random key.\n",
        "  \"\"\"\n",
        "  half_steps = random.randint(0,12) # Random number 0 to 11.\n",
        "  i = m21.interval.Interval(half_steps)\n",
        "  transposedStream = stream.transpose(i)\n",
        "  return transposedStream"
      ],
      "execution_count": 0,
      "outputs": []
    },
    {
      "metadata": {
        "id": "ql2uUnh5vYvQ",
        "colab_type": "code",
        "colab": {}
      },
      "cell_type": "code",
      "source": [
        "def transpose12(stream):\n",
        "  \"\"\"\n",
        "  Returns a list of all 12 tranpositions of the given stream.\n",
        "  \"\"\"\n",
        "  output = []\n",
        "  for k in range(0,12):\n",
        "    half_steps = k\n",
        "    i = m21.interval.Interval(half_steps)\n",
        "    transposedStream = stream.transpose(i)\n",
        "    output.append(transposedStream)\n",
        "  return output"
      ],
      "execution_count": 0,
      "outputs": []
    },
    {
      "metadata": {
        "id": "wp8ERBRD0Gnl",
        "colab_type": "code",
        "outputId": "1cf0fd9a-163d-4e85-b3fe-193a7bef3f45",
        "colab": {
          "base_uri": "https://localhost:8080/",
          "height": 221
        }
      },
      "cell_type": "code",
      "source": [
        "expanded_streams = [] # This will have every transposed song in it; 600 total.\n",
        "for stream_n in range(0,len(streams)):\n",
        "  s = streams[stream_n]\n",
        "  if (stream_n == 0 or stream_n % 5 == 4):\n",
        "    print(\"Replicating song\", (stream_n + 1))\n",
        "  transposed_list = transpose12(s)\n",
        "  expanded_streams.extend(transposed_list)\n",
        "    \n",
        "print(\"We have\", 12*len(streams), \"total songs.\")"
      ],
      "execution_count": 7,
      "outputs": [
        {
          "output_type": "stream",
          "text": [
            "Replicating song 1\n",
            "Replicating song 5\n",
            "Replicating song 10\n",
            "Replicating song 15\n",
            "Replicating song 20\n",
            "Replicating song 25\n",
            "Replicating song 30\n",
            "Replicating song 35\n",
            "Replicating song 40\n",
            "Replicating song 45\n",
            "Replicating song 50\n",
            "We have 600 total songs.\n"
          ],
          "name": "stdout"
        }
      ]
    },
    {
      "metadata": {
        "id": "THsjA3xkyVNt",
        "colab_type": "text"
      },
      "cell_type": "markdown",
      "source": [
        "# Basic Dataset Analysis"
      ]
    },
    {
      "metadata": {
        "id": "VFSZ2TOfyhJI",
        "colab_type": "text"
      },
      "cell_type": "markdown",
      "source": [
        "Let's check out how long our songs are, as well as the range of their pitches."
      ]
    },
    {
      "metadata": {
        "id": "ATqFDpF3yi3Q",
        "colab_type": "code",
        "colab": {}
      },
      "cell_type": "code",
      "source": [
        "def getDuration(stream):\n",
        "  \"\"\"\n",
        "  Takes a Music21 stream and returns the total length of the chords in the stream.\n",
        "  \"\"\"\n",
        "  part = stream.parts[0]\n",
        "  sumDuration = 0\n",
        "  \n",
        "  for m in part:                                            # For measures in the song...\n",
        "    if isinstance(m, m21.stream.Measure):\n",
        "      for c in m.notes:\n",
        "        if isinstance(c, m21.harmony.ChordSymbol):          # For the chords...\n",
        "          sumDuration = sumDuration + c.duration.quarterLength\n",
        "  \n",
        "  return sumDuration"
      ],
      "execution_count": 0,
      "outputs": []
    },
    {
      "metadata": {
        "id": "onuAnYJVysZq",
        "colab_type": "code",
        "outputId": "7d7bf4a7-6934-4e8f-d7e8-7e5e5f46b5c6",
        "colab": {
          "base_uri": "https://localhost:8080/",
          "height": 34
        }
      },
      "cell_type": "code",
      "source": [
        "durations = []\n",
        "\n",
        "total = 0\n",
        "for s in expanded_streams:\n",
        "  duration = getDuration(s)\n",
        "  durations.append(duration)\n",
        "  total = total + duration\n",
        "  \n",
        "print(\"We have\", total, \"total beats of data.\")"
      ],
      "execution_count": 9,
      "outputs": [
        {
          "output_type": "stream",
          "text": [
            "We have 169008.0 total beats of data.\n"
          ],
          "name": "stdout"
        }
      ]
    },
    {
      "metadata": {
        "id": "WsLWrVWD2PWQ",
        "colab_type": "code",
        "outputId": "0557b32b-7bc2-43aa-f846-3e83953fadc4",
        "colab": {
          "base_uri": "https://localhost:8080/",
          "height": 379
        }
      },
      "cell_type": "code",
      "source": [
        "# Some insight into the durations of the songs we have.\n",
        "\n",
        "import matplotlib.pyplot as plt\n",
        "import numpy as np\n",
        "\n",
        "n_bins = 20\n",
        "x = np.array(durations) / 4\n",
        "\n",
        "fig, ax = plt.subplots()\n",
        "\n",
        "plt.title(\"Histogram of Song Durations\", fontsize = 16)\n",
        "plt.xlabel(\"Number of Measures\", fontsize = 12)\n",
        "plt.ylabel(\"Number of Songs\", fontsize = 12)\n",
        "\n",
        "hist = ax.hist(x, bins = n_bins) # We can set the number of bins for the histogram with the \"bins\" kwarg"
      ],
      "execution_count": 10,
      "outputs": [
        {
          "output_type": "display_data",
          "data": {
            "image/png": "[encoded data removed]",
            "text/plain": [
              "<Figure size 576x396 with 1 Axes>"
            ]
          },
          "metadata": {
            "tags": [],
            "image/png": {
              "width": 499,
              "height": 362
            }
          }
        }
      ]
    },
    {
      "metadata": {
        "id": "gRxoQjmEyrvM",
        "colab_type": "text"
      },
      "cell_type": "markdown",
      "source": [
        "Let's also check the keys of our randomly transposed songs:"
      ]
    },
    {
      "metadata": {
        "id": "jZ4fro7OqMi6",
        "colab_type": "code",
        "colab": {}
      },
      "cell_type": "code",
      "source": [
        "def getKey(stream):\n",
        "  \"\"\"\n",
        "  Returns the key of the given stream as an int 0-11, with C = 0 and B = 11.\n",
        "  \"\"\"\n",
        "  key = stream.analyze(\"key\")  # A music21.key.Key object.\n",
        "  tonic = key.tonic            # A music21.pitch.Pitch object.\n",
        "  return tonic.pitchClass"
      ],
      "execution_count": 0,
      "outputs": []
    },
    {
      "metadata": {
        "id": "IIuh4LPJp-7N",
        "colab_type": "code",
        "colab": {
          "base_uri": "https://localhost:8080/",
          "height": 600
        },
        "outputId": "51834404-2960-4cef-947f-6745538b7e4b"
      },
      "cell_type": "code",
      "source": [
        "# Some insight into the keys of the songs we have.\n",
        "\n",
        "keys = [0] * 12\n",
        "counter = 1\n",
        "for s in expanded_streams:\n",
        "  if (counter == 1 or counter % 50 == 0):\n",
        "    print(\"Processing song \", counter)\n",
        "  k = getKey(s)\n",
        "  keys[k] = keys[k] + 1\n",
        "  counter = counter + 1\n",
        "\n",
        "fig, ax = plt.subplots()\n",
        "\n",
        "plt.title(\"Histogram of Song Keys\", fontsize = 16)\n",
        "plt.xlabel(\"Key\", fontsize = 12)\n",
        "plt.ylabel(\"Number of Songs\", fontsize = 12)\n",
        "plt.xticks(range(0,12), ('C', 'C#', 'D', 'D#', 'E', 'F', 'F#', 'G', 'G#', 'A', 'A#', 'B'), fontsize = 10)\n",
        "\n",
        "bar = ax.bar(range(0,12), keys)"
      ],
      "execution_count": 12,
      "outputs": [
        {
          "output_type": "stream",
          "text": [
            "Processing song  1\n",
            "Processing song  50\n",
            "Processing song  100\n",
            "Processing song  150\n",
            "Processing song  200\n",
            "Processing song  250\n",
            "Processing song  300\n",
            "Processing song  350\n",
            "Processing song  400\n",
            "Processing song  450\n",
            "Processing song  500\n",
            "Processing song  550\n",
            "Processing song  600\n"
          ],
          "name": "stdout"
        },
        {
          "output_type": "display_data",
          "data": {
            "image/png": "[encoded data removed]",
            "text/plain": [
              "<Figure size 576x396 with 1 Axes>"
            ]
          },
          "metadata": {
            "tags": [],
            "image/png": {
              "width": 493,
              "height": 362
            }
          }
        }
      ]
    },
    {
      "metadata": {
        "id": "DgUu2A0rypXq",
        "colab_type": "text"
      },
      "cell_type": "markdown",
      "source": [
        "We can see the duration and key of the songs we have, but what other metrics inform us about the melodies and harmonies within these songs? Let's look into what chords these songs now use. First, we want to find the \"vocabulary\" of the chords present. This entails adding one copy of each unique chord into a list."
      ]
    },
    {
      "metadata": {
        "id": "EzTEdWYByPp1",
        "colab_type": "code",
        "colab": {}
      },
      "cell_type": "code",
      "source": [
        "def uniqueChords(stream):\n",
        "  \"\"\"\n",
        "  Returns a list of strings representing the unique chords in this song.\n",
        "  The bits in each string represent the 12 possible chord notes.\n",
        "  \"\"\"\n",
        "  chords = []\n",
        "  \n",
        "  part = stream.parts[0]\n",
        "  \n",
        "  # Collect the chords in the song.\n",
        "  for m in part:                                     # For measures in the song...\n",
        "    if isinstance(m, m21.stream.Measure):\n",
        "      for c in m.notes:\n",
        "        if isinstance(c, m21.harmony.ChordSymbol):   # If this object is a chord...\n",
        "\n",
        "          encoding = [0] * 12\n",
        "          for p in c.pitches:\n",
        "            p.octave = 4\n",
        "            num = int(p.midi - 60) % 12              # num will range from 0 to 11.\n",
        "            encoding[num] = 1\n",
        "          \n",
        "          string = \"\"\n",
        "          for n in encoding:\n",
        "            string = string + str(n)\n",
        "          \n",
        "          if string not in chords:\n",
        "            chords.append(string)\n",
        "  return chords"
      ],
      "execution_count": 0,
      "outputs": []
    },
    {
      "metadata": {
        "id": "t27RIkzA0Dmf",
        "colab_type": "code",
        "colab": {}
      },
      "cell_type": "code",
      "source": [
        "def combineSets(set1, set2):\n",
        "  \"\"\"\n",
        "  Combines the contents of two sets as to keep all elements unique.\n",
        "  NOTE: Faster if set2 is the shorter one.\n",
        "  \"\"\"\n",
        "  for e in set2:\n",
        "    if e not in set1:\n",
        "      set1.append(e)\n",
        "  return set1"
      ],
      "execution_count": 0,
      "outputs": []
    },
    {
      "metadata": {
        "id": "p8VkgJdG0lfI",
        "colab_type": "text"
      },
      "cell_type": "markdown",
      "source": [
        "It's now time to find all unique chords in each song and then merge all 600 of these sets."
      ]
    },
    {
      "metadata": {
        "id": "bBNWVvA-0q8g",
        "colab_type": "code",
        "colab": {
          "base_uri": "https://localhost:8080/",
          "height": 2091
        },
        "outputId": "25942dcb-9a64-41f9-d348-9699840e6860"
      },
      "cell_type": "code",
      "source": [
        "uniqueChordSet = []\n",
        "\n",
        "counter = 1\n",
        "for s in expanded_streams:\n",
        "  if (counter == 1 or counter % 5 == 0):\n",
        "    print(\"Working through song \" + str(counter) + \"'s chords.\")\n",
        "  newChords = uniqueChords(s)\n",
        "  uniqueChordSet = combineSets(uniqueChordSet, newChords)\n",
        "  counter = counter + 1\n",
        "  \n",
        "print(\"We have\", len(uniqueChordSet), \"unique chords.\")"
      ],
      "execution_count": 15,
      "outputs": [
        {
          "output_type": "stream",
          "text": [
            "Working through song 1's chords.\n",
            "Working through song 5's chords.\n",
            "Working through song 10's chords.\n",
            "Working through song 15's chords.\n",
            "Working through song 20's chords.\n",
            "Working through song 25's chords.\n",
            "Working through song 30's chords.\n",
            "Working through song 35's chords.\n",
            "Working through song 40's chords.\n",
            "Working through song 45's chords.\n",
            "Working through song 50's chords.\n",
            "Working through song 55's chords.\n",
            "Working through song 60's chords.\n",
            "Working through song 65's chords.\n",
            "Working through song 70's chords.\n",
            "Working through song 75's chords.\n",
            "Working through song 80's chords.\n",
            "Working through song 85's chords.\n",
            "Working through song 90's chords.\n",
            "Working through song 95's chords.\n",
            "Working through song 100's chords.\n",
            "Working through song 105's chords.\n",
            "Working through song 110's chords.\n",
            "Working through song 115's chords.\n",
            "Working through song 120's chords.\n",
            "Working through song 125's chords.\n",
            "Working through song 130's chords.\n",
            "Working through song 135's chords.\n",
            "Working through song 140's chords.\n",
            "Working through song 145's chords.\n",
            "Working through song 150's chords.\n",
            "Working through song 155's chords.\n",
            "Working through song 160's chords.\n",
            "Working through song 165's chords.\n",
            "Working through song 170's chords.\n",
            "Working through song 175's chords.\n",
            "Working through song 180's chords.\n",
            "Working through song 185's chords.\n",
            "Working through song 190's chords.\n",
            "Working through song 195's chords.\n",
            "Working through song 200's chords.\n",
            "Working through song 205's chords.\n",
            "Working through song 210's chords.\n",
            "Working through song 215's chords.\n",
            "Working through song 220's chords.\n",
            "Working through song 225's chords.\n",
            "Working through song 230's chords.\n",
            "Working through song 235's chords.\n",
            "Working through song 240's chords.\n",
            "Working through song 245's chords.\n",
            "Working through song 250's chords.\n",
            "Working through song 255's chords.\n",
            "Working through song 260's chords.\n",
            "Working through song 265's chords.\n",
            "Working through song 270's chords.\n",
            "Working through song 275's chords.\n",
            "Working through song 280's chords.\n",
            "Working through song 285's chords.\n",
            "Working through song 290's chords.\n",
            "Working through song 295's chords.\n",
            "Working through song 300's chords.\n",
            "Working through song 305's chords.\n",
            "Working through song 310's chords.\n",
            "Working through song 315's chords.\n",
            "Working through song 320's chords.\n",
            "Working through song 325's chords.\n",
            "Working through song 330's chords.\n",
            "Working through song 335's chords.\n",
            "Working through song 340's chords.\n",
            "Working through song 345's chords.\n",
            "Working through song 350's chords.\n",
            "Working through song 355's chords.\n",
            "Working through song 360's chords.\n",
            "Working through song 365's chords.\n",
            "Working through song 370's chords.\n",
            "Working through song 375's chords.\n",
            "Working through song 380's chords.\n",
            "Working through song 385's chords.\n",
            "Working through song 390's chords.\n",
            "Working through song 395's chords.\n",
            "Working through song 400's chords.\n",
            "Working through song 405's chords.\n",
            "Working through song 410's chords.\n",
            "Working through song 415's chords.\n",
            "Working through song 420's chords.\n",
            "Working through song 425's chords.\n",
            "Working through song 430's chords.\n",
            "Working through song 435's chords.\n",
            "Working through song 440's chords.\n",
            "Working through song 445's chords.\n",
            "Working through song 450's chords.\n",
            "Working through song 455's chords.\n",
            "Working through song 460's chords.\n",
            "Working through song 465's chords.\n",
            "Working through song 470's chords.\n",
            "Working through song 475's chords.\n",
            "Working through song 480's chords.\n",
            "Working through song 485's chords.\n",
            "Working through song 490's chords.\n",
            "Working through song 495's chords.\n",
            "Working through song 500's chords.\n",
            "Working through song 505's chords.\n",
            "Working through song 510's chords.\n",
            "Working through song 515's chords.\n",
            "Working through song 520's chords.\n",
            "Working through song 525's chords.\n",
            "Working through song 530's chords.\n",
            "Working through song 535's chords.\n",
            "Working through song 540's chords.\n",
            "Working through song 545's chords.\n",
            "Working through song 550's chords.\n",
            "Working through song 555's chords.\n",
            "Working through song 560's chords.\n",
            "Working through song 565's chords.\n",
            "Working through song 570's chords.\n",
            "Working through song 575's chords.\n",
            "Working through song 580's chords.\n",
            "Working through song 585's chords.\n",
            "Working through song 590's chords.\n",
            "Working through song 595's chords.\n",
            "Working through song 600's chords.\n",
            "We have 72 unique chords.\n"
          ],
          "name": "stdout"
        }
      ]
    },
    {
      "metadata": {
        "id": "e-yq0Yjb1N0R",
        "colab_type": "text"
      },
      "cell_type": "markdown",
      "source": [
        "So there we have it: 72 unique chords. We'll choose a vocabulary size of 72 to encode each of these with a unique integer representation, which we can then use as inputs to an embedding layer. We can find the corresponding index to each chord by using .index() to find the chord strings in uniqueChordSet."
      ]
    },
    {
      "metadata": {
        "id": "_1ZPNKtf2UVU",
        "colab_type": "code",
        "colab": {}
      },
      "cell_type": "code",
      "source": [
        "def findInt(string):\n",
        "  return uniqueChordSet.index(string)"
      ],
      "execution_count": 0,
      "outputs": []
    },
    {
      "metadata": {
        "id": "pOyy6MAJ16rC",
        "colab_type": "code",
        "colab": {}
      },
      "cell_type": "code",
      "source": [
        ""
      ],
      "execution_count": 0,
      "outputs": []
    },
    {
      "metadata": {
        "id": "mSY8ij_JyBhq",
        "colab_type": "text"
      },
      "cell_type": "markdown",
      "source": [
        ""
      ]
    }
  ]
}