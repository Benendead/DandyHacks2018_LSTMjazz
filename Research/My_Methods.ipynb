{
  "nbformat": 4,
  "nbformat_minor": 0,
  "metadata": {
    "colab": {
      "name": "My Methods",
      "version": "0.3.2",
      "provenance": [],
      "collapsed_sections": [],
      "include_colab_link": true
    },
    "kernelspec": {
      "name": "python3",
      "display_name": "Python 3"
    }
  },
  "cells": [
    {
      "cell_type": "markdown",
      "metadata": {
        "id": "view-in-github",
        "colab_type": "text"
      },
      "source": [
        "<a href=\"https://colab.research.google.com/github/Benendead/LSTMjazz/blob/master/Research/My_Methods.ipynb\" target=\"_parent\"><img src=\"https://colab.research.google.com/assets/colab-badge.svg\" alt=\"Open In Colab\"/></a>"
      ]
    },
    {
      "metadata": {
        "id": "b4jdZzW-mITb",
        "colab_type": "text"
      },
      "cell_type": "markdown",
      "source": [
        "---\n",
        "Author(s) | Year | Models Used | Music | Encoding | Quantization | Future work | Code/Examples\n",
        "--- | ---\n",
        "Eck | 2002 | LSTM | Melody + chords | 13 melody, 12 chord 1/0 | 2 per beat | N/A | [Ex](https://web.archive.org/web/20190104192500/http://people.idsia.ch/~juergen/blues/)\n",
        "Bickerman | 2010 | DBN | Chords -> jazz licks | 18 melody (12 pitch, 4 8va), 12 chord | 12 per beat | Melodies avoid triplets | [Code](https://sourceforge.net/projects/rbm-provisor/)\n",
        "Choi | 2016 | char-RNN, word-RNN | Jazz chord progressions | Note chars, Chord words | 1 per beat | N/A | [Code](https://github.com/keunwoochoi/lstm_real_book)\n",
        "Lackner | 2016 | LSTM | Melody given chords | 24 melody, 12 chord 1/0 | 4 per beat | Larger dataset | [Ex](https://konstilackner.github.io/LSTM-RNN-Melody-Composer-Website/)\n",
        "Agarwala | 2017 | Seq2Seq, char-RNN | Melodies | ABC char -> embeddings | None; ABC notation | N/A | [Code](https://github.com/yinoue93/CS224N_proj)\n",
        "Brunner | 2017 | 2 LSTMs | Chords -> polyphonic piano | 48 melody, 50 chord embeddings | 2 per beat | Encoding polyphonic sustain, genre metadata | N/A\n",
        "Hilscher | 2018 | char-RNN | Polyphonic piano | 1/0 on/off vectors | 4 per beat | More keys/data, text pattern matching | [Ex](https://yellow-ray.de/~moritz/midi_rnn/examples.html)"
      ]
    },
    {
      "metadata": {
        "id": "2uyoU76Fmwga",
        "colab_type": "text"
      },
      "cell_type": "markdown",
      "source": [
        "**To Consider:**\n",
        "* My representation needs to have at least 12 steps per beat; triplets AND sixteenth notes are needed.\n",
        "* Chords --> Melody has only one precedent for best practices.\n",
        "* 2 of the 7 used chord embeddings.\n",
        "* Methods to check overfitting are limited so far.\n",
        "* 3 of the 7 benefitted from transposing to multiple keys."
      ]
    },
    {
      "metadata": {
        "id": "SRX4ofTvNtIh",
        "colab_type": "text"
      },
      "cell_type": "markdown",
      "source": [
        "# Representation Decisions"
      ]
    },
    {
      "metadata": {
        "id": "g1Z9etfTNvPw",
        "colab_type": "text"
      },
      "cell_type": "markdown",
      "source": [
        "**Chords**  \n",
        "We've really seen a few options for chords. These include:\n",
        "* Text representations of chords quantized to quarter notes:  \n",
        " -START- F:9 F:9 F:9 F:9 D:min7 D:min7 G:9 G:9 C:maj C:maj F:9 F:9 C:maj C:maj C:maj C:maj -END-\n",
        "* 0-11 bit vector encoding.\n",
        "* Chord embeddings from unique bit vectors - Based on bits or on tokens? (Tokens better)\n",
        "\n"
      ]
    },
    {
      "metadata": {
        "id": "X9SPy9pVxGx1",
        "colab_type": "text"
      },
      "cell_type": "markdown",
      "source": [
        "# Code Setup and Data Import"
      ]
    },
    {
      "metadata": {
        "id": "n4ul029PxLlu",
        "colab_type": "text"
      },
      "cell_type": "markdown",
      "source": [
        "We import the necessary libraries, create a method to tranpose imported songs to C, and then import all songs."
      ]
    },
    {
      "metadata": {
        "id": "LN5JQRywxE8B",
        "colab_type": "code",
        "outputId": "9ddda759-d4da-4e3c-d144-0ccc8a8b6e2a",
        "colab": {
          "base_uri": "https://localhost:8080/",
          "height": 51
        }
      },
      "cell_type": "code",
      "source": [
        "!pip install music21\n",
        "\n",
        "import music21 as m21\n",
        "import glob\n",
        "\n",
        "!git clone https://github.com/Benendead/LSTMjazz/"
      ],
      "execution_count": 0,
      "outputs": [
        {
          "output_type": "stream",
          "text": [
            "Requirement already satisfied: music21 in /usr/local/lib/python3.6/dist-packages (5.5.0)\n",
            "fatal: destination path 'LSTMjazz' already exists and is not an empty directory.\n"
          ],
          "name": "stdout"
        }
      ]
    },
    {
      "metadata": {
        "id": "jvibh1szxW2r",
        "colab_type": "code",
        "colab": {}
      },
      "cell_type": "code",
      "source": [
        "def formatStream(stream):\n",
        "  m21.harmony.realizeChordSymbolDurations(stream)           # Fills out chords' proper durations.\n",
        "  key = stream.analyze(\"key\")                               # Finds how far off we are from C.\n",
        "  i = m21.interval.Interval(key.tonic, m21.pitch.Pitch(\"C\"))\n",
        "  transposedStream = stream.transpose(i)                    # Transposes us that far to C.\n",
        "  return transposedStream"
      ],
      "execution_count": 0,
      "outputs": []
    },
    {
      "metadata": {
        "id": "MZ1mtdaLxX6h",
        "colab_type": "code",
        "outputId": "c5756826-150a-432f-a1ba-c59e9f9a39f7",
        "colab": {
          "base_uri": "https://localhost:8080/",
          "height": 119
        }
      },
      "cell_type": "code",
      "source": [
        "# Import the songs and transpose them all to C.\n",
        "\n",
        "streams = []\n",
        "names = []\n",
        "i = 1\n",
        "\n",
        "# Selects all .xml files in the Datasets folder.\n",
        "for xml_file in glob.glob(\"LSTMjazz/Datasets/*/*.xml\"):\n",
        "    if (i == 1 or i % 10 == 0):\n",
        "      print(\"Processing song\", i, \":\", xml_file)\n",
        "    newSong = m21.converter.parse(xml_file)\n",
        "    formattedSong = formatStream(newSong)\n",
        "    streams.append(formattedSong)\n",
        "    songName = xml_file[32:-4]  # Formats xml_file to get the name of the song.\n",
        "    names.append(songName)\n",
        "    i = i + 1"
      ],
      "execution_count": 0,
      "outputs": [
        {
          "output_type": "stream",
          "text": [
            "Processing song 1 : LSTMjazz/Datasets/Omnibook Mxml/KC_Blues.xml\n",
            "Processing song 10 : LSTMjazz/Datasets/Omnibook Mxml/Segment.xml\n",
            "Processing song 20 : LSTMjazz/Datasets/Omnibook Mxml/Diverse.xml\n",
            "Processing song 30 : LSTMjazz/Datasets/Omnibook Mxml/Thriving_From_A_Riff.xml\n",
            "Processing song 40 : LSTMjazz/Datasets/Omnibook Mxml/Ornithology.xml\n",
            "Processing song 50 : LSTMjazz/Datasets/Omnibook Mxml/Anthropology.xml\n"
          ],
          "name": "stdout"
        }
      ]
    },
    {
      "metadata": {
        "id": "HqfpoeIzyHH9",
        "colab_type": "text"
      },
      "cell_type": "markdown",
      "source": [
        "We now have all songs imported, transposed to C, and with fully realized chord durations.  \n",
        "Rather than one copy of each song in C, let's create 12 copies of each song transposed to all 12 keys. I also include a method to transpose a song to a random key, as I'd already written the code."
      ]
    },
    {
      "metadata": {
        "id": "kIExMo_fzN3F",
        "colab_type": "code",
        "colab": {}
      },
      "cell_type": "code",
      "source": [
        "import random\n",
        "\n",
        "def transposeRandom(stream):\n",
        "  \"\"\"\n",
        "  Transposes a given stream to a random key.\n",
        "  \"\"\"\n",
        "  half_steps = random.randint(0,12) # Random number 0 to 11.\n",
        "  i = m21.interval.Interval(half_steps)\n",
        "  transposedStream = stream.transpose(i)\n",
        "  return transposedStream"
      ],
      "execution_count": 0,
      "outputs": []
    },
    {
      "metadata": {
        "id": "ql2uUnh5vYvQ",
        "colab_type": "code",
        "colab": {}
      },
      "cell_type": "code",
      "source": [
        "def transpose12(stream):\n",
        "  \"\"\"\n",
        "  Returns a list of all 12 tranpositions of the given stream.\n",
        "  \"\"\"\n",
        "  output = []\n",
        "  for k in range(0,12):\n",
        "    half_steps = k\n",
        "    i = m21.interval.Interval(half_steps)\n",
        "    transposedStream = stream.transpose(i)\n",
        "    output.append(transposedStream)\n",
        "  return output"
      ],
      "execution_count": 0,
      "outputs": []
    },
    {
      "metadata": {
        "id": "wp8ERBRD0Gnl",
        "colab_type": "code",
        "outputId": "a486148e-f633-4296-c9ff-cbeb7efbe0e3",
        "colab": {
          "base_uri": "https://localhost:8080/",
          "height": 221
        }
      },
      "cell_type": "code",
      "source": [
        "expanded_streams = [] # This will have every transposed song in it; 600 total.\n",
        "for stream_n in range(0,len(streams)):\n",
        "  s = streams[stream_n]\n",
        "  if (stream_n == 1 or stream_n % 5 == 0):\n",
        "    print(\"Replicating song\", stream_n, \"of 50.\")\n",
        "  transposed_list = transpose12(s)\n",
        "  expanded_streams.extend(transposed_list)\n",
        "    \n",
        "print(\"We have\", 12*len(streams), \"total songs.\")"
      ],
      "execution_count": 0,
      "outputs": [
        {
          "output_type": "stream",
          "text": [
            "Replicating song 0\n",
            "Replicating song 1\n",
            "Replicating song 5\n",
            "Replicating song 10\n",
            "Replicating song 15\n",
            "Replicating song 20\n",
            "Replicating song 25\n",
            "Replicating song 30\n",
            "Replicating song 35\n",
            "Replicating song 40\n",
            "Replicating song 45\n",
            "We have 600 total songs.\n"
          ],
          "name": "stdout"
        }
      ]
    },
    {
      "metadata": {
        "id": "THsjA3xkyVNt",
        "colab_type": "text"
      },
      "cell_type": "markdown",
      "source": [
        "# Basic Dataset Analysis"
      ]
    },
    {
      "metadata": {
        "id": "VFSZ2TOfyhJI",
        "colab_type": "text"
      },
      "cell_type": "markdown",
      "source": [
        "Let's check out how long our songs are, as well as the range of their pitches."
      ]
    },
    {
      "metadata": {
        "id": "ATqFDpF3yi3Q",
        "colab_type": "code",
        "colab": {}
      },
      "cell_type": "code",
      "source": [
        "def getDuration(stream):\n",
        "  \"\"\"\n",
        "  Takes a Music21 stream and returns the total length of the chords in the stream.\n",
        "  \"\"\"\n",
        "  part = stream.parts[0]\n",
        "  sumDuration = 0\n",
        "  \n",
        "  for m in part:                                       # For measures in the song...\n",
        "    if isinstance(m, m21.stream.Measure):\n",
        "      for c in m.notes:\n",
        "        if isinstance(c, m21.harmony.ChordSymbol):     # For the chords...\n",
        "          sumDuration = sumDuration + c.duration.quarterLength\n",
        "  \n",
        "  return sumDuration"
      ],
      "execution_count": 0,
      "outputs": []
    },
    {
      "metadata": {
        "id": "onuAnYJVysZq",
        "colab_type": "code",
        "outputId": "876005cb-c57b-48a7-8e53-83bc9db79950",
        "colab": {
          "base_uri": "https://localhost:8080/",
          "height": 34
        }
      },
      "cell_type": "code",
      "source": [
        "durations = []\n",
        "\n",
        "total = 0\n",
        "for s in expanded_streams:\n",
        "  duration = getDuration(s)\n",
        "  durations.append(duration)\n",
        "  total = total + duration\n",
        "  \n",
        "print(\"We have\", total, \"total beats of data.\")"
      ],
      "execution_count": 0,
      "outputs": [
        {
          "output_type": "stream",
          "text": [
            "We have 169008.0 total beats of data.\n"
          ],
          "name": "stdout"
        }
      ]
    },
    {
      "metadata": {
        "id": "WsLWrVWD2PWQ",
        "colab_type": "code",
        "outputId": "c29ea190-47c8-4851-fd1a-ae909dd487a3",
        "colab": {
          "base_uri": "https://localhost:8080/",
          "height": 379
        }
      },
      "cell_type": "code",
      "source": [
        "# Some insight into the durations of the songs we have.\n",
        "\n",
        "import matplotlib.pyplot as plt\n",
        "import numpy as np\n",
        "\n",
        "n_bins = 16\n",
        "x = np.array(durations) / 4\n",
        "\n",
        "fig, ax = plt.subplots()\n",
        "\n",
        "plt.title(\"Histogram of Song Durations\", fontsize = 16)\n",
        "plt.xlabel(\"Number of Measures\", fontsize = 12)\n",
        "plt.ylabel(\"Number of Songs\", fontsize = 12)\n",
        "\n",
        "hist = ax.hist(x, bins = n_bins) # We can set the number of bins for the histogram with the \"bins\" kwarg"
      ],
      "execution_count": 0,
      "outputs": [
        {
          "output_type": "display_data",
          "data": {
            "image/png": "[encoded data removed]",
            "text/plain": [
              "<Figure size 576x396 with 1 Axes>"
            ]
          },
          "metadata": {
            "tags": [],
            "image/png": {
              "width": 499,
              "height": 362
            }
          }
        }
      ]
    },
    {
      "metadata": {
        "id": "gRxoQjmEyrvM",
        "colab_type": "text"
      },
      "cell_type": "markdown",
      "source": [
        "Let's also check the keys of our now-transposed songs:"
      ]
    },
    {
      "metadata": {
        "id": "jZ4fro7OqMi6",
        "colab_type": "code",
        "colab": {}
      },
      "cell_type": "code",
      "source": [
        "def getKey(stream):\n",
        "  \"\"\"\n",
        "  Returns the key of the given stream as an int 0-11, with C = 0 and B = 11.\n",
        "  \"\"\"\n",
        "  key = stream.analyze(\"key\")  # A music21.key.Key object.\n",
        "  tonic = key.tonic            # A music21.pitch.Pitch object.\n",
        "  return tonic.pitchClass"
      ],
      "execution_count": 0,
      "outputs": []
    },
    {
      "metadata": {
        "id": "6T7FmdWxS1ki",
        "colab_type": "text"
      },
      "cell_type": "markdown",
      "source": [
        ""
      ]
    },
    {
      "metadata": {
        "id": "ZPha59WRS2D7",
        "colab_type": "code",
        "colab": {}
      },
      "cell_type": "code",
      "source": [
        "key_labels_for_graphs = ['C', 'C#', 'D', 'D#', 'E', 'F', 'F#', 'G', 'G#', 'A', 'A#', 'B']"
      ],
      "execution_count": 0,
      "outputs": []
    },
    {
      "metadata": {
        "id": "IIuh4LPJp-7N",
        "colab_type": "code",
        "outputId": "201a140f-8cb3-4d59-c7af-b13b220620fa",
        "colab": {
          "base_uri": "https://localhost:8080/",
          "height": 600
        }
      },
      "cell_type": "code",
      "source": [
        "# Some insight into the keys of the songs we have.\n",
        "\n",
        "keys = [0] * 12\n",
        "counter = 1\n",
        "for s in expanded_streams:\n",
        "  if (counter == 1 or counter % 50 == 0):\n",
        "    print(\"Processing song \", counter)\n",
        "  k = getKey(s)\n",
        "  keys[k] = keys[k] + 1\n",
        "  counter = counter + 1\n",
        "\n",
        "fig, ax = plt.subplots()\n",
        "\n",
        "plt.title(\"Bar Graph of Song Keys\", fontsize = 16)\n",
        "plt.xlabel(\"Key\", fontsize = 12)\n",
        "plt.ylabel(\"Number of Songs\", fontsize = 12)\n",
        "plt.xticks(range(0,12), key_labels_for_graphs, fontsize = 10)\n",
        "\n",
        "bar = ax.bar(range(0,12), keys)"
      ],
      "execution_count": 0,
      "outputs": [
        {
          "output_type": "stream",
          "text": [
            "Processing song  1\n",
            "Processing song  50\n",
            "Processing song  100\n",
            "Processing song  150\n",
            "Processing song  200\n",
            "Processing song  250\n",
            "Processing song  300\n",
            "Processing song  350\n",
            "Processing song  400\n",
            "Processing song  450\n",
            "Processing song  500\n",
            "Processing song  550\n",
            "Processing song  600\n"
          ],
          "name": "stdout"
        },
        {
          "output_type": "display_data",
          "data": {
            "image/png": "[encoded data removed]",
            "text/plain": [
              "<Figure size 576x396 with 1 Axes>"
            ]
          },
          "metadata": {
            "tags": [],
            "image/png": {
              "width": 493,
              "height": 362
            }
          }
        }
      ]
    },
    {
      "metadata": {
        "id": "DgUu2A0rypXq",
        "colab_type": "text"
      },
      "cell_type": "markdown",
      "source": [
        "We can see the duration and key of the songs we have, but what other metrics inform us about the melodies and harmonies within these songs? Let's look into what chords these songs now use. First, we want to find the \"vocabulary\" of the chords present. This entails adding one copy of each unique chord into a list."
      ]
    },
    {
      "metadata": {
        "id": "bOV64LxXLXay",
        "colab_type": "text"
      },
      "cell_type": "markdown",
      "source": [
        "### Unique Chord Counting Methods"
      ]
    },
    {
      "metadata": {
        "id": "UmwEtea1LP8d",
        "colab_type": "text"
      },
      "cell_type": "markdown",
      "source": [
        "#### Unique Chords Using Bit Encoding"
      ]
    },
    {
      "metadata": {
        "colab_type": "code",
        "id": "tNJ4tBJXJ8Z1",
        "colab": {}
      },
      "cell_type": "code",
      "source": [
        "def uniqueChordsAsBits(stream):\n",
        "  \"\"\"\n",
        "  Returns a list of bit vectors representing the unique chords in\n",
        "  this song. The bit vectors are 12 1/0 on/off bits for each note C-B in the chord.\n",
        "  \"\"\"\n",
        "  chords = []\n",
        "  \n",
        "  part = stream.parts[0]\n",
        "  \n",
        "  # Collect the chords in the song.\n",
        "  for m in part:                                     # For measures in the song...\n",
        "    if isinstance(m, m21.stream.Measure):\n",
        "      for c in m.notes:\n",
        "        if isinstance(c, m21.harmony.ChordSymbol):   # If this object is a chord...\n",
        "\n",
        "          encoding = [0] * 12                        # Keep track of the notes on for this chord...\n",
        "          for p in c.pitches:\n",
        "            p.octave = 4\n",
        "            num = int(p.midi - 60) % 12              # num will range from 0 to 11.\n",
        "            encoding[num] = 1\n",
        "          \n",
        "          if encoding not in chords:\n",
        "            chords.append(encoding)\n",
        "  return chords"
      ],
      "execution_count": 0,
      "outputs": []
    },
    {
      "metadata": {
        "id": "wskeayXULVG5",
        "colab_type": "text"
      },
      "cell_type": "markdown",
      "source": [
        "#### Unique Chords Using Token Encoding"
      ]
    },
    {
      "metadata": {
        "id": "SvL34AbWHueL",
        "colab_type": "code",
        "colab": {}
      },
      "cell_type": "code",
      "source": [
        "def uniqueChordsAsTokens(stream):\n",
        "  \"\"\"\n",
        "  Returns a list of tokens representing the unique chords in\n",
        "  this song. The tokens are the chord symbols.\n",
        "  \"\"\"\n",
        "  chords = []\n",
        "  \n",
        "  part = stream.parts[0]\n",
        "  \n",
        "  # Collect the chords in the song.\n",
        "  for m in part:                                     # For measures in the song...\n",
        "    if isinstance(m, m21.stream.Measure):\n",
        "      for c in m.notes:\n",
        "        if isinstance(c, m21.harmony.ChordSymbol):   # If this object is a chord...\n",
        "\n",
        "          symbol = str(c.figure)\n",
        "          \n",
        "          if symbol not in chords:\n",
        "            chords.append(symbol)\n",
        "  return chords"
      ],
      "execution_count": 0,
      "outputs": []
    },
    {
      "metadata": {
        "id": "QknsEYrULjk2",
        "colab_type": "text"
      },
      "cell_type": "markdown",
      "source": [
        "#### Combine + Count"
      ]
    },
    {
      "metadata": {
        "id": "t27RIkzA0Dmf",
        "colab_type": "code",
        "colab": {}
      },
      "cell_type": "code",
      "source": [
        "def combineSets(set1, set2):\n",
        "  \"\"\"\n",
        "  Combines the contents of two sets as to keep all elements unique.\n",
        "  NOTE: Faster if set2 is the shorter one.\n",
        "  \"\"\"\n",
        "  for e in set2:\n",
        "    if e not in set1:\n",
        "      set1.append(e)\n",
        "  return set1"
      ],
      "execution_count": 0,
      "outputs": []
    },
    {
      "metadata": {
        "id": "p8VkgJdG0lfI",
        "colab_type": "text"
      },
      "cell_type": "markdown",
      "source": [
        "It's now time to find all unique chords in each song and then merge all 600 of these sets. We need to use token representations of the chords, not bit representations, to keep chord function information bits might otherwise lose."
      ]
    },
    {
      "metadata": {
        "id": "ZY82YRVLH_zI",
        "colab_type": "code",
        "outputId": "ed574270-8205-4948-a2b9-48777323622b",
        "colab": {
          "base_uri": "https://localhost:8080/",
          "height": 255
        }
      },
      "cell_type": "code",
      "source": [
        "uniqueChordsTokens = []\n",
        "\n",
        "counter = 1\n",
        "for s in expanded_streams:\n",
        "  if (counter == 1 or counter % 50 == 0):\n",
        "    print(\"Working through song \" + str(counter) + \"'s chords.\")\n",
        "  newChords = uniqueChordsAsTokens(s)\n",
        "  uniqueChordsTokens = combineSets(uniqueChordsTokens, newChords)\n",
        "  counter = counter + 1\n",
        "  \n",
        "print(\"We have\", len(uniqueChordsTokens), \"unique chords.\")"
      ],
      "execution_count": 0,
      "outputs": [
        {
          "output_type": "stream",
          "text": [
            "Working through song 1's chords.\n",
            "Working through song 50's chords.\n",
            "Working through song 100's chords.\n",
            "Working through song 150's chords.\n",
            "Working through song 200's chords.\n",
            "Working through song 250's chords.\n",
            "Working through song 300's chords.\n",
            "Working through song 350's chords.\n",
            "Working through song 400's chords.\n",
            "Working through song 450's chords.\n",
            "Working through song 500's chords.\n",
            "Working through song 550's chords.\n",
            "Working through song 600's chords.\n",
            "We have 84 unique chords.\n"
          ],
          "name": "stdout"
        }
      ]
    },
    {
      "metadata": {
        "id": "k-q3LtOaI-lf",
        "colab_type": "code",
        "colab": {}
      },
      "cell_type": "code",
      "source": [
        "uniqueChords = pd.DataFrame(uniqueChordsTokens)"
      ],
      "execution_count": 0,
      "outputs": []
    },
    {
      "metadata": {
        "id": "e-yq0Yjb1N0R",
        "colab_type": "text"
      },
      "cell_type": "markdown",
      "source": [
        "So there we have it: 84 unique chords. But which of these chords is actually used often? Are there outlier chords that aren't worth encoding?"
      ]
    },
    {
      "metadata": {
        "id": "QPW-Vf2FMycF",
        "colab_type": "code",
        "colab": {}
      },
      "cell_type": "code",
      "source": [
        "def findChordIndex(chord_symbol):\n",
        "  \"\"\"\n",
        "  Finds the index of the given chord symbol within the uniqueChords dataframe.\n",
        "  \"\"\"\n",
        "\n",
        "  target = uniqueChords.loc[uniqueChords[0] == chord_symbol]\n",
        "  location = target.axes[0].tolist()\n",
        "  row = location[0]\n",
        "  return row"
      ],
      "execution_count": 0,
      "outputs": []
    },
    {
      "metadata": {
        "id": "0k6HfcyNN6e6",
        "colab_type": "code",
        "outputId": "d5239936-0257-45fa-ce35-2b2dee24d7c4",
        "colab": {
          "base_uri": "https://localhost:8080/",
          "height": 34
        }
      },
      "cell_type": "code",
      "source": [
        "def countTokenUse(stream):\n",
        "  \"\"\"\n",
        "  Returns a dataframe representing the unique chords in this song, as well as how much they're used.\n",
        "  The tokens are the chord symbols and are the labels for the rows of the dataframe.\n",
        "  The values in each row indicate the number of beats the given chord was used during this stream.\n",
        "  \"\"\"\n",
        "  chords = []\n",
        "  # TO BE CODED\n",
        "  part = stream.parts[0]\n",
        "  \n",
        "  # Collect the chords in the song.\n",
        "  for m in part:                                     # For measures in the song...\n",
        "    if isinstance(m, m21.stream.Measure):\n",
        "      for c in m.notes:\n",
        "        if isinstance(c, m21.harmony.ChordSymbol):   # If this object is a chord...\n",
        "\n",
        "          symbol = str(c.figure)\n",
        "          \n",
        "          if symbol not in chords:\n",
        "            chords.append(symbol)\n",
        "  return chords\n"
      ],
      "execution_count": 0,
      "outputs": [
        {
          "output_type": "execute_result",
          "data": {
            "text/plain": [
              "35"
            ]
          },
          "metadata": {
            "tags": []
          },
          "execution_count": 124
        }
      ]
    },
    {
      "metadata": {
        "id": "aTFx1IEvL_pQ",
        "colab_type": "text"
      },
      "cell_type": "markdown",
      "source": [
        "### Chord Encoding"
      ]
    },
    {
      "metadata": {
        "id": "QihbYk69PRxQ",
        "colab_type": "code",
        "colab": {}
      },
      "cell_type": "code",
      "source": [
        "# We also need to standardize the subdivision somewhere. We need 12 PPQ, as stated.\n",
        "subdivide = 12"
      ],
      "execution_count": 0,
      "outputs": []
    },
    {
      "metadata": {
        "id": "_1ZPNKtf2UVU",
        "colab_type": "code",
        "colab": {}
      },
      "cell_type": "code",
      "source": [
        "def findInt(vector):\n",
        "  return uniqueChordSet.index(vector)"
      ],
      "execution_count": 0,
      "outputs": []
    },
    {
      "metadata": {
        "id": "pOyy6MAJ16rC",
        "colab_type": "code",
        "colab": {}
      },
      "cell_type": "code",
      "source": [
        "def processChordsToBitVectors(stream):\n",
        "  \"\"\"\n",
        "  Create the 2D numpy array which will represent the chords of this song.\n",
        "  NOTE: Vertical of the 2D array represents time.\n",
        "        Horizontal represents the 12 possible chord notes for each tick.\n",
        "  \"\"\"\n",
        "  duration = getDuration(stream)\n",
        "  \n",
        "  # subdivide is the number of subdivisions our data and thus model will consider per beat.\n",
        "  ticks = int(duration * subdivide)  # The total number of \"ticks\" in this entire song\n",
        "  \n",
        "  # Create the numpy array to store the chord data.\n",
        "  arr = np.zeros((ticks, 12))\n",
        "  \n",
        "  part = stream.parts[0]\n",
        "  \n",
        "  # Collect the chords in the song.\n",
        "  for m in part:                                     # For measures in the song...\n",
        "    if isinstance(m, m21.stream.Measure):\n",
        "      currOffset = int(m.offset * subdivide)         # This offset is in ticks.\n",
        "      \n",
        "      for c in m.notes:\n",
        "        if isinstance(c, m21.harmony.ChordSymbol):   # If this object is a chord...\n",
        "          ticksInChord = int(c.duration.quarterLength * subdivide)\n",
        "          endOfChord = currOffset + ticksInChord\n",
        "          \n",
        "          notesInChord = []                          # Keep track of the notes on for this chord...\n",
        "          for p in c.pitches:\n",
        "            p.octave = 4\n",
        "            num = int(p.midi - 60) % 12              # num will range from 0 to 11.\n",
        "            notesInChord.append(num)\n",
        "         \n",
        "          for r in range(currOffset, endOfChord):    # For each row, representing all ticks in this chord...\n",
        "            for n in notesInChord:                   # Set all the notes in this chord to 1 for these ticks.\n",
        "              arr[r][n] = 1\n",
        "          \n",
        "          currOffset = currOffset + ticksInChord     # Account for two chords in a measure by adding the first chord to the offset.\n",
        "          \n",
        "  return arr"
      ],
      "execution_count": 0,
      "outputs": []
    },
    {
      "metadata": {
        "id": "Omd8g0wHQ1RJ",
        "colab_type": "code",
        "colab": {}
      },
      "cell_type": "code",
      "source": [
        "def checkRows(arr):\n",
        "  # Verifies that each row of a 2D array has at least one bit activated.\n",
        "  for row in arr:\n",
        "    found = False\n",
        "    for c in row:\n",
        "      if (c == 1):\n",
        "        found = True\n",
        "    if (not found):\n",
        "      print(\"Nothing in this row.\")"
      ],
      "execution_count": 0,
      "outputs": []
    },
    {
      "metadata": {
        "id": "hM073HyMREhz",
        "colab_type": "text"
      },
      "cell_type": "markdown",
      "source": [
        "So we're ready to extract the chords as bit vectors, at least:"
      ]
    },
    {
      "metadata": {
        "id": "OfuDXj_KRJiP",
        "colab_type": "code",
        "outputId": "efa75bdd-4fdf-48a5-b17d-0bd34fa0fab1",
        "colab": {
          "base_uri": "https://localhost:8080/",
          "height": 238
        }
      },
      "cell_type": "code",
      "source": [
        "chordBitVectors = []\n",
        "\n",
        "i = 1\n",
        "for s in expanded_streams:\n",
        "  if (i == 1 or i % 50 == 0):\n",
        "    print(\"Processing song\", i)\n",
        "  arr = processChordsToBitVectors(s)\n",
        "  chordBitVectors.append(arr)\n",
        "  i = i + 1"
      ],
      "execution_count": 0,
      "outputs": [
        {
          "output_type": "stream",
          "text": [
            "Processing song 1\n",
            "Processing song 50\n",
            "Processing song 100\n",
            "Processing song 150\n",
            "Processing song 200\n",
            "Processing song 250\n",
            "Processing song 300\n",
            "Processing song 350\n",
            "Processing song 400\n",
            "Processing song 450\n",
            "Processing song 500\n",
            "Processing song 550\n",
            "Processing song 600\n"
          ],
          "name": "stdout"
        }
      ]
    },
    {
      "metadata": {
        "id": "vrjjsZdyR2KG",
        "colab_type": "code",
        "outputId": "882f7243-5e11-4fb0-db2b-6c97eebb0ed2",
        "colab": {
          "base_uri": "https://localhost:8080/",
          "height": 359
        }
      },
      "cell_type": "code",
      "source": [
        "# A light sampling of our results.\n",
        "\n",
        "import pandas as pd\n",
        "\n",
        "example = pd.DataFrame(chordBitVectors[0])\n",
        "example.columns = key_labels_for_graphs\n",
        "example.head(5).append(example.tail(5))"
      ],
      "execution_count": 0,
      "outputs": [
        {
          "output_type": "execute_result",
          "data": {
            "text/html": [
              "<div>\n",
              "<style scoped>\n",
              "    .dataframe tbody tr th:only-of-type {\n",
              "        vertical-align: middle;\n",
              "    }\n",
              "\n",
              "    .dataframe tbody tr th {\n",
              "        vertical-align: top;\n",
              "    }\n",
              "\n",
              "    .dataframe thead th {\n",
              "        text-align: right;\n",
              "    }\n",
              "</style>\n",
              "<table border=\"1\" class=\"dataframe\">\n",
              "  <thead>\n",
              "    <tr style=\"text-align: right;\">\n",
              "      <th></th>\n",
              "      <th>C</th>\n",
              "      <th>C#</th>\n",
              "      <th>D</th>\n",
              "      <th>D#</th>\n",
              "      <th>E</th>\n",
              "      <th>F</th>\n",
              "      <th>F#</th>\n",
              "      <th>G</th>\n",
              "      <th>G#</th>\n",
              "      <th>A</th>\n",
              "      <th>A#</th>\n",
              "      <th>B</th>\n",
              "    </tr>\n",
              "  </thead>\n",
              "  <tbody>\n",
              "    <tr>\n",
              "      <th>0</th>\n",
              "      <td>0.0</td>\n",
              "      <td>0.0</td>\n",
              "      <td>1.0</td>\n",
              "      <td>0.0</td>\n",
              "      <td>0.0</td>\n",
              "      <td>1.0</td>\n",
              "      <td>0.0</td>\n",
              "      <td>1.0</td>\n",
              "      <td>0.0</td>\n",
              "      <td>0.0</td>\n",
              "      <td>0.0</td>\n",
              "      <td>1.0</td>\n",
              "    </tr>\n",
              "    <tr>\n",
              "      <th>1</th>\n",
              "      <td>0.0</td>\n",
              "      <td>0.0</td>\n",
              "      <td>1.0</td>\n",
              "      <td>0.0</td>\n",
              "      <td>0.0</td>\n",
              "      <td>1.0</td>\n",
              "      <td>0.0</td>\n",
              "      <td>1.0</td>\n",
              "      <td>0.0</td>\n",
              "      <td>0.0</td>\n",
              "      <td>0.0</td>\n",
              "      <td>1.0</td>\n",
              "    </tr>\n",
              "    <tr>\n",
              "      <th>2</th>\n",
              "      <td>0.0</td>\n",
              "      <td>0.0</td>\n",
              "      <td>1.0</td>\n",
              "      <td>0.0</td>\n",
              "      <td>0.0</td>\n",
              "      <td>1.0</td>\n",
              "      <td>0.0</td>\n",
              "      <td>1.0</td>\n",
              "      <td>0.0</td>\n",
              "      <td>0.0</td>\n",
              "      <td>0.0</td>\n",
              "      <td>1.0</td>\n",
              "    </tr>\n",
              "    <tr>\n",
              "      <th>3</th>\n",
              "      <td>0.0</td>\n",
              "      <td>0.0</td>\n",
              "      <td>1.0</td>\n",
              "      <td>0.0</td>\n",
              "      <td>0.0</td>\n",
              "      <td>1.0</td>\n",
              "      <td>0.0</td>\n",
              "      <td>1.0</td>\n",
              "      <td>0.0</td>\n",
              "      <td>0.0</td>\n",
              "      <td>0.0</td>\n",
              "      <td>1.0</td>\n",
              "    </tr>\n",
              "    <tr>\n",
              "      <th>4</th>\n",
              "      <td>0.0</td>\n",
              "      <td>0.0</td>\n",
              "      <td>1.0</td>\n",
              "      <td>0.0</td>\n",
              "      <td>0.0</td>\n",
              "      <td>1.0</td>\n",
              "      <td>0.0</td>\n",
              "      <td>1.0</td>\n",
              "      <td>0.0</td>\n",
              "      <td>0.0</td>\n",
              "      <td>0.0</td>\n",
              "      <td>1.0</td>\n",
              "    </tr>\n",
              "    <tr>\n",
              "      <th>1819</th>\n",
              "      <td>1.0</td>\n",
              "      <td>0.0</td>\n",
              "      <td>0.0</td>\n",
              "      <td>0.0</td>\n",
              "      <td>1.0</td>\n",
              "      <td>0.0</td>\n",
              "      <td>0.0</td>\n",
              "      <td>1.0</td>\n",
              "      <td>0.0</td>\n",
              "      <td>0.0</td>\n",
              "      <td>1.0</td>\n",
              "      <td>0.0</td>\n",
              "    </tr>\n",
              "    <tr>\n",
              "      <th>1820</th>\n",
              "      <td>1.0</td>\n",
              "      <td>0.0</td>\n",
              "      <td>0.0</td>\n",
              "      <td>0.0</td>\n",
              "      <td>1.0</td>\n",
              "      <td>0.0</td>\n",
              "      <td>0.0</td>\n",
              "      <td>1.0</td>\n",
              "      <td>0.0</td>\n",
              "      <td>0.0</td>\n",
              "      <td>1.0</td>\n",
              "      <td>0.0</td>\n",
              "    </tr>\n",
              "    <tr>\n",
              "      <th>1821</th>\n",
              "      <td>1.0</td>\n",
              "      <td>0.0</td>\n",
              "      <td>0.0</td>\n",
              "      <td>0.0</td>\n",
              "      <td>1.0</td>\n",
              "      <td>0.0</td>\n",
              "      <td>0.0</td>\n",
              "      <td>1.0</td>\n",
              "      <td>0.0</td>\n",
              "      <td>0.0</td>\n",
              "      <td>1.0</td>\n",
              "      <td>0.0</td>\n",
              "    </tr>\n",
              "    <tr>\n",
              "      <th>1822</th>\n",
              "      <td>1.0</td>\n",
              "      <td>0.0</td>\n",
              "      <td>0.0</td>\n",
              "      <td>0.0</td>\n",
              "      <td>1.0</td>\n",
              "      <td>0.0</td>\n",
              "      <td>0.0</td>\n",
              "      <td>1.0</td>\n",
              "      <td>0.0</td>\n",
              "      <td>0.0</td>\n",
              "      <td>1.0</td>\n",
              "      <td>0.0</td>\n",
              "    </tr>\n",
              "    <tr>\n",
              "      <th>1823</th>\n",
              "      <td>1.0</td>\n",
              "      <td>0.0</td>\n",
              "      <td>0.0</td>\n",
              "      <td>0.0</td>\n",
              "      <td>1.0</td>\n",
              "      <td>0.0</td>\n",
              "      <td>0.0</td>\n",
              "      <td>1.0</td>\n",
              "      <td>0.0</td>\n",
              "      <td>0.0</td>\n",
              "      <td>1.0</td>\n",
              "      <td>0.0</td>\n",
              "    </tr>\n",
              "  </tbody>\n",
              "</table>\n",
              "</div>"
            ],
            "text/plain": [
              "        C   C#    D   D#    E    F   F#    G   G#    A   A#    B\n",
              "0     0.0  0.0  1.0  0.0  0.0  1.0  0.0  1.0  0.0  0.0  0.0  1.0\n",
              "1     0.0  0.0  1.0  0.0  0.0  1.0  0.0  1.0  0.0  0.0  0.0  1.0\n",
              "2     0.0  0.0  1.0  0.0  0.0  1.0  0.0  1.0  0.0  0.0  0.0  1.0\n",
              "3     0.0  0.0  1.0  0.0  0.0  1.0  0.0  1.0  0.0  0.0  0.0  1.0\n",
              "4     0.0  0.0  1.0  0.0  0.0  1.0  0.0  1.0  0.0  0.0  0.0  1.0\n",
              "1819  1.0  0.0  0.0  0.0  1.0  0.0  0.0  1.0  0.0  0.0  1.0  0.0\n",
              "1820  1.0  0.0  0.0  0.0  1.0  0.0  0.0  1.0  0.0  0.0  1.0  0.0\n",
              "1821  1.0  0.0  0.0  0.0  1.0  0.0  0.0  1.0  0.0  0.0  1.0  0.0\n",
              "1822  1.0  0.0  0.0  0.0  1.0  0.0  0.0  1.0  0.0  0.0  1.0  0.0\n",
              "1823  1.0  0.0  0.0  0.0  1.0  0.0  0.0  1.0  0.0  0.0  1.0  0.0"
            ]
          },
          "metadata": {
            "tags": []
          },
          "execution_count": 103
        }
      ]
    },
    {
      "metadata": {
        "id": "mSY8ij_JyBhq",
        "colab_type": "text"
      },
      "cell_type": "markdown",
      "source": [
        "We also want the ability to process the chords as character representations, as was done in Choi et al. (2016). "
      ]
    },
    {
      "metadata": {
        "id": "RrLlk7W_G2jS",
        "colab_type": "text"
      },
      "cell_type": "markdown",
      "source": [
        "### Chord Token Strings"
      ]
    },
    {
      "metadata": {
        "id": "pVPdqlVaB2Le",
        "colab_type": "code",
        "colab": {}
      },
      "cell_type": "code",
      "source": [
        "def processChordsToTokens(stream):\n",
        "  \"\"\"\n",
        "  Create the 2D dataframe which will represent the chords of this song.\n",
        "  NOTE: Vertical of the df represents time. Each row is one string.\n",
        "  \"\"\"\n",
        "  duration = getDuration(stream)\n",
        "  \n",
        "  # subdivide is the number of subdivisions our data and thus model will consider per beat.\n",
        "  ticks = int(duration * subdivide)  # The total number of \"ticks\" in this entire song\n",
        "  \n",
        "  # Create the numpy array to store the chord data.\n",
        "  arr = np.zeros((ticks, 1))\n",
        "  df = pd.DataFrame(arr)\n",
        "  \n",
        "  part = stream.parts[0]\n",
        "  \n",
        "  # Collect the chords in the song.\n",
        "  for m in part:                                     # For measures in the song...\n",
        "    if isinstance(m, m21.stream.Measure):\n",
        "      currOffset = int(m.offset * subdivide)         # This offset is in ticks.\n",
        "      \n",
        "      for c in m.notes:\n",
        "        if isinstance(c, m21.harmony.ChordSymbol):   # If this object is a chord...\n",
        "          ticksInChord = int(c.duration.quarterLength * subdivide)\n",
        "          endOfChord = currOffset + ticksInChord\n",
        "          \n",
        "          symbol = str(m21.harmony.chordSymbolFigureFromChord(c))\n",
        "         \n",
        "          for r in range(currOffset, endOfChord):    # For each row, representing all ticks in this chord...\n",
        "            df.iloc[r,0] = symbol\n",
        "          \n",
        "          currOffset = currOffset + ticksInChord     # Account for two chords in a measure by adding the first chord to the offset.\n",
        "          \n",
        "  return df"
      ],
      "execution_count": 0,
      "outputs": []
    },
    {
      "metadata": {
        "id": "o69A_Y_WDj9j",
        "colab_type": "code",
        "outputId": "fece112f-af1a-42dd-a818-112c3e217bfc",
        "colab": {
          "base_uri": "https://localhost:8080/",
          "height": 34
        }
      },
      "cell_type": "code",
      "source": [
        "chordTokens = []\n",
        "\n",
        "i = 1\n",
        "for s in expanded_streams:\n",
        "  if (i == 1 or i % 5 == 0):\n",
        "    print(\"Processing song\", i)\n",
        "  df = processChordsToTokens(s)\n",
        "  chordTokens.append(df)\n",
        "  i = i + 1\n",
        "  if (i == 2):\n",
        "    break"
      ],
      "execution_count": 0,
      "outputs": [
        {
          "output_type": "stream",
          "text": [
            "Processing song 1\n"
          ],
          "name": "stdout"
        }
      ]
    },
    {
      "metadata": {
        "id": "SELVVPYcFenf",
        "colab_type": "code",
        "outputId": "f69e77a2-941a-4f7c-cce0-30d4d611b623",
        "colab": {
          "base_uri": "https://localhost:8080/",
          "height": 359
        }
      },
      "cell_type": "code",
      "source": [
        "chordTokens[0].head(10)"
      ],
      "execution_count": 0,
      "outputs": [
        {
          "output_type": "execute_result",
          "data": {
            "text/html": [
              "<div>\n",
              "<style scoped>\n",
              "    .dataframe tbody tr th:only-of-type {\n",
              "        vertical-align: middle;\n",
              "    }\n",
              "\n",
              "    .dataframe tbody tr th {\n",
              "        vertical-align: top;\n",
              "    }\n",
              "\n",
              "    .dataframe thead th {\n",
              "        text-align: right;\n",
              "    }\n",
              "</style>\n",
              "<table border=\"1\" class=\"dataframe\">\n",
              "  <thead>\n",
              "    <tr style=\"text-align: right;\">\n",
              "      <th></th>\n",
              "      <th>0</th>\n",
              "    </tr>\n",
              "  </thead>\n",
              "  <tbody>\n",
              "    <tr>\n",
              "      <th>0</th>\n",
              "      <td>G7</td>\n",
              "    </tr>\n",
              "    <tr>\n",
              "      <th>1</th>\n",
              "      <td>G7</td>\n",
              "    </tr>\n",
              "    <tr>\n",
              "      <th>2</th>\n",
              "      <td>G7</td>\n",
              "    </tr>\n",
              "    <tr>\n",
              "      <th>3</th>\n",
              "      <td>G7</td>\n",
              "    </tr>\n",
              "    <tr>\n",
              "      <th>4</th>\n",
              "      <td>G7</td>\n",
              "    </tr>\n",
              "    <tr>\n",
              "      <th>5</th>\n",
              "      <td>G7</td>\n",
              "    </tr>\n",
              "    <tr>\n",
              "      <th>6</th>\n",
              "      <td>G7</td>\n",
              "    </tr>\n",
              "    <tr>\n",
              "      <th>7</th>\n",
              "      <td>G7</td>\n",
              "    </tr>\n",
              "    <tr>\n",
              "      <th>8</th>\n",
              "      <td>G7</td>\n",
              "    </tr>\n",
              "    <tr>\n",
              "      <th>9</th>\n",
              "      <td>G7</td>\n",
              "    </tr>\n",
              "  </tbody>\n",
              "</table>\n",
              "</div>"
            ],
            "text/plain": [
              "    0\n",
              "0  G7\n",
              "1  G7\n",
              "2  G7\n",
              "3  G7\n",
              "4  G7\n",
              "5  G7\n",
              "6  G7\n",
              "7  G7\n",
              "8  G7\n",
              "9  G7"
            ]
          },
          "metadata": {
            "tags": []
          },
          "execution_count": 107
        }
      ]
    },
    {
      "metadata": {
        "id": "1Oq80ZGLG-hI",
        "colab_type": "text"
      },
      "cell_type": "markdown",
      "source": [
        ""
      ]
    }
  ]
}