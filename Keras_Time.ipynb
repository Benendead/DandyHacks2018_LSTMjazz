{
  "nbformat": 4,
  "nbformat_minor": 0,
  "metadata": {
    "colab": {
      "name": "Keras Time",
      "version": "0.3.2",
      "provenance": [],
      "include_colab_link": true
    },
    "kernelspec": {
      "name": "python3",
      "display_name": "Python 3"
    }
  },
  "cells": [
    {
      "cell_type": "markdown",
      "metadata": {
        "id": "view-in-github",
        "colab_type": "text"
      },
      "source": [
        "<a href=\"https://colab.research.google.com/github/Benned-H/LSTMjazz/blob/master/Keras_Time.ipynb\" target=\"_parent\"><img src=\"https://colab.research.google.com/assets/colab-badge.svg\" alt=\"Open In Colab\"/></a>"
      ]
    },
    {
      "metadata": {
        "id": "_VxmZvUCTmc_",
        "colab_type": "code",
        "colab": {}
      },
      "cell_type": "code",
      "source": [
        "import os\n",
        "import glob\n",
        "import pandas as pd\n",
        "import numpy as np"
      ],
      "execution_count": 0,
      "outputs": []
    },
    {
      "metadata": {
        "id": "cSXkGcfE-NgX",
        "colab_type": "code",
        "colab": {}
      },
      "cell_type": "code",
      "source": [
        "from google.colab import drive\n",
        "drive.mount('/content/gdrive')"
      ],
      "execution_count": 0,
      "outputs": []
    },
    {
      "metadata": {
        "id": "MFlwt2tyUTsb",
        "colab_type": "code",
        "outputId": "afcfd35d-e1c3-4d12-d15e-6db01cf4d01b",
        "colab": {
          "base_uri": "https://localhost:8080/",
          "height": 34
        }
      },
      "cell_type": "code",
      "source": [
        "!ls"
      ],
      "execution_count": 2,
      "outputs": [
        {
          "output_type": "stream",
          "text": [
            "gdrive\tsample_data\n"
          ],
          "name": "stdout"
        }
      ]
    },
    {
      "metadata": {
        "id": "m1YoQIYVTqar",
        "colab_type": "code",
        "colab": {}
      },
      "cell_type": "code",
      "source": [
        "os.chdir('gdrive/My Drive/Datasets')"
      ],
      "execution_count": 0,
      "outputs": []
    },
    {
      "metadata": {
        "id": "pmiQpBmNVcjI",
        "colab_type": "code",
        "outputId": "11c8d400-909e-4d16-a2b3-c392f67b64ea",
        "colab": {
          "base_uri": "https://localhost:8080/",
          "height": 34
        }
      },
      "cell_type": "code",
      "source": [
        "!ls"
      ],
      "execution_count": 4,
      "outputs": [
        {
          "output_type": "stream",
          "text": [
            "'Chords Bits'  'Chords Tokens'\t'Melodies 18-bit'  'Melodies Piano Roll'\n"
          ],
          "name": "stdout"
        }
      ]
    },
    {
      "metadata": {
        "id": "mFY2-lBNUfiu",
        "colab_type": "code",
        "outputId": "eb9d6b0f-6f40-47ce-b64d-00344da44582",
        "colab": {
          "base_uri": "https://localhost:8080/",
          "height": 34
        }
      },
      "cell_type": "code",
      "source": [
        "# We have all of our data in these subfolders.\n",
        "len(glob.glob(\"*/*.csv\"))"
      ],
      "execution_count": 5,
      "outputs": [
        {
          "output_type": "execute_result",
          "data": {
            "text/plain": [
              "2400"
            ]
          },
          "metadata": {
            "tags": []
          },
          "execution_count": 5
        }
      ]
    },
    {
      "metadata": {
        "id": "4MIWGuuTyDdh",
        "colab_type": "text"
      },
      "cell_type": "markdown",
      "source": [
        "# Additional Data Formatting Considerations"
      ]
    },
    {
      "metadata": {
        "id": "uqSsiGC9yF_n",
        "colab_type": "text"
      },
      "cell_type": "markdown",
      "source": [
        "Per my past summaries of previous works, we have this editted description of formatting data for Keras:"
      ]
    },
    {
      "metadata": {
        "id": "lFNbUI1MyP5H",
        "colab_type": "text"
      },
      "cell_type": "markdown",
      "source": [
        "We have dataset $D=(X, Y)$ of \"labelled\" chord progression segments. $X = \\{X_1, X_2, ..., X_{|X|}\\}$ and $Y = \\{Y_1, Y_2, ..., Y_{|X|}\\}$. We thus have $|X|$ chord progression segments, and each $Y_i$ is the corresponding melody label. My original piano matrix is of dimensions $(\\text{# timesteps}, |\\text{note range}|)$. In the 18-bit case, this is more simply $(\\text{# timesteps}, 18)$.\n",
        "\n",
        "First, we need to sample these matrices into $n$-timestep-long sequences of chord data (these are our $Y_i$). We'll then label each of these with the melody information from the $n+1$ timestep. The number of samples, $S$, will be the total length of each song (in timesteps) minus $n+1$."
      ]
    },
    {
      "metadata": {
        "id": "A_Lh6E9d1Mq8",
        "colab_type": "text"
      },
      "cell_type": "markdown",
      "source": [
        "Also, in the work of Brunner et al. (2017), their LSTM received vectors of piano rolls with these appended features:\n",
        "1. Embedded chord vector of the next time step.\n",
        "2. Embedded chord vector of the chord following that chord.\n",
        "3. A binary counter from 0 to 7 each bar."
      ]
    },
    {
      "metadata": {
        "id": "Ydoa7p-R1poJ",
        "colab_type": "text"
      },
      "cell_type": "markdown",
      "source": [
        "In my case, I would need to count to 48 OR simplify the bits a bit to give information only about on-beat, off-beat, sixteenth, and triplet information. What about:\n",
        "\n",
        "---\n",
        "Bit 8 | Bit 7 | Bit 6 | Bit 5 | Bit 4 | Bit 3 | Bit 2 | Bit 1\n",
        "--- | ---\n",
        "Third triplet | Second triplet | Any triplet | On any down-beat | On any half-note | On any beat | On any 8th | On any 16th"
      ]
    },
    {
      "metadata": {
        "id": "7ONeG0NT3OUR",
        "colab_type": "text"
      },
      "cell_type": "markdown",
      "source": [
        "So I'd calculate these based on the offset within each measure. The offset would range from 0 to 47:\n",
        "\n",
        "---\n",
        "Bit 8 | Bit 7 | Bit 6 | Bit 5 | Bit 4 | Bit 3 | Bit 2 | Bit 1\n",
        "--- | ---\n",
        "Offset % 12 = 8 | Offset % 12 = 4 | Offset % 4 = 0 | Offset % 48 = 0 | Offset % 24 = 0 | Offset % 12 = 0 | Offset % 6 = 0  | Offset % 3 = 0"
      ]
    },
    {
      "metadata": {
        "id": "nTf6At9t7WG4",
        "colab_type": "code",
        "colab": {}
      },
      "cell_type": "code",
      "source": [
        "def binaryCounter(offset):\n",
        "  \"\"\"\n",
        "  Returns a DataFrame based on the above encodings given an offset.\n",
        "  \"\"\"\n",
        "  bit8 = (offset % 12 == 8)\n",
        "  bit7 = (offset % 12 == 4)\n",
        "  bit6 = (offset % 4 == 0)\n",
        "  bit5 = (offset % 48 == 0)\n",
        "  bit4 = (offset % 24 == 0)\n",
        "  bit3 = (offset % 12 == 0)\n",
        "  bit2 = (offset % 6 == 0)\n",
        "  bit1 = (offset % 3 == 0)\n",
        "  return pd.DataFrame(np.array([bit8, bit7, bit6, bit5, bit4, bit3, bit2, bit1])).T"
      ],
      "execution_count": 0,
      "outputs": []
    },
    {
      "metadata": {
        "id": "PNcH3hljVt29",
        "colab_type": "code",
        "colab": {
          "base_uri": "https://localhost:8080/",
          "height": 80
        },
        "outputId": "3ce25b8f-475b-4fa4-fcc6-31507b82f738"
      },
      "cell_type": "code",
      "source": [
        "binaryCounter(4)"
      ],
      "execution_count": 17,
      "outputs": [
        {
          "output_type": "execute_result",
          "data": {
            "text/html": [
              "<div>\n",
              "<style scoped>\n",
              "    .dataframe tbody tr th:only-of-type {\n",
              "        vertical-align: middle;\n",
              "    }\n",
              "\n",
              "    .dataframe tbody tr th {\n",
              "        vertical-align: top;\n",
              "    }\n",
              "\n",
              "    .dataframe thead th {\n",
              "        text-align: right;\n",
              "    }\n",
              "</style>\n",
              "<table border=\"1\" class=\"dataframe\">\n",
              "  <thead>\n",
              "    <tr style=\"text-align: right;\">\n",
              "      <th></th>\n",
              "      <th>0</th>\n",
              "      <th>1</th>\n",
              "      <th>2</th>\n",
              "      <th>3</th>\n",
              "      <th>4</th>\n",
              "      <th>5</th>\n",
              "      <th>6</th>\n",
              "      <th>7</th>\n",
              "    </tr>\n",
              "  </thead>\n",
              "  <tbody>\n",
              "    <tr>\n",
              "      <th>0</th>\n",
              "      <td>False</td>\n",
              "      <td>True</td>\n",
              "      <td>True</td>\n",
              "      <td>False</td>\n",
              "      <td>False</td>\n",
              "      <td>False</td>\n",
              "      <td>False</td>\n",
              "      <td>False</td>\n",
              "    </tr>\n",
              "  </tbody>\n",
              "</table>\n",
              "</div>"
            ],
            "text/plain": [
              "       0     1     2      3      4      5      6      7\n",
              "0  False  True  True  False  False  False  False  False"
            ]
          },
          "metadata": {
            "tags": []
          },
          "execution_count": 17
        }
      ]
    }
  ]
}