{
  "nbformat": 4,
  "nbformat_minor": 0,
  "metadata": {
    "colab": {
      "name": "Understanding LSTMs",
      "version": "0.3.2",
      "provenance": [],
      "collapsed_sections": [
        "wjH5HyuDB8GM",
        "zxaNbKNijLyg",
        "n9HMLzwelVP1",
        "CFJYCp6Yox2f",
        "4oompjF8u_53",
        "3TdT0A9VxMjl",
        "ClGMb1RQm3UJ",
        "wfWNAwGVwsIc"
      ]
    },
    "kernelspec": {
      "name": "python3",
      "display_name": "Python 3"
    }
  },
  "cells": [
    {
      "metadata": {
        "id": "wjH5HyuDB8GM",
        "colab_type": "text"
      },
      "cell_type": "markdown",
      "source": [
        "# Source 1 : [Understanding LSTM Networks](http://colah.github.io/posts/2015-08-Understanding-LSTMs/)"
      ]
    },
    {
      "metadata": {
        "id": "zxaNbKNijLyg",
        "colab_type": "text"
      },
      "cell_type": "markdown",
      "source": [
        "## Recurrent Neural Networks (RNNs)"
      ]
    },
    {
      "metadata": {
        "id": "Y8DZis-JjRgf",
        "colab_type": "text"
      },
      "cell_type": "markdown",
      "source": [
        "Traditional ANNs are unable to perceive the sequential context of data points, which is of course a fundamental ability in comprehending all sorts of things."
      ]
    },
    {
      "metadata": {
        "id": "1Bi0Q_lQjnX0",
        "colab_type": "text"
      },
      "cell_type": "markdown",
      "source": [
        "RNNs address this by including loops where data can persist. For input $x_t$, the network outputs some $h_t$. On the next input, $x_{t+1}$, the RNN receives persisting data from earlier inputs."
      ]
    },
    {
      "metadata": {
        "id": "rNYgj2Fikrva",
        "colab_type": "text"
      },
      "cell_type": "markdown",
      "source": [
        "![RNN unrolled](http://colah.github.io/posts/2015-08-Understanding-LSTMs/img/RNN-unrolled.png)"
      ]
    },
    {
      "metadata": {
        "id": "ZDr1K-GxkzOe",
        "colab_type": "text"
      },
      "cell_type": "markdown",
      "source": [
        "RNNs, with this sequential architecture, have been successfully applied to numerous problems including speech recognition, translation, and image captioning. That said, LSTMs have been crucial for these successes."
      ]
    },
    {
      "metadata": {
        "id": "n9HMLzwelVP1",
        "colab_type": "text"
      },
      "cell_type": "markdown",
      "source": [
        "## RNNs: Bad at Long-Term Dependencies"
      ]
    },
    {
      "metadata": {
        "id": "shxsMUmKljWU",
        "colab_type": "text"
      },
      "cell_type": "markdown",
      "source": [
        "Based on what we've seen, RNNs should be able to connect previously seen information to their present task. As an example, say the network needs to predict the next word in a sentence based on previous words. If it's given \"the clouds are in the ____,\" it's pretty obvious that the next word will be \"sky.\" The immediate context enables the RNN to use the past information."
      ]
    },
    {
      "metadata": {
        "id": "6eNnz5OTmhLN",
        "colab_type": "text"
      },
      "cell_type": "markdown",
      "source": [
        "Consider a much longer paragraph beginning, \"I grew up in France...\" and ending with \"I speak fluent ____.\" Recent context might inform the RNN that the next word will be a language. Unfortunately, the context of France is a much more distant memory."
      ]
    },
    {
      "metadata": {
        "id": "eTPNxOxQnUj9",
        "colab_type": "text"
      },
      "cell_type": "markdown",
      "source": [
        "As this gap grows, RNNs are unable to connect the distant information. In theory, they're capable of handling these \"long-term dependencies,\" but in practice they're unable to learn the exact parameters to do so on their own. To quote the title of Yoshua Bengio's [1994 paper](http://ai.dinfo.unifi.it/paolo//ps/tnn-94-gradient.pdf) on the topic, \"learning long-term dependencies with gradient descent is difficult.\""
      ]
    },
    {
      "metadata": {
        "id": "CFJYCp6Yox2f",
        "colab_type": "text"
      },
      "cell_type": "markdown",
      "source": [
        "## LSTMs: Good at Long-Term Dependencies"
      ]
    },
    {
      "metadata": {
        "id": "z2Fo5l0zo_0K",
        "colab_type": "text"
      },
      "cell_type": "markdown",
      "source": [
        "Long Short Term Memory networks - shortened to \"LSTMs\" - are a special kind of RNN capable of long-term dependencies. They were introduced in 1997 in [this paper](http://www.bioinf.jku.at/publications/older/2604.pdf). LSTMs were designed to solve the long-term dependency problem, and thus remembering information for a long time is basically their default behavior."
      ]
    },
    {
      "metadata": {
        "id": "Kzw_OlG9p1sZ",
        "colab_type": "text"
      },
      "cell_type": "markdown",
      "source": [
        "Consider the structure of a typical RNN:"
      ]
    },
    {
      "metadata": {
        "id": "MAbY-vDQp67o",
        "colab_type": "text"
      },
      "cell_type": "markdown",
      "source": [
        "![RNN Chain](http://colah.github.io/posts/2015-08-Understanding-LSTMs/img/LSTM3-SimpleRNN.png)"
      ]
    },
    {
      "metadata": {
        "id": "uMf66vPbqOs5",
        "colab_type": "text"
      },
      "cell_type": "markdown",
      "source": [
        "In the RNN, the chain of repeating modules is quite simple: the output of each layer is combined with the next input. We then $\\text{tanh}$ the whole thing.\n",
        "\n",
        "For clarity, consider another RNN illustration:"
      ]
    },
    {
      "metadata": {
        "id": "Kx0OFOa3rOJv",
        "colab_type": "text"
      },
      "cell_type": "markdown",
      "source": [
        "![RNN Alternative View](http://www.wildml.com/wp-content/uploads/2015/09/rnn.jpg)"
      ]
    },
    {
      "metadata": {
        "id": "_AbbuhXJrpks",
        "colab_type": "text"
      },
      "cell_type": "markdown",
      "source": [
        "Notation from [another source](http://www.wildml.com/2015/09/recurrent-neural-networks-tutorial-part-1-introduction-to-rnns/):\n",
        "* $x_t$ is input at time $t$.\n",
        "* $s_t$ is the hidden state at time $t$. It's the memory of the RNN and is calculated as $s_t=f(Ux_t+Ws_{t+1})$. $f$ is a nonlinearity like $\\text{tanh}$ or $\\text{ReLU}$.\n",
        "* $o_t$ is the output at time $t$. As an example, it might be $\\text{softmax}(Vs_t)$ if we wanted to select the highest probabilty of the options in the output vector.\n",
        "* $U$, $V$, and $W$ are the same for each module, as can be seen on the left."
      ]
    },
    {
      "metadata": {
        "id": "hLSbTo_Yp7D9",
        "colab_type": "text"
      },
      "cell_type": "markdown",
      "source": [
        "Now consider the structure of an LSTM:"
      ]
    },
    {
      "metadata": {
        "id": "dOOU11K2qHSR",
        "colab_type": "text"
      },
      "cell_type": "markdown",
      "source": [
        "![LSTM Chain](http://colah.github.io/posts/2015-08-Understanding-LSTMs/img/LSTM3-chain.png)"
      ]
    },
    {
      "metadata": {
        "id": "DzUmIC-AuVlf",
        "colab_type": "text"
      },
      "cell_type": "markdown",
      "source": [
        "LSTMs instead have four neural network layers per module. The notation used is as follows:"
      ]
    },
    {
      "metadata": {
        "id": "6lLhda45uuK2",
        "colab_type": "text"
      },
      "cell_type": "markdown",
      "source": [
        "![RNN Notation](http://colah.github.io/posts/2015-08-Understanding-LSTMs/img/LSTM2-notation.png)"
      ]
    },
    {
      "metadata": {
        "id": "OR_iHXwIuyzS",
        "colab_type": "text"
      },
      "cell_type": "markdown",
      "source": [
        "We'll go into the specifics of the LSTM structure later."
      ]
    },
    {
      "metadata": {
        "id": "4oompjF8u_53",
        "colab_type": "text"
      },
      "cell_type": "markdown",
      "source": [
        "## The Core Idea of LSTMs"
      ]
    },
    {
      "metadata": {
        "id": "-iTgUiwmvDlo",
        "colab_type": "text"
      },
      "cell_type": "markdown",
      "source": [
        "The centerpiece of the LSTM is the cell state, seen as the top line in each module. These run straight down the chain, with optional changes occasionally altering the information passed along. The few ways the LSTM can add or remove data from the cell state are called gates."
      ]
    },
    {
      "metadata": {
        "id": "5kK_8661vo2I",
        "colab_type": "text"
      },
      "cell_type": "markdown",
      "source": [
        "Gates optionally let information through. They're composed of a sigmoid layer and a pointwise multiplication operation. Sigmoid (by definition) outputs numbers zero to one, where a zero says \"change nothing in the cell state\" and a one meaning \"let everything through!\""
      ]
    },
    {
      "metadata": {
        "id": "9qgB5R5mwPQH",
        "colab_type": "text"
      },
      "cell_type": "markdown",
      "source": [
        "LSTMs have three of these gates:\n",
        "1. Forget gate\n",
        "2. Input gate\n",
        "3. Output gate"
      ]
    },
    {
      "metadata": {
        "id": "3TdT0A9VxMjl",
        "colab_type": "text"
      },
      "cell_type": "markdown",
      "source": [
        "## Step-by-step Walkthrough"
      ]
    },
    {
      "metadata": {
        "id": "N9-kMFbixQEE",
        "colab_type": "text"
      },
      "cell_type": "markdown",
      "source": [
        "Step 1: Decide what information in the cell state should be thrown away. This is made by the \"forget gate layer.\" Looks at $h_{t-1}$ and $x_t$ and outputs a number 0-1 for each number in cell state $C_{t-1}$. 1 says to keep and 0 says to completely remove.  \n",
        "![Forget Gate Graphic](http://colah.github.io/posts/2015-08-Understanding-LSTMs/img/LSTM3-focus-f.png)"
      ]
    },
    {
      "metadata": {
        "id": "1VgMCsJBiucT",
        "colab_type": "text"
      },
      "cell_type": "markdown",
      "source": [
        "Step 2: Decide what information we should store in the cell state. This has two subprocesses: a $\\text{sigmoid}$ layer called the \"input gate layer\" decides which values to update, and a $\\text{tanh}$ layer creates a vector of candidate values, $\\tilde{C}_t$,  as potential options to add to the cell state.  \n",
        "![Input Gate Layer Graphic](http://colah.github.io/posts/2015-08-Understanding-LSTMs/img/LSTM3-focus-i.png)"
      ]
    },
    {
      "metadata": {
        "id": "715erDvpkHkR",
        "colab_type": "text"
      },
      "cell_type": "markdown",
      "source": [
        "Step 3: Update the old cell state $C_{t-1}$ into new cell state $C_t$. We already have *what* to do based on the previous steps, but we now *do* it:  \n",
        "1. Multiply $C_{t-1}$ by $f_t$, the forget gate's output. This \"forgets\" what we no longer need.\n",
        "2. Add $i_t*\\tilde{C}_t$ to this result. The new candidate values, scaled by their importance, were what we'd decided was worth remembering from this step.  \n",
        "![Update Cell State Graphic](http://colah.github.io/posts/2015-08-Understanding-LSTMs/img/LSTM3-focus-C.png)"
      ]
    },
    {
      "metadata": {
        "id": "jV605YPsi3pR",
        "colab_type": "text"
      },
      "cell_type": "markdown",
      "source": [
        "Step 4: Decide what we'd like to output. This will be a filtered version of our cell state:\n",
        "1. We use a sigmoid layer over to determine which parts of the cell state to output.\n",
        "2. We put the cell state through a $\\text{tanh}$ layer to push the values between -1 and 1.\n",
        "3. Multiply the sigmoid's result by the tanh scaling as to output only what we decided on.  \n",
        "![Output Layers Graphic](http://colah.github.io/posts/2015-08-Understanding-LSTMs/img/LSTM3-focus-o.png)"
      ]
    },
    {
      "metadata": {
        "id": "ClGMb1RQm3UJ",
        "colab_type": "text"
      },
      "cell_type": "markdown",
      "source": [
        "## Variants on LSTMs"
      ]
    },
    {
      "metadata": {
        "id": "V1F7OXh0m5Ai",
        "colab_type": "text"
      },
      "cell_type": "markdown",
      "source": [
        "We've thus far described \"a pretty normal LSTM,\" but in reality almost every paper using LSTMs uses a slightly different version."
      ]
    },
    {
      "metadata": {
        "id": "a9c41X_wnhUs",
        "colab_type": "text"
      },
      "cell_type": "markdown",
      "source": [
        "**Peephole Connections** - Introduced in 2000 by [Gers & Schmidhuber](ftp://ftp.idsia.ch/pub/juergen/TimeCount-IJCNN2000.pdf). These additional connections allow the gate layers to look at the cell state. Many papers only give some gates peepholes and not others.  \n",
        "![Peephole Connections Graphic](http://colah.github.io/posts/2015-08-Understanding-LSTMs/img/LSTM3-var-peepholes.png)"
      ]
    },
    {
      "metadata": {
        "id": "MeoXeVI_pSDd",
        "colab_type": "text"
      },
      "cell_type": "markdown",
      "source": [
        "**Coupled Forget and Input Gates** - Instead of separately deciding where to forget or add new information, we combine those decisions. We only forget something if we're going to input something in its place.  \n",
        "![Coupled Forget/Input Gates Graphic](http://colah.github.io/posts/2015-08-Understanding-LSTMs/img/LSTM3-var-tied.png)"
      ]
    },
    {
      "metadata": {
        "id": "tM8rHFuor_i6",
        "colab_type": "text"
      },
      "cell_type": "markdown",
      "source": [
        "**GRU** - Gated Recurrent Units, or GRUs, were introduced by [Cho, et al.](https://arxiv.org/pdf/1406.1078v3.pdf) in 2014. These modules combine the forget and input gates into a single \"update gate.\" They also merge the cell and hidden states, among other changes. The result is simpler than standard LSTMs and was growing in popularity as of 2015.  \n",
        "![GRU Graphic](http://colah.github.io/posts/2015-08-Understanding-LSTMs/img/LSTM3-var-GRU.png)"
      ]
    },
    {
      "metadata": {
        "id": "7D4jq0P_ulkp",
        "colab_type": "text"
      },
      "cell_type": "markdown",
      "source": [
        "**Additional Variants** - There are numerous other LSTM variants. Some of these include [Depth Gated RNNs](https://arxiv.org/pdf/1508.03790v2.pdf) or [Clockwork RNNs](https://arxiv.org/pdf/1402.3511v1.pdf). In general, most variants achieve pretty similar results, but of course [a few can do better than LSTMs](http://proceedings.mlr.press/v37/jozefowicz15.pdf) on certain tasks."
      ]
    },
    {
      "metadata": {
        "id": "E3nCLQKeyFBL",
        "colab_type": "text"
      },
      "cell_type": "markdown",
      "source": [
        ""
      ]
    },
    {
      "metadata": {
        "id": "wfWNAwGVwsIc",
        "colab_type": "text"
      },
      "cell_type": "markdown",
      "source": [
        "## Conclusion"
      ]
    },
    {
      "metadata": {
        "id": "F4Qdm57hxGyb",
        "colab_type": "text"
      },
      "cell_type": "markdown",
      "source": [
        "LSTMs are responsible for many of the achievements being made with RNNs. The model may be complex, but hopefully it's a bit more approachable now. The next step, in many researchers' opinions, is the use of attention in ML/DL models."
      ]
    },
    {
      "metadata": {
        "id": "aqlWMQ23nV6x",
        "colab_type": "text"
      },
      "cell_type": "markdown",
      "source": [
        "# Source 2: [Beginner's Guide to LSTMs and RNNs](https://skymind.ai/wiki/lstm)"
      ]
    },
    {
      "metadata": {
        "id": "vSR8T4u1nfAK",
        "colab_type": "text"
      },
      "cell_type": "markdown",
      "source": [
        "**Summary**  \n",
        "The goal of this article is to give intuitions about how RNNs function, as well as the purpose and structure of LSTMs, a popular variation on RNNs.  \n",
        "Recurrent networks are designed to recognize patterns in sequential data, such as text, genomes, handwriting, or time series data. They take time, or at least the sequence of data, into account. This gives them a temporal dimension."
      ]
    },
    {
      "metadata": {
        "id": "xsnV7cNzscVS",
        "colab_type": "text"
      },
      "cell_type": "markdown",
      "source": [
        "## Review of Feedfoward Networks"
      ]
    },
    {
      "metadata": {
        "id": "aEzaV250n9mD",
        "colab_type": "text"
      },
      "cell_type": "markdown",
      "source": [
        "Before getting into RNNs, let's establish a firm understanding of the more basic feedforward network. These are both named after the way they channel data: one *feeds data forward* through the network, where information never touches a node twice, while the other cycles data through a loop *recurrently*."
      ]
    },
    {
      "metadata": {
        "id": "HgcSgu4mrpbT",
        "colab_type": "text"
      },
      "cell_type": "markdown",
      "source": [
        "Feedforward Network:  \n",
        "![Feedforward Network](https://www.researchgate.net/profile/Ramon_Quiza/publication/234055177/figure/fig1/AS:300092981563410@1448559150651/Sample-of-a-feed-forward-neural-network.png)"
      ]
    },
    {
      "metadata": {
        "id": "duTzn4-Ap6vg",
        "colab_type": "text"
      },
      "cell_type": "markdown",
      "source": [
        "In a feedforward network, input examples are fed into the network and transformed into some output. In the case of supervised learning, this output might be a label for the input (classification), or a numerical estimate (regression). The network is trained to minimize its error, or how far off its guesses are from the correct outputs. Once trained, the network should be able to correctly classify new examples it's never seen before."
      ]
    },
    {
      "metadata": {
        "id": "AGT0glfcqvy2",
        "colab_type": "text"
      },
      "cell_type": "markdown",
      "source": [
        "Furthermore, as the network classifies these hypothetical new examples, its prediction on one image won't impact its prediction on the next. Each example is judged independent of order or sequence, i.e. the network has no sense of time."
      ]
    },
    {
      "metadata": {
        "id": "VgIEPoEtse0o",
        "colab_type": "text"
      },
      "cell_type": "markdown",
      "source": [
        "## Recurrent Networks"
      ]
    },
    {
      "metadata": {
        "id": "WMMTzbLpsjn-",
        "colab_type": "text"
      },
      "cell_type": "markdown",
      "source": [
        "But there are some cases where the order of data matters. Recurrent neural networks, or RNNs, are one way to handle this need. RNNs consider their current input *as well as* what they've previously seen."
      ]
    },
    {
      "metadata": {
        "id": "YHB0OnE_tbKs",
        "colab_type": "text"
      },
      "cell_type": "markdown",
      "source": [
        "We can express this sense of time by considering each example as a given time step. We say the current decision is at time step $t$, and thus the previous decision was at time $t-1$. Thus any decisions a time $t$ consider data from $t-1$, or even earlier, depending on the RNN's architecture."
      ]
    },
    {
      "metadata": {
        "id": "4BRpcC2IuO6x",
        "colab_type": "text"
      },
      "cell_type": "markdown",
      "source": [
        "RNNs, unlike feedforward networks, receive their past decisions in that feedback loop. These loops give RNNs something like a memory, which is only useful given sequential data. In such cases, RNNs can perform tasks feedforward networks cannot."
      ]
    },
    {
      "metadata": {
        "id": "hcj3NQFAvc_z",
        "colab_type": "text"
      },
      "cell_type": "markdown",
      "source": [
        "The sequential information between time steps is preserved in the RNNs *hidden state*. This state spans many time steps, carrying important information forward through time. Thus RNNs can hypothetically detect patterns across long stretches of time. These are called \"long-term dependencies,\" as an event much later in time might be the result of one or more previous events.  \n",
        "One way to conceptualize it is that RNNs allow us to share weights over time."
      ]
    },
    {
      "metadata": {
        "id": "Pq5pS1spyD_b",
        "colab_type": "text"
      },
      "cell_type": "markdown",
      "source": [
        "## Formalizing RNNs"
      ]
    },
    {
      "metadata": {
        "id": "QQkVC8h2wdud",
        "colab_type": "text"
      },
      "cell_type": "markdown",
      "source": [
        "Mathematically, we express this memory as:  \n",
        "$h_t=\\phi(Wx_t+Uh_{t-1})$,  \n",
        "where the hidden state at time $t$ is $h_t$. This value is a function of the input at the same time step, $x_t$, modified by some weight matrix $W$. This is added to the previous hidden state, $h_{t-1}$, multiplied by another weight matrix $U$. These matrices are also known as transition matrices, similar to Markov chains (**???**)."
      ]
    },
    {
      "metadata": {
        "id": "xbb3QMymyCWN",
        "colab_type": "text"
      },
      "cell_type": "markdown",
      "source": [
        "In an intuitive sense, these weight matrices allow us to determine the importance of both the present input and the past hidden state. We can use backpropagation to take the error at each time step and adjust the weights to minimize said error."
      ]
    },
    {
      "metadata": {
        "id": "W72s7mjrzBqm",
        "colab_type": "text"
      },
      "cell_type": "markdown",
      "source": [
        "The sum of the two terms is then squashed into a specific range by the $\\phi$ function. This can either by $sigmoid$ or $tanh$, **unsure why either would be preferable**."
      ]
    },
    {
      "metadata": {
        "id": "Tldu4lRK0AvC",
        "colab_type": "text"
      },
      "cell_type": "markdown",
      "source": [
        "Either way, because this feedback loop occurs at every time step, $h_t$ can contain data not only from $h_{t-1}$ but also all those that preceded $h_{t-1}$ as far back as the RNN's memory persists."
      ]
    },
    {
      "metadata": {
        "id": "NyBOTXQldjkX",
        "colab_type": "text"
      },
      "cell_type": "markdown",
      "source": [
        "## Backpropagation Through Time (BPTT)"
      ]
    },
    {
      "metadata": {
        "id": "3NPGVEJ6dtf6",
        "colab_type": "text"
      },
      "cell_type": "markdown",
      "source": [
        "In order to make increase the accuracy of our predictions, we need to somehow change the $W$ and $U$ matrices. Our goal in doing this will be to give certain features of the input the importance they deserve in our predictions, and to store important features in the hidden state for future time steps."
      ]
    },
    {
      "metadata": {
        "id": "c0ynH6WFeHrL",
        "colab_type": "text"
      },
      "cell_type": "markdown",
      "source": [
        "As in a typical neural network, we can use backpropagation of error and gradient descent to improve these weight matrices. In a feedforward network, this process moves the final error backwards through the network, assigning each of the weights a \"responsibility\" for their portion of the error. This is done by calculating their partial derivatives, $\\delta{E}/\\delta{w}$, with respect to the error. We then adjust the weights accordingly."
      ]
    },
    {
      "metadata": {
        "id": "1bjQlfRJYogv",
        "colab_type": "text"
      },
      "cell_type": "markdown",
      "source": [
        "Recurrent networks extend this backpropagation through time. Time here means the calculations between each step of the RNN, which is all backprop needs to work. All neural networks are nested composite functions, like $f(g(h(x)))$. The time element in RNNs only extends the series of functions for which we need to calculate the derivative. The chain rule doesn't mind."
      ]
    },
    {
      "metadata": {
        "id": "YiBwgy-1Zafp",
        "colab_type": "text"
      },
      "cell_type": "markdown",
      "source": [
        "**Truncated BPTT** - Truncated BPTT approximates full BPTT and is thus preferred for longer sequences. It's less computationally intensive, but its gradient can only flow so far back and it thus cannot learn quite as long dependencies as BPTT."
      ]
    },
    {
      "metadata": {
        "id": "dyxuCnpsaDBm",
        "colab_type": "text"
      },
      "cell_type": "markdown",
      "source": [
        "## Vanishing/Exploding Gradients"
      ]
    },
    {
      "metadata": {
        "id": "BSiYuQPPaGkU",
        "colab_type": "text"
      },
      "cell_type": "markdown",
      "source": [
        "Recurrent nets are rather old, in fact so much so that even in the early 1990s the *vanishing gradient problem* had emerged as an issue with RNN performance. Recall that the gradient is what allows us to adjust the network's weights to decrease error. The issue comes from RNNs which need to recall extremely distant inputs: the many stages of multiplication from derivatives can make a gradient vanish or explode in just a few steps. The RNN's time steps exacerbate this problem even more so than in traditional networks."
      ]
    },
    {
      "metadata": {
        "id": "wnyHnH9rbqd4",
        "colab_type": "text"
      },
      "cell_type": "markdown",
      "source": [
        "Exploding gradients treat weights as more important than they are, saturating their meaning. The solution here is to truncate or squash the gradient, but vanishing gradients are more difficult to resolve. As you $\\text{sigmoid}$ something over and over, all data is basically lost."
      ]
    },
    {
      "metadata": {
        "id": "gZSZlRgSdOQN",
        "colab_type": "text"
      },
      "cell_type": "markdown",
      "source": [
        "## LSTMs"
      ]
    },
    {
      "metadata": {
        "id": "Rf_JUAZgdQiQ",
        "colab_type": "text"
      },
      "cell_type": "markdown",
      "source": [
        "In the mid-90s, Hochreiter and Schmidhuber proposed LSTMs as a solution to the vanishing gradient problem. LSTMs preserve the error across many time steps, thus allowing recurrent networks to continue across many more time steps. This makes LSTMs particularly useful, as they can confront environments with sparse or delayed signals."
      ]
    },
    {
      "metadata": {
        "id": "YGDwS14sd88w",
        "colab_type": "text"
      },
      "cell_type": "markdown",
      "source": [
        "LSTMs achieve this improvement by storing information outside the normal layer-to-layer flow of an RNN. They keep a gated cell where data can be stored, written in, read out, or erased. Each of these decisions is made by the LSTM based on what it learns over time. These decisions are analog, made with gates which enact element-wise multiplication using numbers from a $\\text{sigmoid}$ and thus between 0 and 1."
      ]
    },
    {
      "metadata": {
        "id": "GrAY_YHCe8Db",
        "colab_type": "text"
      },
      "cell_type": "markdown",
      "source": [
        "These gates store their own weights to make these decisions, learned over time using the same recurrent backpropagation. Thus we have the benefits of differentiability while avoiding the vanishing gradient of long-term constant-access memory."
      ]
    },
    {
      "metadata": {
        "id": "xOgt_IY3gmdz",
        "colab_type": "text"
      },
      "cell_type": "markdown",
      "source": [
        "The article's diagram was truly awful, but here's a second one it provided:  \n",
        "![LSTM Alternative Image](https://skymind.ai/images/wiki/greff_lstm_diagram.png)"
      ]
    },
    {
      "metadata": {
        "id": "ECUrRbLrhrmK",
        "colab_type": "text"
      },
      "cell_type": "markdown",
      "source": [
        "It's important to note where the LSTM's memory cell uses multiplication versus addition. The central plus sign is the *magic secret* of LSTMs. By adding the new change to the cell state instead of multiplying, the derivative behaves much more nicely."
      ]
    },
    {
      "metadata": {
        "id": "knoMv8bNi14q",
        "colab_type": "text"
      },
      "cell_type": "markdown",
      "source": [
        "Different sets of weights filter the input for the input, forget, and output gates. The forget gate is effectively linear until a decision is made to erase information. It's been found that [adding a bias of 1](http://proceedings.mlr.press/v37/jozefowicz15.pdf) to the forget gate improves LSTM performance. The utility of a forget gate is that it allows the LSTM to clear between documents, for example, or perhaps songs."
      ]
    },
    {
      "metadata": {
        "id": "yQfhnmmckd0D",
        "colab_type": "text"
      },
      "cell_type": "markdown",
      "source": [
        "It's important to note that RNNs can map one input to many (one image to many words in a caption), many to many (translation), or many to one (classifying a voice's gender)."
      ]
    },
    {
      "metadata": {
        "id": "DQvGDqgykxWa",
        "colab_type": "text"
      },
      "cell_type": "markdown",
      "source": [
        "## Capturing Diverse Time Scales and Remote Dependencies"
      ]
    },
    {
      "metadata": {
        "id": "THjU0rAkk1aI",
        "colab_type": "text"
      },
      "cell_type": "markdown",
      "source": [
        "One may wonder what the utility is of input gates protecting a memory cell from new data or output gates preventing it from affecting certain outputs. The utility is that these allow the RNN to work on different scales of time simultaneously."
      ]
    },
    {
      "metadata": {
        "id": "ZWPSOahblcnX",
        "colab_type": "text"
      },
      "cell_type": "markdown",
      "source": [
        "CONTINUE"
      ]
    },
    {
      "metadata": {
        "id": "oIaTzn5kmrNb",
        "colab_type": "text"
      },
      "cell_type": "markdown",
      "source": [
        "# Future Things To Read"
      ]
    },
    {
      "metadata": {
        "id": "6u6U1QZPxTIC",
        "colab_type": "text"
      },
      "cell_type": "markdown",
      "source": [
        "On this: https://skymind.ai/wiki/lstm\n",
        "\n",
        "Future:\n",
        "https://medium.com/mlreview/understanding-lstm-and-its-diagrams-37e2f46f1714\n",
        "https://towardsdatascience.com/understanding-lstm-and-its-quick-implementation-in-keras-for-sentiment-analysis-af410fd85b47\n",
        "https://towardsdatascience.com/recurrent-neural-networks-and-lstm-4b601dd822a5\n",
        "https://towardsdatascience.com/illustrated-guide-to-lstms-and-gru-s-a-step-by-step-explanation-44e9eb85bf21  \n",
        "Textbook: http://www.felixgers.de/papers/phd.pdf"
      ]
    }
  ]
}